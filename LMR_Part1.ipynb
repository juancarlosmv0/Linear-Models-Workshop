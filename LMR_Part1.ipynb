{
  "nbformat": 4,
  "nbformat_minor": 0,
  "metadata": {
    "colab": {
      "provenance": []
    },
    "kernelspec": {
      "name": "ir",
      "display_name": "R"
    },
    "language_info": {
      "name": "R"
    }
  },
  "cells": [
    {
      "cell_type": "markdown",
      "source": [
        "# Ejercicio 2"
      ],
      "metadata": {
        "id": "Gganu-9Nwwdk"
      }
    },
    {
      "cell_type": "code",
      "execution_count": null,
      "metadata": {
        "colab": {
          "base_uri": "https://localhost:8080/",
          "height": 1000
        },
        "id": "XCGYttEN8yZ7",
        "outputId": "75b626fe-4cce-4976-fe73-4f821aad4069"
      },
      "outputs": [
        {
          "output_type": "display_data",
          "data": {
            "text/plain": [
              "     count       spray \n",
              " Min.   : 0.00   A:12  \n",
              " 1st Qu.: 3.00   B:12  \n",
              " Median : 7.00   C:12  \n",
              " Mean   : 9.50   D:12  \n",
              " 3rd Qu.:14.25   E:12  \n",
              " Max.   :26.00   F:12  "
            ]
          },
          "metadata": {}
        },
        {
          "output_type": "display_data",
          "data": {
            "text/html": [
              "<table class=\"dataframe\">\n",
              "<caption>A data.frame: 72 × 2</caption>\n",
              "<thead>\n",
              "\t<tr><th scope=col>count</th><th scope=col>spray</th></tr>\n",
              "\t<tr><th scope=col>&lt;dbl&gt;</th><th scope=col>&lt;fct&gt;</th></tr>\n",
              "</thead>\n",
              "<tbody>\n",
              "\t<tr><td>10</td><td>A</td></tr>\n",
              "\t<tr><td> 7</td><td>A</td></tr>\n",
              "\t<tr><td>20</td><td>A</td></tr>\n",
              "\t<tr><td>14</td><td>A</td></tr>\n",
              "\t<tr><td>14</td><td>A</td></tr>\n",
              "\t<tr><td>12</td><td>A</td></tr>\n",
              "\t<tr><td>10</td><td>A</td></tr>\n",
              "\t<tr><td>23</td><td>A</td></tr>\n",
              "\t<tr><td>17</td><td>A</td></tr>\n",
              "\t<tr><td>20</td><td>A</td></tr>\n",
              "\t<tr><td>14</td><td>A</td></tr>\n",
              "\t<tr><td>13</td><td>A</td></tr>\n",
              "\t<tr><td>11</td><td>B</td></tr>\n",
              "\t<tr><td>17</td><td>B</td></tr>\n",
              "\t<tr><td>21</td><td>B</td></tr>\n",
              "\t<tr><td>11</td><td>B</td></tr>\n",
              "\t<tr><td>16</td><td>B</td></tr>\n",
              "\t<tr><td>14</td><td>B</td></tr>\n",
              "\t<tr><td>17</td><td>B</td></tr>\n",
              "\t<tr><td>17</td><td>B</td></tr>\n",
              "\t<tr><td>19</td><td>B</td></tr>\n",
              "\t<tr><td>21</td><td>B</td></tr>\n",
              "\t<tr><td> 7</td><td>B</td></tr>\n",
              "\t<tr><td>13</td><td>B</td></tr>\n",
              "\t<tr><td> 0</td><td>C</td></tr>\n",
              "\t<tr><td> 1</td><td>C</td></tr>\n",
              "\t<tr><td> 7</td><td>C</td></tr>\n",
              "\t<tr><td> 2</td><td>C</td></tr>\n",
              "\t<tr><td> 3</td><td>C</td></tr>\n",
              "\t<tr><td> 1</td><td>C</td></tr>\n",
              "\t<tr><td>⋮</td><td>⋮</td></tr>\n",
              "\t<tr><td> 5</td><td>D</td></tr>\n",
              "\t<tr><td> 5</td><td>D</td></tr>\n",
              "\t<tr><td> 5</td><td>D</td></tr>\n",
              "\t<tr><td> 5</td><td>D</td></tr>\n",
              "\t<tr><td> 2</td><td>D</td></tr>\n",
              "\t<tr><td> 4</td><td>D</td></tr>\n",
              "\t<tr><td> 3</td><td>E</td></tr>\n",
              "\t<tr><td> 5</td><td>E</td></tr>\n",
              "\t<tr><td> 3</td><td>E</td></tr>\n",
              "\t<tr><td> 5</td><td>E</td></tr>\n",
              "\t<tr><td> 3</td><td>E</td></tr>\n",
              "\t<tr><td> 6</td><td>E</td></tr>\n",
              "\t<tr><td> 1</td><td>E</td></tr>\n",
              "\t<tr><td> 1</td><td>E</td></tr>\n",
              "\t<tr><td> 3</td><td>E</td></tr>\n",
              "\t<tr><td> 2</td><td>E</td></tr>\n",
              "\t<tr><td> 6</td><td>E</td></tr>\n",
              "\t<tr><td> 4</td><td>E</td></tr>\n",
              "\t<tr><td>11</td><td>F</td></tr>\n",
              "\t<tr><td> 9</td><td>F</td></tr>\n",
              "\t<tr><td>15</td><td>F</td></tr>\n",
              "\t<tr><td>22</td><td>F</td></tr>\n",
              "\t<tr><td>15</td><td>F</td></tr>\n",
              "\t<tr><td>16</td><td>F</td></tr>\n",
              "\t<tr><td>13</td><td>F</td></tr>\n",
              "\t<tr><td>10</td><td>F</td></tr>\n",
              "\t<tr><td>26</td><td>F</td></tr>\n",
              "\t<tr><td>26</td><td>F</td></tr>\n",
              "\t<tr><td>24</td><td>F</td></tr>\n",
              "\t<tr><td>13</td><td>F</td></tr>\n",
              "</tbody>\n",
              "</table>\n"
            ],
            "text/markdown": "\nA data.frame: 72 × 2\n\n| count &lt;dbl&gt; | spray &lt;fct&gt; |\n|---|---|\n| 10 | A |\n|  7 | A |\n| 20 | A |\n| 14 | A |\n| 14 | A |\n| 12 | A |\n| 10 | A |\n| 23 | A |\n| 17 | A |\n| 20 | A |\n| 14 | A |\n| 13 | A |\n| 11 | B |\n| 17 | B |\n| 21 | B |\n| 11 | B |\n| 16 | B |\n| 14 | B |\n| 17 | B |\n| 17 | B |\n| 19 | B |\n| 21 | B |\n|  7 | B |\n| 13 | B |\n|  0 | C |\n|  1 | C |\n|  7 | C |\n|  2 | C |\n|  3 | C |\n|  1 | C |\n| ⋮ | ⋮ |\n|  5 | D |\n|  5 | D |\n|  5 | D |\n|  5 | D |\n|  2 | D |\n|  4 | D |\n|  3 | E |\n|  5 | E |\n|  3 | E |\n|  5 | E |\n|  3 | E |\n|  6 | E |\n|  1 | E |\n|  1 | E |\n|  3 | E |\n|  2 | E |\n|  6 | E |\n|  4 | E |\n| 11 | F |\n|  9 | F |\n| 15 | F |\n| 22 | F |\n| 15 | F |\n| 16 | F |\n| 13 | F |\n| 10 | F |\n| 26 | F |\n| 26 | F |\n| 24 | F |\n| 13 | F |\n\n",
            "text/latex": "A data.frame: 72 × 2\n\\begin{tabular}{ll}\n count & spray\\\\\n <dbl> & <fct>\\\\\n\\hline\n\t 10 & A\\\\\n\t  7 & A\\\\\n\t 20 & A\\\\\n\t 14 & A\\\\\n\t 14 & A\\\\\n\t 12 & A\\\\\n\t 10 & A\\\\\n\t 23 & A\\\\\n\t 17 & A\\\\\n\t 20 & A\\\\\n\t 14 & A\\\\\n\t 13 & A\\\\\n\t 11 & B\\\\\n\t 17 & B\\\\\n\t 21 & B\\\\\n\t 11 & B\\\\\n\t 16 & B\\\\\n\t 14 & B\\\\\n\t 17 & B\\\\\n\t 17 & B\\\\\n\t 19 & B\\\\\n\t 21 & B\\\\\n\t  7 & B\\\\\n\t 13 & B\\\\\n\t  0 & C\\\\\n\t  1 & C\\\\\n\t  7 & C\\\\\n\t  2 & C\\\\\n\t  3 & C\\\\\n\t  1 & C\\\\\n\t ⋮ & ⋮\\\\\n\t  5 & D\\\\\n\t  5 & D\\\\\n\t  5 & D\\\\\n\t  5 & D\\\\\n\t  2 & D\\\\\n\t  4 & D\\\\\n\t  3 & E\\\\\n\t  5 & E\\\\\n\t  3 & E\\\\\n\t  5 & E\\\\\n\t  3 & E\\\\\n\t  6 & E\\\\\n\t  1 & E\\\\\n\t  1 & E\\\\\n\t  3 & E\\\\\n\t  2 & E\\\\\n\t  6 & E\\\\\n\t  4 & E\\\\\n\t 11 & F\\\\\n\t  9 & F\\\\\n\t 15 & F\\\\\n\t 22 & F\\\\\n\t 15 & F\\\\\n\t 16 & F\\\\\n\t 13 & F\\\\\n\t 10 & F\\\\\n\t 26 & F\\\\\n\t 26 & F\\\\\n\t 24 & F\\\\\n\t 13 & F\\\\\n\\end{tabular}\n",
            "text/plain": [
              "   count spray\n",
              "1  10    A    \n",
              "2   7    A    \n",
              "3  20    A    \n",
              "4  14    A    \n",
              "5  14    A    \n",
              "6  12    A    \n",
              "7  10    A    \n",
              "8  23    A    \n",
              "9  17    A    \n",
              "10 20    A    \n",
              "11 14    A    \n",
              "12 13    A    \n",
              "13 11    B    \n",
              "14 17    B    \n",
              "15 21    B    \n",
              "16 11    B    \n",
              "17 16    B    \n",
              "18 14    B    \n",
              "19 17    B    \n",
              "20 17    B    \n",
              "21 19    B    \n",
              "22 21    B    \n",
              "23  7    B    \n",
              "24 13    B    \n",
              "25  0    C    \n",
              "26  1    C    \n",
              "27  7    C    \n",
              "28  2    C    \n",
              "29  3    C    \n",
              "30  1    C    \n",
              "⋮  ⋮     ⋮    \n",
              "43  5    D    \n",
              "44  5    D    \n",
              "45  5    D    \n",
              "46  5    D    \n",
              "47  2    D    \n",
              "48  4    D    \n",
              "49  3    E    \n",
              "50  5    E    \n",
              "51  3    E    \n",
              "52  5    E    \n",
              "53  3    E    \n",
              "54  6    E    \n",
              "55  1    E    \n",
              "56  1    E    \n",
              "57  3    E    \n",
              "58  2    E    \n",
              "59  6    E    \n",
              "60  4    E    \n",
              "61 11    F    \n",
              "62  9    F    \n",
              "63 15    F    \n",
              "64 22    F    \n",
              "65 15    F    \n",
              "66 16    F    \n",
              "67 13    F    \n",
              "68 10    F    \n",
              "69 26    F    \n",
              "70 26    F    \n",
              "71 24    F    \n",
              "72 13    F    "
            ]
          },
          "metadata": {}
        },
        {
          "output_type": "display_data",
          "data": {
            "text/html": [
              "<style>\n",
              ".list-inline {list-style: none; margin:0; padding: 0}\n",
              ".list-inline>li {display: inline-block}\n",
              ".list-inline>li:not(:last-child)::after {content: \"\\00b7\"; padding: 0 .5ex}\n",
              "</style>\n",
              "<ol class=list-inline><li>'A'</li><li>'B'</li><li>'C'</li><li>'D'</li><li>'E'</li><li>'F'</li></ol>\n"
            ],
            "text/markdown": "1. 'A'\n2. 'B'\n3. 'C'\n4. 'D'\n5. 'E'\n6. 'F'\n\n\n",
            "text/latex": "\\begin{enumerate*}\n\\item 'A'\n\\item 'B'\n\\item 'C'\n\\item 'D'\n\\item 'E'\n\\item 'F'\n\\end{enumerate*}\n",
            "text/plain": [
              "[1] \"A\" \"B\" \"C\" \"D\" \"E\" \"F\""
            ]
          },
          "metadata": {}
        }
      ],
      "source": [
        "# a) Tenemos el factor spray en el data frame InsectSpray, el cual tiene 6 niveles\n",
        "summary(InsectSprays)\n",
        "as.data.frame(InsectSprays)\n",
        "levels(as.factor(InsectSprays$spray))"
      ]
    },
    {
      "cell_type": "code",
      "source": [
        "# b) La funcion lm() detecta automaticamente que InsectSpray$spray es un factor y creara variables dummy para manejar las variables categoricas\n",
        "\n",
        "modelo <- lm(count ~ spray, data = InsectSprays)\n",
        "X <- model.matrix(modelo)\n",
        "X\n",
        "summary(modelo)\n",
        "\n",
        "# Vemos que el insecticida con mayor impacto en la disminucion de mosquitos es el C, dado que tiene el coeficiente menor en el numero de insectos"
      ],
      "metadata": {
        "colab": {
          "base_uri": "https://localhost:8080/",
          "height": 1000
        },
        "id": "VHMQl-lfD1s0",
        "outputId": "3b7a2b0a-4d6f-4874-fa3c-064947bf23d4"
      },
      "execution_count": null,
      "outputs": [
        {
          "output_type": "display_data",
          "data": {
            "text/html": [
              "<table class=\"dataframe\">\n",
              "<caption>A matrix: 72 × 6 of type dbl</caption>\n",
              "<thead>\n",
              "\t<tr><th></th><th scope=col>(Intercept)</th><th scope=col>sprayB</th><th scope=col>sprayC</th><th scope=col>sprayD</th><th scope=col>sprayE</th><th scope=col>sprayF</th></tr>\n",
              "</thead>\n",
              "<tbody>\n",
              "\t<tr><th scope=row>1</th><td>1</td><td>0</td><td>0</td><td>0</td><td>0</td><td>0</td></tr>\n",
              "\t<tr><th scope=row>2</th><td>1</td><td>0</td><td>0</td><td>0</td><td>0</td><td>0</td></tr>\n",
              "\t<tr><th scope=row>3</th><td>1</td><td>0</td><td>0</td><td>0</td><td>0</td><td>0</td></tr>\n",
              "\t<tr><th scope=row>4</th><td>1</td><td>0</td><td>0</td><td>0</td><td>0</td><td>0</td></tr>\n",
              "\t<tr><th scope=row>5</th><td>1</td><td>0</td><td>0</td><td>0</td><td>0</td><td>0</td></tr>\n",
              "\t<tr><th scope=row>6</th><td>1</td><td>0</td><td>0</td><td>0</td><td>0</td><td>0</td></tr>\n",
              "\t<tr><th scope=row>7</th><td>1</td><td>0</td><td>0</td><td>0</td><td>0</td><td>0</td></tr>\n",
              "\t<tr><th scope=row>8</th><td>1</td><td>0</td><td>0</td><td>0</td><td>0</td><td>0</td></tr>\n",
              "\t<tr><th scope=row>9</th><td>1</td><td>0</td><td>0</td><td>0</td><td>0</td><td>0</td></tr>\n",
              "\t<tr><th scope=row>10</th><td>1</td><td>0</td><td>0</td><td>0</td><td>0</td><td>0</td></tr>\n",
              "\t<tr><th scope=row>11</th><td>1</td><td>0</td><td>0</td><td>0</td><td>0</td><td>0</td></tr>\n",
              "\t<tr><th scope=row>12</th><td>1</td><td>0</td><td>0</td><td>0</td><td>0</td><td>0</td></tr>\n",
              "\t<tr><th scope=row>13</th><td>1</td><td>1</td><td>0</td><td>0</td><td>0</td><td>0</td></tr>\n",
              "\t<tr><th scope=row>14</th><td>1</td><td>1</td><td>0</td><td>0</td><td>0</td><td>0</td></tr>\n",
              "\t<tr><th scope=row>15</th><td>1</td><td>1</td><td>0</td><td>0</td><td>0</td><td>0</td></tr>\n",
              "\t<tr><th scope=row>16</th><td>1</td><td>1</td><td>0</td><td>0</td><td>0</td><td>0</td></tr>\n",
              "\t<tr><th scope=row>17</th><td>1</td><td>1</td><td>0</td><td>0</td><td>0</td><td>0</td></tr>\n",
              "\t<tr><th scope=row>18</th><td>1</td><td>1</td><td>0</td><td>0</td><td>0</td><td>0</td></tr>\n",
              "\t<tr><th scope=row>19</th><td>1</td><td>1</td><td>0</td><td>0</td><td>0</td><td>0</td></tr>\n",
              "\t<tr><th scope=row>20</th><td>1</td><td>1</td><td>0</td><td>0</td><td>0</td><td>0</td></tr>\n",
              "\t<tr><th scope=row>21</th><td>1</td><td>1</td><td>0</td><td>0</td><td>0</td><td>0</td></tr>\n",
              "\t<tr><th scope=row>22</th><td>1</td><td>1</td><td>0</td><td>0</td><td>0</td><td>0</td></tr>\n",
              "\t<tr><th scope=row>23</th><td>1</td><td>1</td><td>0</td><td>0</td><td>0</td><td>0</td></tr>\n",
              "\t<tr><th scope=row>24</th><td>1</td><td>1</td><td>0</td><td>0</td><td>0</td><td>0</td></tr>\n",
              "\t<tr><th scope=row>25</th><td>1</td><td>0</td><td>1</td><td>0</td><td>0</td><td>0</td></tr>\n",
              "\t<tr><th scope=row>26</th><td>1</td><td>0</td><td>1</td><td>0</td><td>0</td><td>0</td></tr>\n",
              "\t<tr><th scope=row>27</th><td>1</td><td>0</td><td>1</td><td>0</td><td>0</td><td>0</td></tr>\n",
              "\t<tr><th scope=row>28</th><td>1</td><td>0</td><td>1</td><td>0</td><td>0</td><td>0</td></tr>\n",
              "\t<tr><th scope=row>29</th><td>1</td><td>0</td><td>1</td><td>0</td><td>0</td><td>0</td></tr>\n",
              "\t<tr><th scope=row>30</th><td>1</td><td>0</td><td>1</td><td>0</td><td>0</td><td>0</td></tr>\n",
              "\t<tr><th scope=row>⋮</th><td>⋮</td><td>⋮</td><td>⋮</td><td>⋮</td><td>⋮</td><td>⋮</td></tr>\n",
              "\t<tr><th scope=row>43</th><td>1</td><td>0</td><td>0</td><td>1</td><td>0</td><td>0</td></tr>\n",
              "\t<tr><th scope=row>44</th><td>1</td><td>0</td><td>0</td><td>1</td><td>0</td><td>0</td></tr>\n",
              "\t<tr><th scope=row>45</th><td>1</td><td>0</td><td>0</td><td>1</td><td>0</td><td>0</td></tr>\n",
              "\t<tr><th scope=row>46</th><td>1</td><td>0</td><td>0</td><td>1</td><td>0</td><td>0</td></tr>\n",
              "\t<tr><th scope=row>47</th><td>1</td><td>0</td><td>0</td><td>1</td><td>0</td><td>0</td></tr>\n",
              "\t<tr><th scope=row>48</th><td>1</td><td>0</td><td>0</td><td>1</td><td>0</td><td>0</td></tr>\n",
              "\t<tr><th scope=row>49</th><td>1</td><td>0</td><td>0</td><td>0</td><td>1</td><td>0</td></tr>\n",
              "\t<tr><th scope=row>50</th><td>1</td><td>0</td><td>0</td><td>0</td><td>1</td><td>0</td></tr>\n",
              "\t<tr><th scope=row>51</th><td>1</td><td>0</td><td>0</td><td>0</td><td>1</td><td>0</td></tr>\n",
              "\t<tr><th scope=row>52</th><td>1</td><td>0</td><td>0</td><td>0</td><td>1</td><td>0</td></tr>\n",
              "\t<tr><th scope=row>53</th><td>1</td><td>0</td><td>0</td><td>0</td><td>1</td><td>0</td></tr>\n",
              "\t<tr><th scope=row>54</th><td>1</td><td>0</td><td>0</td><td>0</td><td>1</td><td>0</td></tr>\n",
              "\t<tr><th scope=row>55</th><td>1</td><td>0</td><td>0</td><td>0</td><td>1</td><td>0</td></tr>\n",
              "\t<tr><th scope=row>56</th><td>1</td><td>0</td><td>0</td><td>0</td><td>1</td><td>0</td></tr>\n",
              "\t<tr><th scope=row>57</th><td>1</td><td>0</td><td>0</td><td>0</td><td>1</td><td>0</td></tr>\n",
              "\t<tr><th scope=row>58</th><td>1</td><td>0</td><td>0</td><td>0</td><td>1</td><td>0</td></tr>\n",
              "\t<tr><th scope=row>59</th><td>1</td><td>0</td><td>0</td><td>0</td><td>1</td><td>0</td></tr>\n",
              "\t<tr><th scope=row>60</th><td>1</td><td>0</td><td>0</td><td>0</td><td>1</td><td>0</td></tr>\n",
              "\t<tr><th scope=row>61</th><td>1</td><td>0</td><td>0</td><td>0</td><td>0</td><td>1</td></tr>\n",
              "\t<tr><th scope=row>62</th><td>1</td><td>0</td><td>0</td><td>0</td><td>0</td><td>1</td></tr>\n",
              "\t<tr><th scope=row>63</th><td>1</td><td>0</td><td>0</td><td>0</td><td>0</td><td>1</td></tr>\n",
              "\t<tr><th scope=row>64</th><td>1</td><td>0</td><td>0</td><td>0</td><td>0</td><td>1</td></tr>\n",
              "\t<tr><th scope=row>65</th><td>1</td><td>0</td><td>0</td><td>0</td><td>0</td><td>1</td></tr>\n",
              "\t<tr><th scope=row>66</th><td>1</td><td>0</td><td>0</td><td>0</td><td>0</td><td>1</td></tr>\n",
              "\t<tr><th scope=row>67</th><td>1</td><td>0</td><td>0</td><td>0</td><td>0</td><td>1</td></tr>\n",
              "\t<tr><th scope=row>68</th><td>1</td><td>0</td><td>0</td><td>0</td><td>0</td><td>1</td></tr>\n",
              "\t<tr><th scope=row>69</th><td>1</td><td>0</td><td>0</td><td>0</td><td>0</td><td>1</td></tr>\n",
              "\t<tr><th scope=row>70</th><td>1</td><td>0</td><td>0</td><td>0</td><td>0</td><td>1</td></tr>\n",
              "\t<tr><th scope=row>71</th><td>1</td><td>0</td><td>0</td><td>0</td><td>0</td><td>1</td></tr>\n",
              "\t<tr><th scope=row>72</th><td>1</td><td>0</td><td>0</td><td>0</td><td>0</td><td>1</td></tr>\n",
              "</tbody>\n",
              "</table>\n"
            ],
            "text/markdown": "\nA matrix: 72 × 6 of type dbl\n\n| <!--/--> | (Intercept) | sprayB | sprayC | sprayD | sprayE | sprayF |\n|---|---|---|---|---|---|---|\n| 1 | 1 | 0 | 0 | 0 | 0 | 0 |\n| 2 | 1 | 0 | 0 | 0 | 0 | 0 |\n| 3 | 1 | 0 | 0 | 0 | 0 | 0 |\n| 4 | 1 | 0 | 0 | 0 | 0 | 0 |\n| 5 | 1 | 0 | 0 | 0 | 0 | 0 |\n| 6 | 1 | 0 | 0 | 0 | 0 | 0 |\n| 7 | 1 | 0 | 0 | 0 | 0 | 0 |\n| 8 | 1 | 0 | 0 | 0 | 0 | 0 |\n| 9 | 1 | 0 | 0 | 0 | 0 | 0 |\n| 10 | 1 | 0 | 0 | 0 | 0 | 0 |\n| 11 | 1 | 0 | 0 | 0 | 0 | 0 |\n| 12 | 1 | 0 | 0 | 0 | 0 | 0 |\n| 13 | 1 | 1 | 0 | 0 | 0 | 0 |\n| 14 | 1 | 1 | 0 | 0 | 0 | 0 |\n| 15 | 1 | 1 | 0 | 0 | 0 | 0 |\n| 16 | 1 | 1 | 0 | 0 | 0 | 0 |\n| 17 | 1 | 1 | 0 | 0 | 0 | 0 |\n| 18 | 1 | 1 | 0 | 0 | 0 | 0 |\n| 19 | 1 | 1 | 0 | 0 | 0 | 0 |\n| 20 | 1 | 1 | 0 | 0 | 0 | 0 |\n| 21 | 1 | 1 | 0 | 0 | 0 | 0 |\n| 22 | 1 | 1 | 0 | 0 | 0 | 0 |\n| 23 | 1 | 1 | 0 | 0 | 0 | 0 |\n| 24 | 1 | 1 | 0 | 0 | 0 | 0 |\n| 25 | 1 | 0 | 1 | 0 | 0 | 0 |\n| 26 | 1 | 0 | 1 | 0 | 0 | 0 |\n| 27 | 1 | 0 | 1 | 0 | 0 | 0 |\n| 28 | 1 | 0 | 1 | 0 | 0 | 0 |\n| 29 | 1 | 0 | 1 | 0 | 0 | 0 |\n| 30 | 1 | 0 | 1 | 0 | 0 | 0 |\n| ⋮ | ⋮ | ⋮ | ⋮ | ⋮ | ⋮ | ⋮ |\n| 43 | 1 | 0 | 0 | 1 | 0 | 0 |\n| 44 | 1 | 0 | 0 | 1 | 0 | 0 |\n| 45 | 1 | 0 | 0 | 1 | 0 | 0 |\n| 46 | 1 | 0 | 0 | 1 | 0 | 0 |\n| 47 | 1 | 0 | 0 | 1 | 0 | 0 |\n| 48 | 1 | 0 | 0 | 1 | 0 | 0 |\n| 49 | 1 | 0 | 0 | 0 | 1 | 0 |\n| 50 | 1 | 0 | 0 | 0 | 1 | 0 |\n| 51 | 1 | 0 | 0 | 0 | 1 | 0 |\n| 52 | 1 | 0 | 0 | 0 | 1 | 0 |\n| 53 | 1 | 0 | 0 | 0 | 1 | 0 |\n| 54 | 1 | 0 | 0 | 0 | 1 | 0 |\n| 55 | 1 | 0 | 0 | 0 | 1 | 0 |\n| 56 | 1 | 0 | 0 | 0 | 1 | 0 |\n| 57 | 1 | 0 | 0 | 0 | 1 | 0 |\n| 58 | 1 | 0 | 0 | 0 | 1 | 0 |\n| 59 | 1 | 0 | 0 | 0 | 1 | 0 |\n| 60 | 1 | 0 | 0 | 0 | 1 | 0 |\n| 61 | 1 | 0 | 0 | 0 | 0 | 1 |\n| 62 | 1 | 0 | 0 | 0 | 0 | 1 |\n| 63 | 1 | 0 | 0 | 0 | 0 | 1 |\n| 64 | 1 | 0 | 0 | 0 | 0 | 1 |\n| 65 | 1 | 0 | 0 | 0 | 0 | 1 |\n| 66 | 1 | 0 | 0 | 0 | 0 | 1 |\n| 67 | 1 | 0 | 0 | 0 | 0 | 1 |\n| 68 | 1 | 0 | 0 | 0 | 0 | 1 |\n| 69 | 1 | 0 | 0 | 0 | 0 | 1 |\n| 70 | 1 | 0 | 0 | 0 | 0 | 1 |\n| 71 | 1 | 0 | 0 | 0 | 0 | 1 |\n| 72 | 1 | 0 | 0 | 0 | 0 | 1 |\n\n",
            "text/latex": "A matrix: 72 × 6 of type dbl\n\\begin{tabular}{r|llllll}\n  & (Intercept) & sprayB & sprayC & sprayD & sprayE & sprayF\\\\\n\\hline\n\t1 & 1 & 0 & 0 & 0 & 0 & 0\\\\\n\t2 & 1 & 0 & 0 & 0 & 0 & 0\\\\\n\t3 & 1 & 0 & 0 & 0 & 0 & 0\\\\\n\t4 & 1 & 0 & 0 & 0 & 0 & 0\\\\\n\t5 & 1 & 0 & 0 & 0 & 0 & 0\\\\\n\t6 & 1 & 0 & 0 & 0 & 0 & 0\\\\\n\t7 & 1 & 0 & 0 & 0 & 0 & 0\\\\\n\t8 & 1 & 0 & 0 & 0 & 0 & 0\\\\\n\t9 & 1 & 0 & 0 & 0 & 0 & 0\\\\\n\t10 & 1 & 0 & 0 & 0 & 0 & 0\\\\\n\t11 & 1 & 0 & 0 & 0 & 0 & 0\\\\\n\t12 & 1 & 0 & 0 & 0 & 0 & 0\\\\\n\t13 & 1 & 1 & 0 & 0 & 0 & 0\\\\\n\t14 & 1 & 1 & 0 & 0 & 0 & 0\\\\\n\t15 & 1 & 1 & 0 & 0 & 0 & 0\\\\\n\t16 & 1 & 1 & 0 & 0 & 0 & 0\\\\\n\t17 & 1 & 1 & 0 & 0 & 0 & 0\\\\\n\t18 & 1 & 1 & 0 & 0 & 0 & 0\\\\\n\t19 & 1 & 1 & 0 & 0 & 0 & 0\\\\\n\t20 & 1 & 1 & 0 & 0 & 0 & 0\\\\\n\t21 & 1 & 1 & 0 & 0 & 0 & 0\\\\\n\t22 & 1 & 1 & 0 & 0 & 0 & 0\\\\\n\t23 & 1 & 1 & 0 & 0 & 0 & 0\\\\\n\t24 & 1 & 1 & 0 & 0 & 0 & 0\\\\\n\t25 & 1 & 0 & 1 & 0 & 0 & 0\\\\\n\t26 & 1 & 0 & 1 & 0 & 0 & 0\\\\\n\t27 & 1 & 0 & 1 & 0 & 0 & 0\\\\\n\t28 & 1 & 0 & 1 & 0 & 0 & 0\\\\\n\t29 & 1 & 0 & 1 & 0 & 0 & 0\\\\\n\t30 & 1 & 0 & 1 & 0 & 0 & 0\\\\\n\t⋮ & ⋮ & ⋮ & ⋮ & ⋮ & ⋮ & ⋮\\\\\n\t43 & 1 & 0 & 0 & 1 & 0 & 0\\\\\n\t44 & 1 & 0 & 0 & 1 & 0 & 0\\\\\n\t45 & 1 & 0 & 0 & 1 & 0 & 0\\\\\n\t46 & 1 & 0 & 0 & 1 & 0 & 0\\\\\n\t47 & 1 & 0 & 0 & 1 & 0 & 0\\\\\n\t48 & 1 & 0 & 0 & 1 & 0 & 0\\\\\n\t49 & 1 & 0 & 0 & 0 & 1 & 0\\\\\n\t50 & 1 & 0 & 0 & 0 & 1 & 0\\\\\n\t51 & 1 & 0 & 0 & 0 & 1 & 0\\\\\n\t52 & 1 & 0 & 0 & 0 & 1 & 0\\\\\n\t53 & 1 & 0 & 0 & 0 & 1 & 0\\\\\n\t54 & 1 & 0 & 0 & 0 & 1 & 0\\\\\n\t55 & 1 & 0 & 0 & 0 & 1 & 0\\\\\n\t56 & 1 & 0 & 0 & 0 & 1 & 0\\\\\n\t57 & 1 & 0 & 0 & 0 & 1 & 0\\\\\n\t58 & 1 & 0 & 0 & 0 & 1 & 0\\\\\n\t59 & 1 & 0 & 0 & 0 & 1 & 0\\\\\n\t60 & 1 & 0 & 0 & 0 & 1 & 0\\\\\n\t61 & 1 & 0 & 0 & 0 & 0 & 1\\\\\n\t62 & 1 & 0 & 0 & 0 & 0 & 1\\\\\n\t63 & 1 & 0 & 0 & 0 & 0 & 1\\\\\n\t64 & 1 & 0 & 0 & 0 & 0 & 1\\\\\n\t65 & 1 & 0 & 0 & 0 & 0 & 1\\\\\n\t66 & 1 & 0 & 0 & 0 & 0 & 1\\\\\n\t67 & 1 & 0 & 0 & 0 & 0 & 1\\\\\n\t68 & 1 & 0 & 0 & 0 & 0 & 1\\\\\n\t69 & 1 & 0 & 0 & 0 & 0 & 1\\\\\n\t70 & 1 & 0 & 0 & 0 & 0 & 1\\\\\n\t71 & 1 & 0 & 0 & 0 & 0 & 1\\\\\n\t72 & 1 & 0 & 0 & 0 & 0 & 1\\\\\n\\end{tabular}\n",
            "text/plain": [
              "   (Intercept) sprayB sprayC sprayD sprayE sprayF\n",
              "1  1           0      0      0      0      0     \n",
              "2  1           0      0      0      0      0     \n",
              "3  1           0      0      0      0      0     \n",
              "4  1           0      0      0      0      0     \n",
              "5  1           0      0      0      0      0     \n",
              "6  1           0      0      0      0      0     \n",
              "7  1           0      0      0      0      0     \n",
              "8  1           0      0      0      0      0     \n",
              "9  1           0      0      0      0      0     \n",
              "10 1           0      0      0      0      0     \n",
              "11 1           0      0      0      0      0     \n",
              "12 1           0      0      0      0      0     \n",
              "13 1           1      0      0      0      0     \n",
              "14 1           1      0      0      0      0     \n",
              "15 1           1      0      0      0      0     \n",
              "16 1           1      0      0      0      0     \n",
              "17 1           1      0      0      0      0     \n",
              "18 1           1      0      0      0      0     \n",
              "19 1           1      0      0      0      0     \n",
              "20 1           1      0      0      0      0     \n",
              "21 1           1      0      0      0      0     \n",
              "22 1           1      0      0      0      0     \n",
              "23 1           1      0      0      0      0     \n",
              "24 1           1      0      0      0      0     \n",
              "25 1           0      1      0      0      0     \n",
              "26 1           0      1      0      0      0     \n",
              "27 1           0      1      0      0      0     \n",
              "28 1           0      1      0      0      0     \n",
              "29 1           0      1      0      0      0     \n",
              "30 1           0      1      0      0      0     \n",
              "⋮  ⋮           ⋮      ⋮      ⋮      ⋮      ⋮     \n",
              "43 1           0      0      1      0      0     \n",
              "44 1           0      0      1      0      0     \n",
              "45 1           0      0      1      0      0     \n",
              "46 1           0      0      1      0      0     \n",
              "47 1           0      0      1      0      0     \n",
              "48 1           0      0      1      0      0     \n",
              "49 1           0      0      0      1      0     \n",
              "50 1           0      0      0      1      0     \n",
              "51 1           0      0      0      1      0     \n",
              "52 1           0      0      0      1      0     \n",
              "53 1           0      0      0      1      0     \n",
              "54 1           0      0      0      1      0     \n",
              "55 1           0      0      0      1      0     \n",
              "56 1           0      0      0      1      0     \n",
              "57 1           0      0      0      1      0     \n",
              "58 1           0      0      0      1      0     \n",
              "59 1           0      0      0      1      0     \n",
              "60 1           0      0      0      1      0     \n",
              "61 1           0      0      0      0      1     \n",
              "62 1           0      0      0      0      1     \n",
              "63 1           0      0      0      0      1     \n",
              "64 1           0      0      0      0      1     \n",
              "65 1           0      0      0      0      1     \n",
              "66 1           0      0      0      0      1     \n",
              "67 1           0      0      0      0      1     \n",
              "68 1           0      0      0      0      1     \n",
              "69 1           0      0      0      0      1     \n",
              "70 1           0      0      0      0      1     \n",
              "71 1           0      0      0      0      1     \n",
              "72 1           0      0      0      0      1     "
            ]
          },
          "metadata": {}
        },
        {
          "output_type": "display_data",
          "data": {
            "text/plain": [
              "\n",
              "Call:\n",
              "lm(formula = count ~ spray, data = InsectSprays)\n",
              "\n",
              "Residuals:\n",
              "   Min     1Q Median     3Q    Max \n",
              "-8.333 -1.958 -0.500  1.667  9.333 \n",
              "\n",
              "Coefficients:\n",
              "            Estimate Std. Error t value Pr(>|t|)    \n",
              "(Intercept)  14.5000     1.1322  12.807  < 2e-16 ***\n",
              "sprayB        0.8333     1.6011   0.520    0.604    \n",
              "sprayC      -12.4167     1.6011  -7.755 7.27e-11 ***\n",
              "sprayD       -9.5833     1.6011  -5.985 9.82e-08 ***\n",
              "sprayE      -11.0000     1.6011  -6.870 2.75e-09 ***\n",
              "sprayF        2.1667     1.6011   1.353    0.181    \n",
              "---\n",
              "Signif. codes:  0 ‘***’ 0.001 ‘**’ 0.01 ‘*’ 0.05 ‘.’ 0.1 ‘ ’ 1\n",
              "\n",
              "Residual standard error: 3.922 on 66 degrees of freedom\n",
              "Multiple R-squared:  0.7244,\tAdjusted R-squared:  0.7036 \n",
              "F-statistic:  34.7 on 5 and 66 DF,  p-value: < 2.2e-16\n"
            ]
          },
          "metadata": {}
        }
      ]
    },
    {
      "cell_type": "code",
      "source": [
        "# c) Reordenamos nuestro factor dentro de el dataframe para ver el impacto del insecticida A\n",
        "InsectSprays$spray <- relevel(InsectSprays$spray, ref = \"F\")\n",
        "InsectSprays$spray\n",
        "\n",
        "modelo1 <- lm(count ~ spray, data = InsectSprays)\n",
        "X1 <- model.matrix(modelo1)\n",
        "X1\n",
        "summary(modelo1)\n",
        "# Vemos que el que tiene mas influencia en la disminucion de insectos sigue siendo el insecticida C"
      ],
      "metadata": {
        "colab": {
          "base_uri": "https://localhost:8080/",
          "height": 1000
        },
        "id": "buIzd_KhHkUm",
        "outputId": "ada35c15-9f30-4ee5-cd7c-b6fff87f602c"
      },
      "execution_count": null,
      "outputs": [
        {
          "output_type": "display_data",
          "data": {
            "text/html": [
              "<style>\n",
              ".list-inline {list-style: none; margin:0; padding: 0}\n",
              ".list-inline>li {display: inline-block}\n",
              ".list-inline>li:not(:last-child)::after {content: \"\\00b7\"; padding: 0 .5ex}\n",
              "</style>\n",
              "<ol class=list-inline><li>A</li><li>A</li><li>A</li><li>A</li><li>A</li><li>A</li><li>A</li><li>A</li><li>A</li><li>A</li><li>A</li><li>A</li><li>B</li><li>B</li><li>B</li><li>B</li><li>B</li><li>B</li><li>B</li><li>B</li><li>B</li><li>B</li><li>B</li><li>B</li><li>C</li><li>C</li><li>C</li><li>C</li><li>C</li><li>C</li><li>C</li><li>C</li><li>C</li><li>C</li><li>C</li><li>C</li><li>D</li><li>D</li><li>D</li><li>D</li><li>D</li><li>D</li><li>D</li><li>D</li><li>D</li><li>D</li><li>D</li><li>D</li><li>E</li><li>E</li><li>E</li><li>E</li><li>E</li><li>E</li><li>E</li><li>E</li><li>E</li><li>E</li><li>E</li><li>E</li><li>F</li><li>F</li><li>F</li><li>F</li><li>F</li><li>F</li><li>F</li><li>F</li><li>F</li><li>F</li><li>F</li><li>F</li></ol>\n",
              "\n",
              "<details>\n",
              "\t<summary style=display:list-item;cursor:pointer>\n",
              "\t\t<strong>Levels</strong>:\n",
              "\t</summary>\n",
              "\t<style>\n",
              "\t.list-inline {list-style: none; margin:0; padding: 0}\n",
              "\t.list-inline>li {display: inline-block}\n",
              "\t.list-inline>li:not(:last-child)::after {content: \"\\00b7\"; padding: 0 .5ex}\n",
              "\t</style>\n",
              "\t<ol class=list-inline><li>'F'</li><li>'A'</li><li>'B'</li><li>'C'</li><li>'D'</li><li>'E'</li></ol>\n",
              "</details>"
            ],
            "text/markdown": "1. A\n2. A\n3. A\n4. A\n5. A\n6. A\n7. A\n8. A\n9. A\n10. A\n11. A\n12. A\n13. B\n14. B\n15. B\n16. B\n17. B\n18. B\n19. B\n20. B\n21. B\n22. B\n23. B\n24. B\n25. C\n26. C\n27. C\n28. C\n29. C\n30. C\n31. C\n32. C\n33. C\n34. C\n35. C\n36. C\n37. D\n38. D\n39. D\n40. D\n41. D\n42. D\n43. D\n44. D\n45. D\n46. D\n47. D\n48. D\n49. E\n50. E\n51. E\n52. E\n53. E\n54. E\n55. E\n56. E\n57. E\n58. E\n59. E\n60. E\n61. F\n62. F\n63. F\n64. F\n65. F\n66. F\n67. F\n68. F\n69. F\n70. F\n71. F\n72. F\n\n\n\n**Levels**: 1. 'F'\n2. 'A'\n3. 'B'\n4. 'C'\n5. 'D'\n6. 'E'\n\n\n",
            "text/latex": "\\begin{enumerate*}\n\\item A\n\\item A\n\\item A\n\\item A\n\\item A\n\\item A\n\\item A\n\\item A\n\\item A\n\\item A\n\\item A\n\\item A\n\\item B\n\\item B\n\\item B\n\\item B\n\\item B\n\\item B\n\\item B\n\\item B\n\\item B\n\\item B\n\\item B\n\\item B\n\\item C\n\\item C\n\\item C\n\\item C\n\\item C\n\\item C\n\\item C\n\\item C\n\\item C\n\\item C\n\\item C\n\\item C\n\\item D\n\\item D\n\\item D\n\\item D\n\\item D\n\\item D\n\\item D\n\\item D\n\\item D\n\\item D\n\\item D\n\\item D\n\\item E\n\\item E\n\\item E\n\\item E\n\\item E\n\\item E\n\\item E\n\\item E\n\\item E\n\\item E\n\\item E\n\\item E\n\\item F\n\\item F\n\\item F\n\\item F\n\\item F\n\\item F\n\\item F\n\\item F\n\\item F\n\\item F\n\\item F\n\\item F\n\\end{enumerate*}\n\n\\emph{Levels}: \\begin{enumerate*}\n\\item 'F'\n\\item 'A'\n\\item 'B'\n\\item 'C'\n\\item 'D'\n\\item 'E'\n\\end{enumerate*}\n",
            "text/plain": [
              " [1] A A A A A A A A A A A A B B B B B B B B B B B B C C C C C C C C C C C C D D\n",
              "[39] D D D D D D D D D D E E E E E E E E E E E E F F F F F F F F F F F F\n",
              "Levels: F A B C D E"
            ]
          },
          "metadata": {}
        },
        {
          "output_type": "display_data",
          "data": {
            "text/html": [
              "<table class=\"dataframe\">\n",
              "<caption>A matrix: 72 × 6 of type dbl</caption>\n",
              "<thead>\n",
              "\t<tr><th></th><th scope=col>(Intercept)</th><th scope=col>sprayA</th><th scope=col>sprayB</th><th scope=col>sprayC</th><th scope=col>sprayD</th><th scope=col>sprayE</th></tr>\n",
              "</thead>\n",
              "<tbody>\n",
              "\t<tr><th scope=row>1</th><td>1</td><td>1</td><td>0</td><td>0</td><td>0</td><td>0</td></tr>\n",
              "\t<tr><th scope=row>2</th><td>1</td><td>1</td><td>0</td><td>0</td><td>0</td><td>0</td></tr>\n",
              "\t<tr><th scope=row>3</th><td>1</td><td>1</td><td>0</td><td>0</td><td>0</td><td>0</td></tr>\n",
              "\t<tr><th scope=row>4</th><td>1</td><td>1</td><td>0</td><td>0</td><td>0</td><td>0</td></tr>\n",
              "\t<tr><th scope=row>5</th><td>1</td><td>1</td><td>0</td><td>0</td><td>0</td><td>0</td></tr>\n",
              "\t<tr><th scope=row>6</th><td>1</td><td>1</td><td>0</td><td>0</td><td>0</td><td>0</td></tr>\n",
              "\t<tr><th scope=row>7</th><td>1</td><td>1</td><td>0</td><td>0</td><td>0</td><td>0</td></tr>\n",
              "\t<tr><th scope=row>8</th><td>1</td><td>1</td><td>0</td><td>0</td><td>0</td><td>0</td></tr>\n",
              "\t<tr><th scope=row>9</th><td>1</td><td>1</td><td>0</td><td>0</td><td>0</td><td>0</td></tr>\n",
              "\t<tr><th scope=row>10</th><td>1</td><td>1</td><td>0</td><td>0</td><td>0</td><td>0</td></tr>\n",
              "\t<tr><th scope=row>11</th><td>1</td><td>1</td><td>0</td><td>0</td><td>0</td><td>0</td></tr>\n",
              "\t<tr><th scope=row>12</th><td>1</td><td>1</td><td>0</td><td>0</td><td>0</td><td>0</td></tr>\n",
              "\t<tr><th scope=row>13</th><td>1</td><td>0</td><td>1</td><td>0</td><td>0</td><td>0</td></tr>\n",
              "\t<tr><th scope=row>14</th><td>1</td><td>0</td><td>1</td><td>0</td><td>0</td><td>0</td></tr>\n",
              "\t<tr><th scope=row>15</th><td>1</td><td>0</td><td>1</td><td>0</td><td>0</td><td>0</td></tr>\n",
              "\t<tr><th scope=row>16</th><td>1</td><td>0</td><td>1</td><td>0</td><td>0</td><td>0</td></tr>\n",
              "\t<tr><th scope=row>17</th><td>1</td><td>0</td><td>1</td><td>0</td><td>0</td><td>0</td></tr>\n",
              "\t<tr><th scope=row>18</th><td>1</td><td>0</td><td>1</td><td>0</td><td>0</td><td>0</td></tr>\n",
              "\t<tr><th scope=row>19</th><td>1</td><td>0</td><td>1</td><td>0</td><td>0</td><td>0</td></tr>\n",
              "\t<tr><th scope=row>20</th><td>1</td><td>0</td><td>1</td><td>0</td><td>0</td><td>0</td></tr>\n",
              "\t<tr><th scope=row>21</th><td>1</td><td>0</td><td>1</td><td>0</td><td>0</td><td>0</td></tr>\n",
              "\t<tr><th scope=row>22</th><td>1</td><td>0</td><td>1</td><td>0</td><td>0</td><td>0</td></tr>\n",
              "\t<tr><th scope=row>23</th><td>1</td><td>0</td><td>1</td><td>0</td><td>0</td><td>0</td></tr>\n",
              "\t<tr><th scope=row>24</th><td>1</td><td>0</td><td>1</td><td>0</td><td>0</td><td>0</td></tr>\n",
              "\t<tr><th scope=row>25</th><td>1</td><td>0</td><td>0</td><td>1</td><td>0</td><td>0</td></tr>\n",
              "\t<tr><th scope=row>26</th><td>1</td><td>0</td><td>0</td><td>1</td><td>0</td><td>0</td></tr>\n",
              "\t<tr><th scope=row>27</th><td>1</td><td>0</td><td>0</td><td>1</td><td>0</td><td>0</td></tr>\n",
              "\t<tr><th scope=row>28</th><td>1</td><td>0</td><td>0</td><td>1</td><td>0</td><td>0</td></tr>\n",
              "\t<tr><th scope=row>29</th><td>1</td><td>0</td><td>0</td><td>1</td><td>0</td><td>0</td></tr>\n",
              "\t<tr><th scope=row>30</th><td>1</td><td>0</td><td>0</td><td>1</td><td>0</td><td>0</td></tr>\n",
              "\t<tr><th scope=row>⋮</th><td>⋮</td><td>⋮</td><td>⋮</td><td>⋮</td><td>⋮</td><td>⋮</td></tr>\n",
              "\t<tr><th scope=row>43</th><td>1</td><td>0</td><td>0</td><td>0</td><td>1</td><td>0</td></tr>\n",
              "\t<tr><th scope=row>44</th><td>1</td><td>0</td><td>0</td><td>0</td><td>1</td><td>0</td></tr>\n",
              "\t<tr><th scope=row>45</th><td>1</td><td>0</td><td>0</td><td>0</td><td>1</td><td>0</td></tr>\n",
              "\t<tr><th scope=row>46</th><td>1</td><td>0</td><td>0</td><td>0</td><td>1</td><td>0</td></tr>\n",
              "\t<tr><th scope=row>47</th><td>1</td><td>0</td><td>0</td><td>0</td><td>1</td><td>0</td></tr>\n",
              "\t<tr><th scope=row>48</th><td>1</td><td>0</td><td>0</td><td>0</td><td>1</td><td>0</td></tr>\n",
              "\t<tr><th scope=row>49</th><td>1</td><td>0</td><td>0</td><td>0</td><td>0</td><td>1</td></tr>\n",
              "\t<tr><th scope=row>50</th><td>1</td><td>0</td><td>0</td><td>0</td><td>0</td><td>1</td></tr>\n",
              "\t<tr><th scope=row>51</th><td>1</td><td>0</td><td>0</td><td>0</td><td>0</td><td>1</td></tr>\n",
              "\t<tr><th scope=row>52</th><td>1</td><td>0</td><td>0</td><td>0</td><td>0</td><td>1</td></tr>\n",
              "\t<tr><th scope=row>53</th><td>1</td><td>0</td><td>0</td><td>0</td><td>0</td><td>1</td></tr>\n",
              "\t<tr><th scope=row>54</th><td>1</td><td>0</td><td>0</td><td>0</td><td>0</td><td>1</td></tr>\n",
              "\t<tr><th scope=row>55</th><td>1</td><td>0</td><td>0</td><td>0</td><td>0</td><td>1</td></tr>\n",
              "\t<tr><th scope=row>56</th><td>1</td><td>0</td><td>0</td><td>0</td><td>0</td><td>1</td></tr>\n",
              "\t<tr><th scope=row>57</th><td>1</td><td>0</td><td>0</td><td>0</td><td>0</td><td>1</td></tr>\n",
              "\t<tr><th scope=row>58</th><td>1</td><td>0</td><td>0</td><td>0</td><td>0</td><td>1</td></tr>\n",
              "\t<tr><th scope=row>59</th><td>1</td><td>0</td><td>0</td><td>0</td><td>0</td><td>1</td></tr>\n",
              "\t<tr><th scope=row>60</th><td>1</td><td>0</td><td>0</td><td>0</td><td>0</td><td>1</td></tr>\n",
              "\t<tr><th scope=row>61</th><td>1</td><td>0</td><td>0</td><td>0</td><td>0</td><td>0</td></tr>\n",
              "\t<tr><th scope=row>62</th><td>1</td><td>0</td><td>0</td><td>0</td><td>0</td><td>0</td></tr>\n",
              "\t<tr><th scope=row>63</th><td>1</td><td>0</td><td>0</td><td>0</td><td>0</td><td>0</td></tr>\n",
              "\t<tr><th scope=row>64</th><td>1</td><td>0</td><td>0</td><td>0</td><td>0</td><td>0</td></tr>\n",
              "\t<tr><th scope=row>65</th><td>1</td><td>0</td><td>0</td><td>0</td><td>0</td><td>0</td></tr>\n",
              "\t<tr><th scope=row>66</th><td>1</td><td>0</td><td>0</td><td>0</td><td>0</td><td>0</td></tr>\n",
              "\t<tr><th scope=row>67</th><td>1</td><td>0</td><td>0</td><td>0</td><td>0</td><td>0</td></tr>\n",
              "\t<tr><th scope=row>68</th><td>1</td><td>0</td><td>0</td><td>0</td><td>0</td><td>0</td></tr>\n",
              "\t<tr><th scope=row>69</th><td>1</td><td>0</td><td>0</td><td>0</td><td>0</td><td>0</td></tr>\n",
              "\t<tr><th scope=row>70</th><td>1</td><td>0</td><td>0</td><td>0</td><td>0</td><td>0</td></tr>\n",
              "\t<tr><th scope=row>71</th><td>1</td><td>0</td><td>0</td><td>0</td><td>0</td><td>0</td></tr>\n",
              "\t<tr><th scope=row>72</th><td>1</td><td>0</td><td>0</td><td>0</td><td>0</td><td>0</td></tr>\n",
              "</tbody>\n",
              "</table>\n"
            ],
            "text/markdown": "\nA matrix: 72 × 6 of type dbl\n\n| <!--/--> | (Intercept) | sprayA | sprayB | sprayC | sprayD | sprayE |\n|---|---|---|---|---|---|---|\n| 1 | 1 | 1 | 0 | 0 | 0 | 0 |\n| 2 | 1 | 1 | 0 | 0 | 0 | 0 |\n| 3 | 1 | 1 | 0 | 0 | 0 | 0 |\n| 4 | 1 | 1 | 0 | 0 | 0 | 0 |\n| 5 | 1 | 1 | 0 | 0 | 0 | 0 |\n| 6 | 1 | 1 | 0 | 0 | 0 | 0 |\n| 7 | 1 | 1 | 0 | 0 | 0 | 0 |\n| 8 | 1 | 1 | 0 | 0 | 0 | 0 |\n| 9 | 1 | 1 | 0 | 0 | 0 | 0 |\n| 10 | 1 | 1 | 0 | 0 | 0 | 0 |\n| 11 | 1 | 1 | 0 | 0 | 0 | 0 |\n| 12 | 1 | 1 | 0 | 0 | 0 | 0 |\n| 13 | 1 | 0 | 1 | 0 | 0 | 0 |\n| 14 | 1 | 0 | 1 | 0 | 0 | 0 |\n| 15 | 1 | 0 | 1 | 0 | 0 | 0 |\n| 16 | 1 | 0 | 1 | 0 | 0 | 0 |\n| 17 | 1 | 0 | 1 | 0 | 0 | 0 |\n| 18 | 1 | 0 | 1 | 0 | 0 | 0 |\n| 19 | 1 | 0 | 1 | 0 | 0 | 0 |\n| 20 | 1 | 0 | 1 | 0 | 0 | 0 |\n| 21 | 1 | 0 | 1 | 0 | 0 | 0 |\n| 22 | 1 | 0 | 1 | 0 | 0 | 0 |\n| 23 | 1 | 0 | 1 | 0 | 0 | 0 |\n| 24 | 1 | 0 | 1 | 0 | 0 | 0 |\n| 25 | 1 | 0 | 0 | 1 | 0 | 0 |\n| 26 | 1 | 0 | 0 | 1 | 0 | 0 |\n| 27 | 1 | 0 | 0 | 1 | 0 | 0 |\n| 28 | 1 | 0 | 0 | 1 | 0 | 0 |\n| 29 | 1 | 0 | 0 | 1 | 0 | 0 |\n| 30 | 1 | 0 | 0 | 1 | 0 | 0 |\n| ⋮ | ⋮ | ⋮ | ⋮ | ⋮ | ⋮ | ⋮ |\n| 43 | 1 | 0 | 0 | 0 | 1 | 0 |\n| 44 | 1 | 0 | 0 | 0 | 1 | 0 |\n| 45 | 1 | 0 | 0 | 0 | 1 | 0 |\n| 46 | 1 | 0 | 0 | 0 | 1 | 0 |\n| 47 | 1 | 0 | 0 | 0 | 1 | 0 |\n| 48 | 1 | 0 | 0 | 0 | 1 | 0 |\n| 49 | 1 | 0 | 0 | 0 | 0 | 1 |\n| 50 | 1 | 0 | 0 | 0 | 0 | 1 |\n| 51 | 1 | 0 | 0 | 0 | 0 | 1 |\n| 52 | 1 | 0 | 0 | 0 | 0 | 1 |\n| 53 | 1 | 0 | 0 | 0 | 0 | 1 |\n| 54 | 1 | 0 | 0 | 0 | 0 | 1 |\n| 55 | 1 | 0 | 0 | 0 | 0 | 1 |\n| 56 | 1 | 0 | 0 | 0 | 0 | 1 |\n| 57 | 1 | 0 | 0 | 0 | 0 | 1 |\n| 58 | 1 | 0 | 0 | 0 | 0 | 1 |\n| 59 | 1 | 0 | 0 | 0 | 0 | 1 |\n| 60 | 1 | 0 | 0 | 0 | 0 | 1 |\n| 61 | 1 | 0 | 0 | 0 | 0 | 0 |\n| 62 | 1 | 0 | 0 | 0 | 0 | 0 |\n| 63 | 1 | 0 | 0 | 0 | 0 | 0 |\n| 64 | 1 | 0 | 0 | 0 | 0 | 0 |\n| 65 | 1 | 0 | 0 | 0 | 0 | 0 |\n| 66 | 1 | 0 | 0 | 0 | 0 | 0 |\n| 67 | 1 | 0 | 0 | 0 | 0 | 0 |\n| 68 | 1 | 0 | 0 | 0 | 0 | 0 |\n| 69 | 1 | 0 | 0 | 0 | 0 | 0 |\n| 70 | 1 | 0 | 0 | 0 | 0 | 0 |\n| 71 | 1 | 0 | 0 | 0 | 0 | 0 |\n| 72 | 1 | 0 | 0 | 0 | 0 | 0 |\n\n",
            "text/latex": "A matrix: 72 × 6 of type dbl\n\\begin{tabular}{r|llllll}\n  & (Intercept) & sprayA & sprayB & sprayC & sprayD & sprayE\\\\\n\\hline\n\t1 & 1 & 1 & 0 & 0 & 0 & 0\\\\\n\t2 & 1 & 1 & 0 & 0 & 0 & 0\\\\\n\t3 & 1 & 1 & 0 & 0 & 0 & 0\\\\\n\t4 & 1 & 1 & 0 & 0 & 0 & 0\\\\\n\t5 & 1 & 1 & 0 & 0 & 0 & 0\\\\\n\t6 & 1 & 1 & 0 & 0 & 0 & 0\\\\\n\t7 & 1 & 1 & 0 & 0 & 0 & 0\\\\\n\t8 & 1 & 1 & 0 & 0 & 0 & 0\\\\\n\t9 & 1 & 1 & 0 & 0 & 0 & 0\\\\\n\t10 & 1 & 1 & 0 & 0 & 0 & 0\\\\\n\t11 & 1 & 1 & 0 & 0 & 0 & 0\\\\\n\t12 & 1 & 1 & 0 & 0 & 0 & 0\\\\\n\t13 & 1 & 0 & 1 & 0 & 0 & 0\\\\\n\t14 & 1 & 0 & 1 & 0 & 0 & 0\\\\\n\t15 & 1 & 0 & 1 & 0 & 0 & 0\\\\\n\t16 & 1 & 0 & 1 & 0 & 0 & 0\\\\\n\t17 & 1 & 0 & 1 & 0 & 0 & 0\\\\\n\t18 & 1 & 0 & 1 & 0 & 0 & 0\\\\\n\t19 & 1 & 0 & 1 & 0 & 0 & 0\\\\\n\t20 & 1 & 0 & 1 & 0 & 0 & 0\\\\\n\t21 & 1 & 0 & 1 & 0 & 0 & 0\\\\\n\t22 & 1 & 0 & 1 & 0 & 0 & 0\\\\\n\t23 & 1 & 0 & 1 & 0 & 0 & 0\\\\\n\t24 & 1 & 0 & 1 & 0 & 0 & 0\\\\\n\t25 & 1 & 0 & 0 & 1 & 0 & 0\\\\\n\t26 & 1 & 0 & 0 & 1 & 0 & 0\\\\\n\t27 & 1 & 0 & 0 & 1 & 0 & 0\\\\\n\t28 & 1 & 0 & 0 & 1 & 0 & 0\\\\\n\t29 & 1 & 0 & 0 & 1 & 0 & 0\\\\\n\t30 & 1 & 0 & 0 & 1 & 0 & 0\\\\\n\t⋮ & ⋮ & ⋮ & ⋮ & ⋮ & ⋮ & ⋮\\\\\n\t43 & 1 & 0 & 0 & 0 & 1 & 0\\\\\n\t44 & 1 & 0 & 0 & 0 & 1 & 0\\\\\n\t45 & 1 & 0 & 0 & 0 & 1 & 0\\\\\n\t46 & 1 & 0 & 0 & 0 & 1 & 0\\\\\n\t47 & 1 & 0 & 0 & 0 & 1 & 0\\\\\n\t48 & 1 & 0 & 0 & 0 & 1 & 0\\\\\n\t49 & 1 & 0 & 0 & 0 & 0 & 1\\\\\n\t50 & 1 & 0 & 0 & 0 & 0 & 1\\\\\n\t51 & 1 & 0 & 0 & 0 & 0 & 1\\\\\n\t52 & 1 & 0 & 0 & 0 & 0 & 1\\\\\n\t53 & 1 & 0 & 0 & 0 & 0 & 1\\\\\n\t54 & 1 & 0 & 0 & 0 & 0 & 1\\\\\n\t55 & 1 & 0 & 0 & 0 & 0 & 1\\\\\n\t56 & 1 & 0 & 0 & 0 & 0 & 1\\\\\n\t57 & 1 & 0 & 0 & 0 & 0 & 1\\\\\n\t58 & 1 & 0 & 0 & 0 & 0 & 1\\\\\n\t59 & 1 & 0 & 0 & 0 & 0 & 1\\\\\n\t60 & 1 & 0 & 0 & 0 & 0 & 1\\\\\n\t61 & 1 & 0 & 0 & 0 & 0 & 0\\\\\n\t62 & 1 & 0 & 0 & 0 & 0 & 0\\\\\n\t63 & 1 & 0 & 0 & 0 & 0 & 0\\\\\n\t64 & 1 & 0 & 0 & 0 & 0 & 0\\\\\n\t65 & 1 & 0 & 0 & 0 & 0 & 0\\\\\n\t66 & 1 & 0 & 0 & 0 & 0 & 0\\\\\n\t67 & 1 & 0 & 0 & 0 & 0 & 0\\\\\n\t68 & 1 & 0 & 0 & 0 & 0 & 0\\\\\n\t69 & 1 & 0 & 0 & 0 & 0 & 0\\\\\n\t70 & 1 & 0 & 0 & 0 & 0 & 0\\\\\n\t71 & 1 & 0 & 0 & 0 & 0 & 0\\\\\n\t72 & 1 & 0 & 0 & 0 & 0 & 0\\\\\n\\end{tabular}\n",
            "text/plain": [
              "   (Intercept) sprayA sprayB sprayC sprayD sprayE\n",
              "1  1           1      0      0      0      0     \n",
              "2  1           1      0      0      0      0     \n",
              "3  1           1      0      0      0      0     \n",
              "4  1           1      0      0      0      0     \n",
              "5  1           1      0      0      0      0     \n",
              "6  1           1      0      0      0      0     \n",
              "7  1           1      0      0      0      0     \n",
              "8  1           1      0      0      0      0     \n",
              "9  1           1      0      0      0      0     \n",
              "10 1           1      0      0      0      0     \n",
              "11 1           1      0      0      0      0     \n",
              "12 1           1      0      0      0      0     \n",
              "13 1           0      1      0      0      0     \n",
              "14 1           0      1      0      0      0     \n",
              "15 1           0      1      0      0      0     \n",
              "16 1           0      1      0      0      0     \n",
              "17 1           0      1      0      0      0     \n",
              "18 1           0      1      0      0      0     \n",
              "19 1           0      1      0      0      0     \n",
              "20 1           0      1      0      0      0     \n",
              "21 1           0      1      0      0      0     \n",
              "22 1           0      1      0      0      0     \n",
              "23 1           0      1      0      0      0     \n",
              "24 1           0      1      0      0      0     \n",
              "25 1           0      0      1      0      0     \n",
              "26 1           0      0      1      0      0     \n",
              "27 1           0      0      1      0      0     \n",
              "28 1           0      0      1      0      0     \n",
              "29 1           0      0      1      0      0     \n",
              "30 1           0      0      1      0      0     \n",
              "⋮  ⋮           ⋮      ⋮      ⋮      ⋮      ⋮     \n",
              "43 1           0      0      0      1      0     \n",
              "44 1           0      0      0      1      0     \n",
              "45 1           0      0      0      1      0     \n",
              "46 1           0      0      0      1      0     \n",
              "47 1           0      0      0      1      0     \n",
              "48 1           0      0      0      1      0     \n",
              "49 1           0      0      0      0      1     \n",
              "50 1           0      0      0      0      1     \n",
              "51 1           0      0      0      0      1     \n",
              "52 1           0      0      0      0      1     \n",
              "53 1           0      0      0      0      1     \n",
              "54 1           0      0      0      0      1     \n",
              "55 1           0      0      0      0      1     \n",
              "56 1           0      0      0      0      1     \n",
              "57 1           0      0      0      0      1     \n",
              "58 1           0      0      0      0      1     \n",
              "59 1           0      0      0      0      1     \n",
              "60 1           0      0      0      0      1     \n",
              "61 1           0      0      0      0      0     \n",
              "62 1           0      0      0      0      0     \n",
              "63 1           0      0      0      0      0     \n",
              "64 1           0      0      0      0      0     \n",
              "65 1           0      0      0      0      0     \n",
              "66 1           0      0      0      0      0     \n",
              "67 1           0      0      0      0      0     \n",
              "68 1           0      0      0      0      0     \n",
              "69 1           0      0      0      0      0     \n",
              "70 1           0      0      0      0      0     \n",
              "71 1           0      0      0      0      0     \n",
              "72 1           0      0      0      0      0     "
            ]
          },
          "metadata": {}
        },
        {
          "output_type": "display_data",
          "data": {
            "text/plain": [
              "\n",
              "Call:\n",
              "lm(formula = count ~ spray, data = InsectSprays)\n",
              "\n",
              "Residuals:\n",
              "   Min     1Q Median     3Q    Max \n",
              "-8.333 -1.958 -0.500  1.667  9.333 \n",
              "\n",
              "Coefficients:\n",
              "            Estimate Std. Error t value Pr(>|t|)    \n",
              "(Intercept)   16.667      1.132  14.721  < 2e-16 ***\n",
              "sprayA        -2.167      1.601  -1.353    0.181    \n",
              "sprayB        -1.333      1.601  -0.833    0.408    \n",
              "sprayC       -14.583      1.601  -9.108 2.79e-13 ***\n",
              "sprayD       -11.750      1.601  -7.339 4.04e-10 ***\n",
              "sprayE       -13.167      1.601  -8.223 1.05e-11 ***\n",
              "---\n",
              "Signif. codes:  0 ‘***’ 0.001 ‘**’ 0.01 ‘*’ 0.05 ‘.’ 0.1 ‘ ’ 1\n",
              "\n",
              "Residual standard error: 3.922 on 66 degrees of freedom\n",
              "Multiple R-squared:  0.7244,\tAdjusted R-squared:  0.7036 \n",
              "F-statistic:  34.7 on 5 and 66 DF,  p-value: < 2.2e-16\n"
            ]
          },
          "metadata": {}
        }
      ]
    },
    {
      "cell_type": "code",
      "source": [
        "# d) Obtener los residuales del modelo\n",
        "residuales <- resid(modelo1)\n",
        "\n",
        "# Graficar los cuantiles con qqnorm\n",
        "qqnorm(residuales)\n",
        "qqline(residuales)\n",
        "\n",
        "# Graficar mediante lm(), grafica #2 de la funcion plot\n",
        "plot(modelo1, which = 2)"
      ],
      "metadata": {
        "colab": {
          "base_uri": "https://localhost:8080/",
          "height": 857
        },
        "id": "d41zILjjJsfo",
        "outputId": "09e10e24-62fe-41ee-9738-89fb801da698"
      },
      "execution_count": null,
      "outputs": [
        {
          "output_type": "display_data",
          "data": {
            "text/plain": [
              "Plot with title “Normal Q-Q Plot”"
            ],
            "image/png": "[encoded data removed]"
          },
          "metadata": {
            "image/png": {
              "width": 420,
              "height": 420
            }
          }
        },
        {
          "output_type": "display_data",
          "data": {
            "text/plain": [
              "Plot with title “”"
            ],
            "image/png": "[encoded data removed]"
          },
          "metadata": {
            "image/png": {
              "width": 420,
              "height": 420
            }
          }
        }
      ]
    },
    {
      "cell_type": "code",
      "source": [
        "# e) Omitiendo los datos atipicos 8, 69 y 70, 71 que se observan en las graficas de diagnostico\n",
        "modelo2 <- lm(count ~ spray, data = InsectSprays[-c(8,69,70,71),])\n",
        "plot(modelo2, which = 2)\n",
        "summary(modelo2)\n",
        "\n",
        "# Notamos que el modelo2 tiene una R^2 ajustada más alta (0.7458 > 0.7036) y un estadístico F mayor (40.32 > 34.7), comparados con los resultados del modelo1\n",
        "# Aunque tengan el mismo p-value, podemos concluir que el segundo modelo es mejor en términos de ajuste y explicación en los datos."
      ],
      "metadata": {
        "colab": {
          "base_uri": "https://localhost:8080/",
          "height": 857
        },
        "id": "1tP56bh6Lvo3",
        "outputId": "d4cfce3c-8f72-4ec4-9975-168956ab106a"
      },
      "execution_count": null,
      "outputs": [
        {
          "output_type": "display_data",
          "data": {
            "text/plain": [
              "\n",
              "Call:\n",
              "lm(formula = count ~ spray, data = InsectSprays[-c(8, 69, 70, \n",
              "    71), ])\n",
              "\n",
              "Residuals:\n",
              "    Min      1Q  Median      3Q     Max \n",
              "-8.3333 -1.7746 -0.0833  1.5000  8.2222 \n",
              "\n",
              "Coefficients:\n",
              "             Estimate Std. Error t value Pr(>|t|)    \n",
              "(Intercept)  13.77778    1.06529  12.933  < 2e-16 ***\n",
              "sprayA       -0.05051    1.43643  -0.035    0.972    \n",
              "sprayB        1.55556    1.40924   1.104    0.274    \n",
              "sprayC      -11.69444    1.40924  -8.298 1.20e-11 ***\n",
              "sprayD       -8.86111    1.40924  -6.288 3.61e-08 ***\n",
              "sprayE      -10.27778    1.40924  -7.293 6.68e-10 ***\n",
              "---\n",
              "Signif. codes:  0 ‘***’ 0.001 ‘**’ 0.01 ‘*’ 0.05 ‘.’ 0.1 ‘ ’ 1\n",
              "\n",
              "Residual standard error: 3.196 on 62 degrees of freedom\n",
              "Multiple R-squared:  0.7648,\tAdjusted R-squared:  0.7458 \n",
              "F-statistic: 40.32 on 5 and 62 DF,  p-value: < 2.2e-16\n"
            ]
          },
          "metadata": {}
        },
        {
          "output_type": "display_data",
          "data": {
            "text/plain": [
              "Plot with title “”"
            ],
            "image/png": "[encoded data removed]"
          },
          "metadata": {
            "image/png": {
              "width": 420,
              "height": 420
            }
          }
        }
      ]
    },
    {
      "cell_type": "code",
      "source": [
        "# g) Para un agricultor hipotetico podriamos desarrollar las siguientes conclusiones:\n",
        "#     1. El análisis estadístico respalda la efectividad de los insecticidas C y E en la reducción del número de insectos en las parcelas rociadas.\n",
        "#        Dependiendo de precio y disponibilidad, cualquiera de estos dos es una buena opcion para el control de plagas.\n",
        "#     2. Aunque los modelos indican que el insecticida C y es el más efectivo, es importante validarlo en el campo.\n",
        "#        Deberian realizarse pruebas adicionales para confirmar la efectividad del insecticida C en las condiciones reales y especificas del cultivo.\n",
        "#     3. El modelo 2 proporciona una buena estimación del efecto de los insecticidas, sin embargo es importante realizar seguimiento en el monitoreo\n",
        "#        de la población de insectos."
      ],
      "metadata": {
        "id": "1Q-kF4hfrTEu"
      },
      "execution_count": null,
      "outputs": []
    },
    {
      "cell_type": "markdown",
      "source": [
        "# Ejercicio 3"
      ],
      "metadata": {
        "id": "JyFFIOvmwyaU"
      }
    },
    {
      "cell_type": "code",
      "source": [
        "# Obtener los AIC manualmente, usando la formula AIC = 2(k - ln(L))\n",
        "logL1 <- logLik(modelo1)\n",
        "logL2 <- logLik(modelo2)\n",
        "# Número de parámetros\n",
        "k1 <- length(coef(modelo1))\n",
        "k2 <- length(coef(modelo2))\n",
        "\n",
        "AICm_modelo1 <- 2 * k1 - 2 * logL1\n",
        "AICm_modelo2 <- 2 * k2 - 2 * logL2\n",
        "AIC_modelo1 <- AIC(modelo1)\n",
        "AIC_modelo2 <- AIC(modelo2)\n",
        "\n",
        "\n",
        "print(paste(\"AIC manual del modelo1:\", AICm_modelo1))\n",
        "print(paste(\"AIC del modelo1:\", AIC_modelo1))\n",
        "print(paste(\"AIC manual del modelo2:\", AICm_modelo2))\n",
        "print(paste(\"AIC del modelo2:\", AIC_modelo2))\n",
        "\n",
        "# Sabemos que un valor de AIC más bajo indica un mejor equilibrio entre el ajuste del modelo y la complejidad del mismo.\n",
        "# Entonces, el modelo 2 (con un AIC más bajo) se considera preferible al modelo 1 en términos de AIC.\n",
        "# Dado que ambos modelos se ajustan a los mismos datos y aunque pueda haber una diferencia en la estructura debido a\n",
        "# la omision de datos atipicos, se puede decir que la comparacion es razonablemente justa."
      ],
      "metadata": {
        "colab": {
          "base_uri": "https://localhost:8080/"
        },
        "id": "E2r5PAUmwzlp",
        "outputId": "c2bab487-0ce9-4a8e-e6e9-17144af15daf"
      },
      "execution_count": null,
      "outputs": [
        {
          "output_type": "stream",
          "name": "stdout",
          "text": [
            "[1] \"AIC manual del modelo1: 406.849370088124\"\n",
            "[1] \"AIC del modelo1: 408.849370088124\"\n",
            "[1] \"AIC manual del modelo2: 356.706600354022\"\n",
            "[1] \"AIC del modelo2: 358.706600354022\"\n"
          ]
        }
      ]
    }
  ]
}