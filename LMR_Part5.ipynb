{
  "nbformat": 4,
  "nbformat_minor": 0,
  "metadata": {
    "colab": {
      "provenance": []
    },
    "kernelspec": {
      "name": "ir",
      "display_name": "R"
    },
    "language_info": {
      "name": "R"
    }
  },
  "cells": [
    {
      "cell_type": "markdown",
      "source": [
        "# Ejercicio 1"
      ],
      "metadata": {
        "id": "KJgAzeLW9o37"
      }
    },
    {
      "cell_type": "code",
      "execution_count": null,
      "metadata": {
        "id": "rIZ2_tXUmFxw",
        "colab": {
          "base_uri": "https://localhost:8080/",
          "height": 474
        },
        "outputId": "25eb6f70-0a82-418e-fd49-41be21ec5f5c"
      },
      "outputs": [
        {
          "output_type": "display_data",
          "data": {
            "text/html": [
              "<table class=\"dataframe\">\n",
              "<caption>A data.frame: 12 × 5</caption>\n",
              "<thead>\n",
              "\t<tr><th scope=col>dosis</th><th scope=col>logdosis</th><th scope=col>muertos</th><th scope=col>vivos</th><th scope=col>sexo</th></tr>\n",
              "\t<tr><th scope=col>&lt;dbl&gt;</th><th scope=col>&lt;dbl&gt;</th><th scope=col>&lt;dbl&gt;</th><th scope=col>&lt;dbl&gt;</th><th scope=col>&lt;fct&gt;</th></tr>\n",
              "</thead>\n",
              "<tbody>\n",
              "\t<tr><td> 1</td><td>0</td><td> 1</td><td>19</td><td>macho </td></tr>\n",
              "\t<tr><td> 2</td><td>1</td><td> 4</td><td>16</td><td>macho </td></tr>\n",
              "\t<tr><td> 4</td><td>2</td><td> 9</td><td>11</td><td>macho </td></tr>\n",
              "\t<tr><td> 8</td><td>3</td><td>13</td><td> 7</td><td>macho </td></tr>\n",
              "\t<tr><td>16</td><td>4</td><td>18</td><td> 2</td><td>macho </td></tr>\n",
              "\t<tr><td>32</td><td>5</td><td>20</td><td> 0</td><td>macho </td></tr>\n",
              "\t<tr><td> 1</td><td>0</td><td> 0</td><td>20</td><td>hembra</td></tr>\n",
              "\t<tr><td> 2</td><td>1</td><td> 2</td><td>18</td><td>hembra</td></tr>\n",
              "\t<tr><td> 4</td><td>2</td><td> 6</td><td>14</td><td>hembra</td></tr>\n",
              "\t<tr><td> 8</td><td>3</td><td>10</td><td>10</td><td>hembra</td></tr>\n",
              "\t<tr><td>16</td><td>4</td><td>12</td><td> 8</td><td>hembra</td></tr>\n",
              "\t<tr><td>32</td><td>5</td><td>16</td><td> 4</td><td>hembra</td></tr>\n",
              "</tbody>\n",
              "</table>\n"
            ],
            "text/markdown": "\nA data.frame: 12 × 5\n\n| dosis &lt;dbl&gt; | logdosis &lt;dbl&gt; | muertos &lt;dbl&gt; | vivos &lt;dbl&gt; | sexo &lt;fct&gt; |\n|---|---|---|---|---|\n|  1 | 0 |  1 | 19 | macho  |\n|  2 | 1 |  4 | 16 | macho  |\n|  4 | 2 |  9 | 11 | macho  |\n|  8 | 3 | 13 |  7 | macho  |\n| 16 | 4 | 18 |  2 | macho  |\n| 32 | 5 | 20 |  0 | macho  |\n|  1 | 0 |  0 | 20 | hembra |\n|  2 | 1 |  2 | 18 | hembra |\n|  4 | 2 |  6 | 14 | hembra |\n|  8 | 3 | 10 | 10 | hembra |\n| 16 | 4 | 12 |  8 | hembra |\n| 32 | 5 | 16 |  4 | hembra |\n\n",
            "text/latex": "A data.frame: 12 × 5\n\\begin{tabular}{lllll}\n dosis & logdosis & muertos & vivos & sexo\\\\\n <dbl> & <dbl> & <dbl> & <dbl> & <fct>\\\\\n\\hline\n\t  1 & 0 &  1 & 19 & macho \\\\\n\t  2 & 1 &  4 & 16 & macho \\\\\n\t  4 & 2 &  9 & 11 & macho \\\\\n\t  8 & 3 & 13 &  7 & macho \\\\\n\t 16 & 4 & 18 &  2 & macho \\\\\n\t 32 & 5 & 20 &  0 & macho \\\\\n\t  1 & 0 &  0 & 20 & hembra\\\\\n\t  2 & 1 &  2 & 18 & hembra\\\\\n\t  4 & 2 &  6 & 14 & hembra\\\\\n\t  8 & 3 & 10 & 10 & hembra\\\\\n\t 16 & 4 & 12 &  8 & hembra\\\\\n\t 32 & 5 & 16 &  4 & hembra\\\\\n\\end{tabular}\n",
            "text/plain": [
              "   dosis logdosis muertos vivos sexo  \n",
              "1   1    0         1      19    macho \n",
              "2   2    1         4      16    macho \n",
              "3   4    2         9      11    macho \n",
              "4   8    3        13       7    macho \n",
              "5  16    4        18       2    macho \n",
              "6  32    5        20       0    macho \n",
              "7   1    0         0      20    hembra\n",
              "8   2    1         2      18    hembra\n",
              "9   4    2         6      14    hembra\n",
              "10  8    3        10      10    hembra\n",
              "11 16    4        12       8    hembra\n",
              "12 32    5        16       4    hembra"
            ]
          },
          "metadata": {}
        }
      ],
      "source": [
        "# Organizar los datos adecuadamente\n",
        "dosis <- c(1, 2, 4, 8, 16, 32)\n",
        "logdosis <- log2(dosis)\n",
        "machosd <- c(1, 4, 9, 13, 18, 20)\n",
        "hembrasd <- c(0, 2, 6, 10, 12, 16)\n",
        "n <- 20 # orugas por grupo\n",
        "\n",
        "datos <- data.frame(\n",
        "  dosis = rep(dosis, 2),\n",
        "  logdosis = rep(logdosis, 2),\n",
        "  muertos = c(machosd, hembrasd),\n",
        "  vivos = n - c(machosd, hembrasd),\n",
        "  sexo = factor(rep(c(0, 1), each = length(dosis)), labels = c(\"macho\", \"hembra\"))\n",
        ")\n",
        "\n",
        "datos"
      ]
    },
    {
      "cell_type": "markdown",
      "source": [
        "# b) Ajustar GLM\n"
      ],
      "metadata": {
        "id": "zSsZ0yzPFi7G"
      }
    },
    {
      "cell_type": "code",
      "source": [
        "# Ajustar un modelo lineal generalizado de familia binomial\n",
        "Y = cbind(datos$muertos, datos$vivos) # Matriz resultados con clumnas (exito, fracaso)\n",
        "modelo <- glm(Y ~ sexo*logdosis, family = binomial, data = datos)\n",
        "summary(modelo)\n",
        "model.matrix(modelo)"
      ],
      "metadata": {
        "colab": {
          "base_uri": "https://localhost:8080/",
          "height": 808
        },
        "id": "2hadnxwz9oPg",
        "outputId": "27b03b4f-cbd9-484f-a0e3-6ebbb47e6c51"
      },
      "execution_count": null,
      "outputs": [
        {
          "output_type": "display_data",
          "data": {
            "text/plain": [
              "\n",
              "Call:\n",
              "glm(formula = Y ~ sexo * logdosis, family = binomial, data = datos)\n",
              "\n",
              "Coefficients:\n",
              "                    Estimate Std. Error z value Pr(>|z|)    \n",
              "(Intercept)          -2.8186     0.5480  -5.143 2.70e-07 ***\n",
              "sexohembra           -0.1750     0.7783  -0.225    0.822    \n",
              "logdosis              1.2589     0.2121   5.937 2.91e-09 ***\n",
              "sexohembra:logdosis  -0.3529     0.2700  -1.307    0.191    \n",
              "---\n",
              "Signif. codes:  0 ‘***’ 0.001 ‘**’ 0.01 ‘*’ 0.05 ‘.’ 0.1 ‘ ’ 1\n",
              "\n",
              "(Dispersion parameter for binomial family taken to be 1)\n",
              "\n",
              "    Null deviance: 124.8756  on 11  degrees of freedom\n",
              "Residual deviance:   4.9937  on  8  degrees of freedom\n",
              "AIC: 43.104\n",
              "\n",
              "Number of Fisher Scoring iterations: 4\n"
            ]
          },
          "metadata": {}
        },
        {
          "output_type": "display_data",
          "data": {
            "text/html": [
              "<table class=\"dataframe\">\n",
              "<caption>A matrix: 12 × 4 of type dbl</caption>\n",
              "<thead>\n",
              "\t<tr><th></th><th scope=col>(Intercept)</th><th scope=col>sexohembra</th><th scope=col>logdosis</th><th scope=col>sexohembra:logdosis</th></tr>\n",
              "</thead>\n",
              "<tbody>\n",
              "\t<tr><th scope=row>1</th><td>1</td><td>0</td><td>0</td><td>0</td></tr>\n",
              "\t<tr><th scope=row>2</th><td>1</td><td>0</td><td>1</td><td>0</td></tr>\n",
              "\t<tr><th scope=row>3</th><td>1</td><td>0</td><td>2</td><td>0</td></tr>\n",
              "\t<tr><th scope=row>4</th><td>1</td><td>0</td><td>3</td><td>0</td></tr>\n",
              "\t<tr><th scope=row>5</th><td>1</td><td>0</td><td>4</td><td>0</td></tr>\n",
              "\t<tr><th scope=row>6</th><td>1</td><td>0</td><td>5</td><td>0</td></tr>\n",
              "\t<tr><th scope=row>7</th><td>1</td><td>1</td><td>0</td><td>0</td></tr>\n",
              "\t<tr><th scope=row>8</th><td>1</td><td>1</td><td>1</td><td>1</td></tr>\n",
              "\t<tr><th scope=row>9</th><td>1</td><td>1</td><td>2</td><td>2</td></tr>\n",
              "\t<tr><th scope=row>10</th><td>1</td><td>1</td><td>3</td><td>3</td></tr>\n",
              "\t<tr><th scope=row>11</th><td>1</td><td>1</td><td>4</td><td>4</td></tr>\n",
              "\t<tr><th scope=row>12</th><td>1</td><td>1</td><td>5</td><td>5</td></tr>\n",
              "</tbody>\n",
              "</table>\n"
            ],
            "text/markdown": "\nA matrix: 12 × 4 of type dbl\n\n| <!--/--> | (Intercept) | sexohembra | logdosis | sexohembra:logdosis |\n|---|---|---|---|---|\n| 1 | 1 | 0 | 0 | 0 |\n| 2 | 1 | 0 | 1 | 0 |\n| 3 | 1 | 0 | 2 | 0 |\n| 4 | 1 | 0 | 3 | 0 |\n| 5 | 1 | 0 | 4 | 0 |\n| 6 | 1 | 0 | 5 | 0 |\n| 7 | 1 | 1 | 0 | 0 |\n| 8 | 1 | 1 | 1 | 1 |\n| 9 | 1 | 1 | 2 | 2 |\n| 10 | 1 | 1 | 3 | 3 |\n| 11 | 1 | 1 | 4 | 4 |\n| 12 | 1 | 1 | 5 | 5 |\n\n",
            "text/latex": "A matrix: 12 × 4 of type dbl\n\\begin{tabular}{r|llll}\n  & (Intercept) & sexohembra & logdosis & sexohembra:logdosis\\\\\n\\hline\n\t1 & 1 & 0 & 0 & 0\\\\\n\t2 & 1 & 0 & 1 & 0\\\\\n\t3 & 1 & 0 & 2 & 0\\\\\n\t4 & 1 & 0 & 3 & 0\\\\\n\t5 & 1 & 0 & 4 & 0\\\\\n\t6 & 1 & 0 & 5 & 0\\\\\n\t7 & 1 & 1 & 0 & 0\\\\\n\t8 & 1 & 1 & 1 & 1\\\\\n\t9 & 1 & 1 & 2 & 2\\\\\n\t10 & 1 & 1 & 3 & 3\\\\\n\t11 & 1 & 1 & 4 & 4\\\\\n\t12 & 1 & 1 & 5 & 5\\\\\n\\end{tabular}\n",
            "text/plain": [
              "   (Intercept) sexohembra logdosis sexohembra:logdosis\n",
              "1  1           0          0        0                  \n",
              "2  1           0          1        0                  \n",
              "3  1           0          2        0                  \n",
              "4  1           0          3        0                  \n",
              "5  1           0          4        0                  \n",
              "6  1           0          5        0                  \n",
              "7  1           1          0        0                  \n",
              "8  1           1          1        1                  \n",
              "9  1           1          2        2                  \n",
              "10 1           1          3        3                  \n",
              "11 1           1          4        4                  \n",
              "12 1           1          5        5                  "
            ]
          },
          "metadata": {}
        }
      ]
    },
    {
      "cell_type": "markdown",
      "source": [
        "El coeficiente para logdosis es 1.2589,  por cada aumento unitario en el logaritmo de la dosis, el logit de la probabilidad de muerte aumenta en 1.2589. Este coeficiente es altamente significativo (𝑝=2.91𝑒^−09), lo que indica una fuerte relacion positiva entre la dosis y la probabilidad de muerte. Es decir a medida que la dosis aumenta la probabilidad de muerte tambien aumenta.\n",
        "\n",
        "Por otro lado, no hay evidencia suficiente para afirmar que el sexo del afecta la probabilidad de muerte, ni de que la relacion entre dosis y la probabilidad de muerte varia significativamente entre sexo."
      ],
      "metadata": {
        "id": "QUTC0jMZwygK"
      }
    },
    {
      "cell_type": "markdown",
      "source": [
        "# a) Determinar parametros\n"
      ],
      "metadata": {
        "id": "z-e8Kw8LEw4l"
      }
    },
    {
      "cell_type": "code",
      "source": [
        "# Calcular los parametros del modelo generalizado\n",
        "p <- predict(modelo, type = \"response\")\n",
        "mu <- n*p\n",
        "\n",
        "# theta\n",
        "theta <- log(mu/(n - mu))\n",
        "# phi\n",
        "phi = 1\n",
        "# a(phi)\n",
        "a <- 1\n",
        "# b(theta)\n",
        "b <- n*log(1 + exp(theta))\n",
        "# c(y,phi)\n",
        "c <- log(choose(n, Y))\n",
        "# Liga canonica g_c(mu)\n",
        "g <- mu/(n - mu)\n",
        "# Valor esperado E(Y)\n",
        "E <- mu\n",
        "# Varianza Var(Y)\n",
        "V <- mu*(1 - mu/n)\n",
        "\n",
        "P <- list(theta, phi, a, b, c, g, E, V)\n",
        "print(P)"
      ],
      "metadata": {
        "colab": {
          "base_uri": "https://localhost:8080/"
        },
        "id": "cgYqBgwXAZDv",
        "outputId": "5813332e-5552-4c80-85fd-c06ca6aff69a"
      },
      "execution_count": null,
      "outputs": [
        {
          "output_type": "stream",
          "name": "stdout",
          "text": [
            "[[1]]\n",
            "         1          2          3          4          5          6          7 \n",
            "-2.8185550 -1.5596055 -0.3006561  0.9582933  2.2172427  3.4761922 -2.9935418 \n",
            "         8          9         10         11         12 \n",
            "-2.0875053 -1.1814689 -0.2754324  0.6306040  1.5366404 \n",
            "\n",
            "[[2]]\n",
            "[1] 1\n",
            "\n",
            "[[3]]\n",
            "[1] 1\n",
            "\n",
            "[[4]]\n",
            "         1          2          3          4          5          6          7 \n",
            " 1.1595686  3.8160263 11.0815216 25.6588749 46.4123873 70.1329711  0.9778917 \n",
            "         8          9         10         11         12 \n",
            " 2.3378053  5.3520521 11.2976802 21.1470885 34.6293779 \n",
            "\n",
            "[[5]]\n",
            "           [,1]      [,2]\n",
            " [1,]  2.995732  2.995732\n",
            " [2,]  8.485703  8.485703\n",
            " [3,] 12.031481 12.031481\n",
            " [4,] 11.258291 11.258291\n",
            " [5,]  5.247024  5.247024\n",
            " [6,]  0.000000  0.000000\n",
            " [7,]  0.000000  0.000000\n",
            " [8,]  5.247024  5.247024\n",
            " [9,] 10.565144 10.565144\n",
            "[10,] 12.126791 12.126791\n",
            "[11,] 11.743799 11.743799\n",
            "[12,]  8.485703  8.485703\n",
            "\n",
            "[[6]]\n",
            "          1           2           3           4           5           6 \n",
            " 0.05969214  0.21021898  0.74033232  2.60724291  9.18197873 32.33635547 \n",
            "          7           8           9          10          11          12 \n",
            " 0.05010965  0.12399608  0.30682771  0.75924372  1.87874497  4.64894551 \n",
            "\n",
            "[[7]]\n",
            "         1          2          3          4          5          6          7 \n",
            " 1.1265939  3.4740651  8.5079419 14.4555993 18.0357453 19.4000544  0.9543698 \n",
            "         8          9         10         11         12 \n",
            " 2.2063437  4.6957638  8.6314785 13.0525280 16.4595162 \n",
            "\n",
            "[[8]]\n",
            "        1         2         3         4         5         6         7         8 \n",
            "1.0631333 2.8706087 4.8886881 4.0073817 1.7713399 0.5819489 0.9088287 1.9629460 \n",
            "        9        10        11        12 \n",
            "3.5932539 4.9063574 4.5341036 2.9137325 \n",
            "\n"
          ]
        }
      ]
    },
    {
      "cell_type": "markdown",
      "source": [
        "# c) Metodo Fisher Scoring"
      ],
      "metadata": {
        "id": "1t0ByEGeFsNI"
      }
    },
    {
      "cell_type": "code",
      "source": [
        "# Inicializando variables necesarias\n",
        "beta <- c(-1, 0, 0, 0)\n",
        "X <- model.matrix(modelo)\n",
        "tol <- 1e-4\n",
        "nmax <- 100\n",
        "it <- 0\n",
        "error <- 10\n",
        "\n",
        "while((error > tol)&(it < nmax)) {\n",
        "  it <- it +1\n",
        "\n",
        "  # Parametros eta y mu\n",
        "  eta <- as.vector(X %*% beta)\n",
        "  m <- as.vector(n*exp(eta)/(1 + exp(eta)))\n",
        "\n",
        "  # Calcular g'(mu) y varianza\n",
        "  dg <- as.vector(n/(n - m)^2)\n",
        "  v <- as.vector(m*(1 - m/n))\n",
        "\n",
        "  # Calcular matriz de pesos\n",
        "  D <- diag(1/dg)\n",
        "  W <- diag(1/v)\n",
        "  U <- D %*% W %*% D\n",
        "\n",
        "  y <- eta + solve(D) %*% (Y[,1] - m)\n",
        "\n",
        "  beta_k <- solve(t(X) %*% U %*% X) %*% t(X) %*% U %*% y\n",
        "  error <- sqrt(sum((beta - beta_k)^2))\n",
        "  beta <- beta_k\n",
        "}\n",
        "beta\n",
        "R = sqrt((beta-coef(modelo))^2)\n",
        "R"
      ],
      "metadata": {
        "colab": {
          "base_uri": "https://localhost:8080/",
          "height": 302
        },
        "id": "4xkF2scHAboD",
        "outputId": "ebef6ee1-bdc6-4b42-c7c8-bde78eab1498"
      },
      "execution_count": null,
      "outputs": [
        {
          "output_type": "display_data",
          "data": {
            "text/html": [
              "<table class=\"dataframe\">\n",
              "<caption>A matrix: 4 × 1 of type dbl</caption>\n",
              "<tbody>\n",
              "\t<tr><th scope=row>(Intercept)</th><td>-2.8618123</td></tr>\n",
              "\t<tr><th scope=row>sexohembra</th><td>-1.6253827</td></tr>\n",
              "\t<tr><th scope=row>logdosis</th><td> 1.3285516</td></tr>\n",
              "\t<tr><th scope=row>sexohembra:logdosis</th><td> 0.5536857</td></tr>\n",
              "</tbody>\n",
              "</table>\n"
            ],
            "text/markdown": "\nA matrix: 4 × 1 of type dbl\n\n| (Intercept) | -2.8618123 |\n| sexohembra | -1.6253827 |\n| logdosis |  1.3285516 |\n| sexohembra:logdosis |  0.5536857 |\n\n",
            "text/latex": "A matrix: 4 × 1 of type dbl\n\\begin{tabular}{r|l}\n\t(Intercept) & -2.8618123\\\\\n\tsexohembra & -1.6253827\\\\\n\tlogdosis &  1.3285516\\\\\n\tsexohembra:logdosis &  0.5536857\\\\\n\\end{tabular}\n",
            "text/plain": [
              "                    [,1]      \n",
              "(Intercept)         -2.8618123\n",
              "sexohembra          -1.6253827\n",
              "logdosis             1.3285516\n",
              "sexohembra:logdosis  0.5536857"
            ]
          },
          "metadata": {}
        },
        {
          "output_type": "display_data",
          "data": {
            "text/html": [
              "<table class=\"dataframe\">\n",
              "<caption>A matrix: 4 × 1 of type dbl</caption>\n",
              "<tbody>\n",
              "\t<tr><th scope=row>(Intercept)</th><td>0.04325733</td></tr>\n",
              "\t<tr><th scope=row>sexohembra</th><td>1.45039587</td></tr>\n",
              "\t<tr><th scope=row>logdosis</th><td>0.06960218</td></tr>\n",
              "\t<tr><th scope=row>sexohembra:logdosis</th><td>0.90659868</td></tr>\n",
              "</tbody>\n",
              "</table>\n"
            ],
            "text/markdown": "\nA matrix: 4 × 1 of type dbl\n\n| (Intercept) | 0.04325733 |\n| sexohembra | 1.45039587 |\n| logdosis | 0.06960218 |\n| sexohembra:logdosis | 0.90659868 |\n\n",
            "text/latex": "A matrix: 4 × 1 of type dbl\n\\begin{tabular}{r|l}\n\t(Intercept) & 0.04325733\\\\\n\tsexohembra & 1.45039587\\\\\n\tlogdosis & 0.06960218\\\\\n\tsexohembra:logdosis & 0.90659868\\\\\n\\end{tabular}\n",
            "text/plain": [
              "                    [,1]      \n",
              "(Intercept)         0.04325733\n",
              "sexohembra          1.45039587\n",
              "logdosis            0.06960218\n",
              "sexohembra:logdosis 0.90659868"
            ]
          },
          "metadata": {}
        }
      ]
    },
    {
      "cell_type": "markdown",
      "source": [
        "Los coeficientes para el intercepto y para logdosis se acercan ligeramente a los valores obtenidos con GLM, sin embargo el error para los demas coeficientes es muy alto."
      ],
      "metadata": {
        "id": "0rhhMU7pvqj0"
      }
    },
    {
      "cell_type": "markdown",
      "source": [
        "# d) Grafica"
      ],
      "metadata": {
        "id": "7LLIboxUa0qm"
      }
    },
    {
      "cell_type": "code",
      "source": [
        "library(ggplot2)\n",
        "# Obtener los valores de la prediccion para la curva\n",
        "datos$pred <- p\n",
        "datos$est <- n*p\n",
        "datos\n",
        "\n",
        "ggplot(datos, aes(x = logdosis, y = muertos, color = sexo)) +\n",
        "  geom_point() +  # Datos observados\n",
        "  geom_line(aes(y = est)) +  # Curvas estimadas\n",
        "  scale_color_manual(values = c(\"macho\" = \"blue\", \"hembra\" = \"red\")) +\n",
        "  labs(title = \"Prediccion de numero de muertos por sexo\",\n",
        "       x = \"log(dosis)\", y = \"muertos\")"
      ],
      "metadata": {
        "colab": {
          "base_uri": "https://localhost:8080/",
          "height": 894
        },
        "id": "tjH1GlhwYGQV",
        "outputId": "92a76941-8abb-4f45-8276-e2eacf0a5f1c"
      },
      "execution_count": null,
      "outputs": [
        {
          "output_type": "display_data",
          "data": {
            "text/html": [
              "<table class=\"dataframe\">\n",
              "<caption>A data.frame: 12 × 7</caption>\n",
              "<thead>\n",
              "\t<tr><th scope=col>dosis</th><th scope=col>logdosis</th><th scope=col>muertos</th><th scope=col>vivos</th><th scope=col>sexo</th><th scope=col>pred</th><th scope=col>est</th></tr>\n",
              "\t<tr><th scope=col>&lt;dbl&gt;</th><th scope=col>&lt;dbl&gt;</th><th scope=col>&lt;dbl&gt;</th><th scope=col>&lt;dbl&gt;</th><th scope=col>&lt;fct&gt;</th><th scope=col>&lt;dbl&gt;</th><th scope=col>&lt;dbl&gt;</th></tr>\n",
              "</thead>\n",
              "<tbody>\n",
              "\t<tr><td> 1</td><td>0</td><td> 1</td><td>19</td><td>macho </td><td>0.05632970</td><td> 1.1265939</td></tr>\n",
              "\t<tr><td> 2</td><td>1</td><td> 4</td><td>16</td><td>macho </td><td>0.17370326</td><td> 3.4740651</td></tr>\n",
              "\t<tr><td> 4</td><td>2</td><td> 9</td><td>11</td><td>macho </td><td>0.42539710</td><td> 8.5079419</td></tr>\n",
              "\t<tr><td> 8</td><td>3</td><td>13</td><td> 7</td><td>macho </td><td>0.72277997</td><td>14.4555993</td></tr>\n",
              "\t<tr><td>16</td><td>4</td><td>18</td><td> 2</td><td>macho </td><td>0.90178726</td><td>18.0357453</td></tr>\n",
              "\t<tr><td>32</td><td>5</td><td>20</td><td> 0</td><td>macho </td><td>0.97000272</td><td>19.4000544</td></tr>\n",
              "\t<tr><td> 1</td><td>0</td><td> 0</td><td>20</td><td>hembra</td><td>0.04771849</td><td> 0.9543698</td></tr>\n",
              "\t<tr><td> 2</td><td>1</td><td> 2</td><td>18</td><td>hembra</td><td>0.11031718</td><td> 2.2063437</td></tr>\n",
              "\t<tr><td> 4</td><td>2</td><td> 6</td><td>14</td><td>hembra</td><td>0.23478819</td><td> 4.6957638</td></tr>\n",
              "\t<tr><td> 8</td><td>3</td><td>10</td><td>10</td><td>hembra</td><td>0.43157393</td><td> 8.6314785</td></tr>\n",
              "\t<tr><td>16</td><td>4</td><td>12</td><td> 8</td><td>hembra</td><td>0.65262640</td><td>13.0525280</td></tr>\n",
              "\t<tr><td>32</td><td>5</td><td>16</td><td> 4</td><td>hembra</td><td>0.82297581</td><td>16.4595162</td></tr>\n",
              "</tbody>\n",
              "</table>\n"
            ],
            "text/markdown": "\nA data.frame: 12 × 7\n\n| dosis &lt;dbl&gt; | logdosis &lt;dbl&gt; | muertos &lt;dbl&gt; | vivos &lt;dbl&gt; | sexo &lt;fct&gt; | pred &lt;dbl&gt; | est &lt;dbl&gt; |\n|---|---|---|---|---|---|---|\n|  1 | 0 |  1 | 19 | macho  | 0.05632970 |  1.1265939 |\n|  2 | 1 |  4 | 16 | macho  | 0.17370326 |  3.4740651 |\n|  4 | 2 |  9 | 11 | macho  | 0.42539710 |  8.5079419 |\n|  8 | 3 | 13 |  7 | macho  | 0.72277997 | 14.4555993 |\n| 16 | 4 | 18 |  2 | macho  | 0.90178726 | 18.0357453 |\n| 32 | 5 | 20 |  0 | macho  | 0.97000272 | 19.4000544 |\n|  1 | 0 |  0 | 20 | hembra | 0.04771849 |  0.9543698 |\n|  2 | 1 |  2 | 18 | hembra | 0.11031718 |  2.2063437 |\n|  4 | 2 |  6 | 14 | hembra | 0.23478819 |  4.6957638 |\n|  8 | 3 | 10 | 10 | hembra | 0.43157393 |  8.6314785 |\n| 16 | 4 | 12 |  8 | hembra | 0.65262640 | 13.0525280 |\n| 32 | 5 | 16 |  4 | hembra | 0.82297581 | 16.4595162 |\n\n",
            "text/latex": "A data.frame: 12 × 7\n\\begin{tabular}{lllllll}\n dosis & logdosis & muertos & vivos & sexo & pred & est\\\\\n <dbl> & <dbl> & <dbl> & <dbl> & <fct> & <dbl> & <dbl>\\\\\n\\hline\n\t  1 & 0 &  1 & 19 & macho  & 0.05632970 &  1.1265939\\\\\n\t  2 & 1 &  4 & 16 & macho  & 0.17370326 &  3.4740651\\\\\n\t  4 & 2 &  9 & 11 & macho  & 0.42539710 &  8.5079419\\\\\n\t  8 & 3 & 13 &  7 & macho  & 0.72277997 & 14.4555993\\\\\n\t 16 & 4 & 18 &  2 & macho  & 0.90178726 & 18.0357453\\\\\n\t 32 & 5 & 20 &  0 & macho  & 0.97000272 & 19.4000544\\\\\n\t  1 & 0 &  0 & 20 & hembra & 0.04771849 &  0.9543698\\\\\n\t  2 & 1 &  2 & 18 & hembra & 0.11031718 &  2.2063437\\\\\n\t  4 & 2 &  6 & 14 & hembra & 0.23478819 &  4.6957638\\\\\n\t  8 & 3 & 10 & 10 & hembra & 0.43157393 &  8.6314785\\\\\n\t 16 & 4 & 12 &  8 & hembra & 0.65262640 & 13.0525280\\\\\n\t 32 & 5 & 16 &  4 & hembra & 0.82297581 & 16.4595162\\\\\n\\end{tabular}\n",
            "text/plain": [
              "   dosis logdosis muertos vivos sexo   pred       est       \n",
              "1   1    0         1      19    macho  0.05632970  1.1265939\n",
              "2   2    1         4      16    macho  0.17370326  3.4740651\n",
              "3   4    2         9      11    macho  0.42539710  8.5079419\n",
              "4   8    3        13       7    macho  0.72277997 14.4555993\n",
              "5  16    4        18       2    macho  0.90178726 18.0357453\n",
              "6  32    5        20       0    macho  0.97000272 19.4000544\n",
              "7   1    0         0      20    hembra 0.04771849  0.9543698\n",
              "8   2    1         2      18    hembra 0.11031718  2.2063437\n",
              "9   4    2         6      14    hembra 0.23478819  4.6957638\n",
              "10  8    3        10      10    hembra 0.43157393  8.6314785\n",
              "11 16    4        12       8    hembra 0.65262640 13.0525280\n",
              "12 32    5        16       4    hembra 0.82297581 16.4595162"
            ]
          },
          "metadata": {}
        },
        {
          "output_type": "display_data",
          "data": {
            "text/plain": [
              "plot without title"
            ],
            "image/png": "[encoded data removed]"
          },
          "metadata": {
            "image/png": {
              "width": 420,
              "height": 420
            }
          }
        }
      ]
    },
    {
      "cell_type": "markdown",
      "source": [
        "# Ejercicio 2"
      ],
      "metadata": {
        "id": "7_-OPmsudc8m"
      }
    },
    {
      "cell_type": "markdown",
      "source": [
        "Para la relacion entre el tipo de tumor y su localización utilizando un modelo lineal generalizado, en este caso, como el tipo de tumor y la localización son variables categoricas, podemos aplicar un modelo log-lineal para evaluar la asociacion entre estas variables."
      ],
      "metadata": {
        "id": "yn87NkkmeXJL"
      }
    },
    {
      "cell_type": "code",
      "source": [
        "# Definir la tabla de datos\n",
        "tabla <- matrix(c(\n",
        "      22, 2, 10,   # Hutchinson's melanotic freckle\n",
        "      16, 54, 115, # Superficial spreading melanoma\n",
        "      19, 33, 73,  # Nodular\n",
        "      11, 17, 28   # Indeterminate\n",
        "  ), nrow = 4, byrow = TRUE)\n",
        "\n",
        "colnames(tabla) <- c(\"Head & neck\", \"Trunk\", \"Extremities\")\n",
        "rownames(tabla) <- c(\"Hutchinson's melanotic freckle\", \"Superficial spreading melanoma\",\n",
        "                    \"Nodular\", \"Indeterminate\")\n",
        "tabla\n",
        "\n",
        "# Convertir la tabla en un data frame\n",
        "tumor_type <- factor(rep(rownames(tabla), each = 3))\n",
        "site <- factor(rep(colnames(tabla), times = 4))\n",
        "counts <- as.vector(t(tabla))\n",
        "datos2 <- data.frame(tumor_type, site, counts)\n",
        "datos2"
      ],
      "metadata": {
        "id": "3U7Vm0Bude6T"
      },
      "execution_count": null,
      "outputs": []
    },
    {
      "cell_type": "markdown",
      "source": [
        "Ajustar un modelo de regresion Poisson usando GLM, donde el modelo toma la cantidad de tumores observados con respecto a la interaccion entre tipo y localizacion."
      ],
      "metadata": {
        "id": "vDG807_rommi"
      }
    },
    {
      "cell_type": "code",
      "source": [
        "# Renombramos los niveles de los factores para facilitar la lectura\n",
        "colnames(tabla) <- c(\"SiteA\", #Head & neck\n",
        "                     \"SiteB\", #Trunk\n",
        "                     \"SiteC\") #Extremities\n",
        "rownames(tabla) <- c(\"Type1\", #Hutchinson's melanotic freckle\n",
        "                     \"Type2\", #Superficial spreading melanoma\n",
        "                     \"Type3\", #Nodular\n",
        "                     \"Type4\") #Indeterminate\n",
        "tumor_type <- factor(rep(rownames(tabla), each = 3))\n",
        "site <- factor(rep(colnames(tabla), times = 4))\n",
        "counts <- as.vector(t(tabla))\n",
        "datos2 <- data.frame(tumor_type, site, counts)\n",
        "datos2\n",
        "\n",
        "modelo2 <- glm(counts ~ tumor_type*site, family = poisson, data = datos2)\n",
        "summary(modelo2)"
      ],
      "metadata": {
        "id": "99fdf_Rdi9zs"
      },
      "execution_count": null,
      "outputs": []
    },
    {
      "cell_type": "markdown",
      "source": [
        "En los resultados obtenemos que los efectos de los tipos de tumor por si solos nos son significativos, sin embargo los efectos de la localizacion en comparacion con la localizacion A (Head & neck) si lo son.\n",
        "Para el problema en cuestion, podemos ver que todos los coeficientes de las interacciones son positivos y altamente significativos, con p-value mucho menores que 0.001."
      ],
      "metadata": {
        "id": "VyqEv30PpfLd"
      }
    },
    {
      "cell_type": "code",
      "source": [
        "# Reordenar las categorias para ver interacciones de el sitio A (Head & neck) y el tipo 1 (Hutchinson's melanotic freckle)\n",
        "#datos2$tumor_type <- relevel(datos2$tumor_type, ref = \"Type4\")\n",
        "datos2$site <- relevel(datos2$site, ref = \"SiteC\")\n",
        "\n",
        "modelo3 <- glm(counts ~ tumor_type*site, family = poisson, data = datos2)\n",
        "summary(modelo3)"
      ],
      "metadata": {
        "id": "uHsD5htznQI_"
      },
      "execution_count": null,
      "outputs": []
    },
    {
      "cell_type": "markdown",
      "source": [
        "Ahora observamos que los efectos de los tipos de tumores, por si solos, si tienen efectos significativos, ademas de los sitios y las interacciones, contando con p-value mucho menores a 0.05."
      ],
      "metadata": {
        "id": "0F024AmrrXOH"
      }
    },
    {
      "cell_type": "markdown",
      "source": [
        "Todos los resultados indican que hay interacciones significativas entre ciertos tipos y ciertas localizaciones, lo que sugiere una asociacion entre el tipo de tumor y su localizacion.\n",
        "\n",
        "Del primer modelo:\n",
        "* \"Type2\" (Superficial spreading melanoma) muestra una interaccion altamente significativa con \"SiteB\" (Trunk) y \"SiteC\" (Extremities).\n",
        "* \"Type3\" (Nodular) tambien muestra una interaccion muy significativa con \"SiteB\" (Trunk) y \"SiteC\" (Extremities).\n",
        "* \"Type4\" (Indeterminate) muestra una interaccion importante con  \"SiteB\" (Trunk) y \"SiteC\" (Extremities).\n",
        "\n",
        "Esos coeficientes indican un aumento significativo en el logaritmo de los conteos esperados para estas combinaciones.\n",
        "\n",
        "* \"SiteA\" (Head & neck) tiene un impacto importante en el tumor \"Type4\" (Indeterminate), mostrando una disminución significativa en el logaritmo de los conteos esperados en comparación con \"SiteC\" (Extremities).\n",
        "\n",
        "Del segundo modelo:\n",
        "* \"Type1\" (Hutchinson's melanotic freckle) muestra una interaccion significativa con \"SiteA\" (Head & neck).\n",
        "* \"Type2\" (Superficial spreading melanoma) y \"Type3\" (Nodular) muestran interacciones significativas con \"SiteA\" (Head & neck), en direcciones opuestas.\n",
        "\n",
        "La localizacion del tumor tiene un impacto muy importante en los tipos de tumores, especialmente en la comparacion de \"SiteA\" con \"SiteC\".\n",
        "Estos hallazgos implican que la distribucion del tipo de tumor varia dependiendo de la localizacion del tumor, lo cual tiene consecuencias importantes para la epidemiología del melanoma maligno y su tratamiento."
      ],
      "metadata": {
        "id": "DH80Z6CtseCw"
      }
    }
  ]
}