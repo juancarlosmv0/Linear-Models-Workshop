{
  "nbformat": 4,
  "nbformat_minor": 0,
  "metadata": {
    "colab": {
      "provenance": [],
      "collapsed_sections": [
        "zLNmLzFF0x3l"
      ]
    },
    "kernelspec": {
      "name": "ir",
      "display_name": "R"
    },
    "language_info": {
      "name": "R"
    }
  },
  "cells": [
    {
      "cell_type": "markdown",
      "source": [
        "# Ejercicio 1"
      ],
      "metadata": {
        "id": "3KDaEQd2050L"
      }
    },
    {
      "cell_type": "code",
      "source": [
        "# a) lm y pairs\n",
        "cars.mod3 <- lm(dist ~ speed + I(speed^2),\n",
        "                data = cars[-c(23,35,49),])\n",
        "summary(cars.mod3)"
      ],
      "metadata": {
        "colab": {
          "base_uri": "https://localhost:8080/",
          "height": 382
        },
        "id": "zpccsnPAOo26",
        "outputId": "0dc84740-e411-44c7-c35c-ac7dfe0029f6"
      },
      "execution_count": null,
      "outputs": [
        {
          "output_type": "display_data",
          "data": {
            "text/plain": [
              "\n",
              "Call:\n",
              "lm(formula = dist ~ speed + I(speed^2), data = cars[-c(23, 35, \n",
              "    49), ])\n",
              "\n",
              "Residuals:\n",
              "     Min       1Q   Median       3Q      Max \n",
              "-24.8686  -6.7502  -0.8686   5.6539  27.8759 \n",
              "\n",
              "Coefficients:\n",
              "            Estimate Std. Error t value Pr(>|t|)  \n",
              "(Intercept)  3.23123   11.44257   0.282   0.7790  \n",
              "speed        0.80363    1.59112   0.505   0.6160  \n",
              "I(speed^2)   0.09391    0.05217   1.800   0.0787 .\n",
              "---\n",
              "Signif. codes:  0 ‘***’ 0.001 ‘**’ 0.01 ‘*’ 0.05 ‘.’ 0.1 ‘ ’ 1\n",
              "\n",
              "Residual standard error: 11.55 on 44 degrees of freedom\n",
              "Multiple R-squared:  0.7451,\tAdjusted R-squared:  0.7335 \n",
              "F-statistic:  64.3 on 2 and 44 DF,  p-value: 8.731e-14\n"
            ]
          },
          "metadata": {}
        }
      ]
    },
    {
      "cell_type": "code",
      "source": [
        "pairs(cars[-c(23,35,49),])"
      ],
      "metadata": {
        "colab": {
          "base_uri": "https://localhost:8080/",
          "height": 437
        },
        "id": "GUPh_NosOxoM",
        "outputId": "84ecd573-b662-4b52-f409-24028369fdb2"
      },
      "execution_count": null,
      "outputs": [
        {
          "output_type": "display_data",
          "data": {
            "text/plain": [
              "plot without title"
            ],
            "image/png": "[encoded data removed]"
          },
          "metadata": {
            "image/png": {
              "width": 420,
              "height": 420
            }
          }
        }
      ]
    },
    {
      "cell_type": "code",
      "source": [
        "# b) Heatmap\n",
        "X <- model.matrix(cars.mod3)\n",
        "X\n",
        "sigma <- cov(X)\n",
        "sigma\n",
        "heatmap(sigma)"
      ],
      "metadata": {
        "colab": {
          "base_uri": "https://localhost:8080/",
          "height": 1000
        },
        "id": "MDS11ZnxO1Y0",
        "outputId": "98246f8d-5a12-4629-db03-769dfaab593f"
      },
      "execution_count": null,
      "outputs": [
        {
          "output_type": "display_data",
          "data": {
            "text/html": [
              "<table class=\"dataframe\">\n",
              "<caption>A matrix: 47 × 3 of type dbl</caption>\n",
              "<thead>\n",
              "\t<tr><th></th><th scope=col>(Intercept)</th><th scope=col>speed</th><th scope=col>I(speed^2)</th></tr>\n",
              "</thead>\n",
              "<tbody>\n",
              "\t<tr><th scope=row>1</th><td>1</td><td> 4</td><td> 16</td></tr>\n",
              "\t<tr><th scope=row>2</th><td>1</td><td> 4</td><td> 16</td></tr>\n",
              "\t<tr><th scope=row>3</th><td>1</td><td> 7</td><td> 49</td></tr>\n",
              "\t<tr><th scope=row>4</th><td>1</td><td> 7</td><td> 49</td></tr>\n",
              "\t<tr><th scope=row>5</th><td>1</td><td> 8</td><td> 64</td></tr>\n",
              "\t<tr><th scope=row>6</th><td>1</td><td> 9</td><td> 81</td></tr>\n",
              "\t<tr><th scope=row>7</th><td>1</td><td>10</td><td>100</td></tr>\n",
              "\t<tr><th scope=row>8</th><td>1</td><td>10</td><td>100</td></tr>\n",
              "\t<tr><th scope=row>9</th><td>1</td><td>10</td><td>100</td></tr>\n",
              "\t<tr><th scope=row>10</th><td>1</td><td>11</td><td>121</td></tr>\n",
              "\t<tr><th scope=row>11</th><td>1</td><td>11</td><td>121</td></tr>\n",
              "\t<tr><th scope=row>12</th><td>1</td><td>12</td><td>144</td></tr>\n",
              "\t<tr><th scope=row>13</th><td>1</td><td>12</td><td>144</td></tr>\n",
              "\t<tr><th scope=row>14</th><td>1</td><td>12</td><td>144</td></tr>\n",
              "\t<tr><th scope=row>15</th><td>1</td><td>12</td><td>144</td></tr>\n",
              "\t<tr><th scope=row>16</th><td>1</td><td>13</td><td>169</td></tr>\n",
              "\t<tr><th scope=row>17</th><td>1</td><td>13</td><td>169</td></tr>\n",
              "\t<tr><th scope=row>18</th><td>1</td><td>13</td><td>169</td></tr>\n",
              "\t<tr><th scope=row>19</th><td>1</td><td>13</td><td>169</td></tr>\n",
              "\t<tr><th scope=row>20</th><td>1</td><td>14</td><td>196</td></tr>\n",
              "\t<tr><th scope=row>21</th><td>1</td><td>14</td><td>196</td></tr>\n",
              "\t<tr><th scope=row>22</th><td>1</td><td>14</td><td>196</td></tr>\n",
              "\t<tr><th scope=row>24</th><td>1</td><td>15</td><td>225</td></tr>\n",
              "\t<tr><th scope=row>25</th><td>1</td><td>15</td><td>225</td></tr>\n",
              "\t<tr><th scope=row>26</th><td>1</td><td>15</td><td>225</td></tr>\n",
              "\t<tr><th scope=row>27</th><td>1</td><td>16</td><td>256</td></tr>\n",
              "\t<tr><th scope=row>28</th><td>1</td><td>16</td><td>256</td></tr>\n",
              "\t<tr><th scope=row>29</th><td>1</td><td>17</td><td>289</td></tr>\n",
              "\t<tr><th scope=row>30</th><td>1</td><td>17</td><td>289</td></tr>\n",
              "\t<tr><th scope=row>31</th><td>1</td><td>17</td><td>289</td></tr>\n",
              "\t<tr><th scope=row>32</th><td>1</td><td>18</td><td>324</td></tr>\n",
              "\t<tr><th scope=row>33</th><td>1</td><td>18</td><td>324</td></tr>\n",
              "\t<tr><th scope=row>34</th><td>1</td><td>18</td><td>324</td></tr>\n",
              "\t<tr><th scope=row>36</th><td>1</td><td>19</td><td>361</td></tr>\n",
              "\t<tr><th scope=row>37</th><td>1</td><td>19</td><td>361</td></tr>\n",
              "\t<tr><th scope=row>38</th><td>1</td><td>19</td><td>361</td></tr>\n",
              "\t<tr><th scope=row>39</th><td>1</td><td>20</td><td>400</td></tr>\n",
              "\t<tr><th scope=row>40</th><td>1</td><td>20</td><td>400</td></tr>\n",
              "\t<tr><th scope=row>41</th><td>1</td><td>20</td><td>400</td></tr>\n",
              "\t<tr><th scope=row>42</th><td>1</td><td>20</td><td>400</td></tr>\n",
              "\t<tr><th scope=row>43</th><td>1</td><td>20</td><td>400</td></tr>\n",
              "\t<tr><th scope=row>44</th><td>1</td><td>22</td><td>484</td></tr>\n",
              "\t<tr><th scope=row>45</th><td>1</td><td>23</td><td>529</td></tr>\n",
              "\t<tr><th scope=row>46</th><td>1</td><td>24</td><td>576</td></tr>\n",
              "\t<tr><th scope=row>47</th><td>1</td><td>24</td><td>576</td></tr>\n",
              "\t<tr><th scope=row>48</th><td>1</td><td>24</td><td>576</td></tr>\n",
              "\t<tr><th scope=row>50</th><td>1</td><td>25</td><td>625</td></tr>\n",
              "</tbody>\n",
              "</table>\n"
            ],
            "text/markdown": "\nA matrix: 47 × 3 of type dbl\n\n| <!--/--> | (Intercept) | speed | I(speed^2) |\n|---|---|---|---|\n| 1 | 1 |  4 |  16 |\n| 2 | 1 |  4 |  16 |\n| 3 | 1 |  7 |  49 |\n| 4 | 1 |  7 |  49 |\n| 5 | 1 |  8 |  64 |\n| 6 | 1 |  9 |  81 |\n| 7 | 1 | 10 | 100 |\n| 8 | 1 | 10 | 100 |\n| 9 | 1 | 10 | 100 |\n| 10 | 1 | 11 | 121 |\n| 11 | 1 | 11 | 121 |\n| 12 | 1 | 12 | 144 |\n| 13 | 1 | 12 | 144 |\n| 14 | 1 | 12 | 144 |\n| 15 | 1 | 12 | 144 |\n| 16 | 1 | 13 | 169 |\n| 17 | 1 | 13 | 169 |\n| 18 | 1 | 13 | 169 |\n| 19 | 1 | 13 | 169 |\n| 20 | 1 | 14 | 196 |\n| 21 | 1 | 14 | 196 |\n| 22 | 1 | 14 | 196 |\n| 24 | 1 | 15 | 225 |\n| 25 | 1 | 15 | 225 |\n| 26 | 1 | 15 | 225 |\n| 27 | 1 | 16 | 256 |\n| 28 | 1 | 16 | 256 |\n| 29 | 1 | 17 | 289 |\n| 30 | 1 | 17 | 289 |\n| 31 | 1 | 17 | 289 |\n| 32 | 1 | 18 | 324 |\n| 33 | 1 | 18 | 324 |\n| 34 | 1 | 18 | 324 |\n| 36 | 1 | 19 | 361 |\n| 37 | 1 | 19 | 361 |\n| 38 | 1 | 19 | 361 |\n| 39 | 1 | 20 | 400 |\n| 40 | 1 | 20 | 400 |\n| 41 | 1 | 20 | 400 |\n| 42 | 1 | 20 | 400 |\n| 43 | 1 | 20 | 400 |\n| 44 | 1 | 22 | 484 |\n| 45 | 1 | 23 | 529 |\n| 46 | 1 | 24 | 576 |\n| 47 | 1 | 24 | 576 |\n| 48 | 1 | 24 | 576 |\n| 50 | 1 | 25 | 625 |\n\n",
            "text/latex": "A matrix: 47 × 3 of type dbl\n\\begin{tabular}{r|lll}\n  & (Intercept) & speed & I(speed\\textasciicircum{}2)\\\\\n\\hline\n\t1 & 1 &  4 &  16\\\\\n\t2 & 1 &  4 &  16\\\\\n\t3 & 1 &  7 &  49\\\\\n\t4 & 1 &  7 &  49\\\\\n\t5 & 1 &  8 &  64\\\\\n\t6 & 1 &  9 &  81\\\\\n\t7 & 1 & 10 & 100\\\\\n\t8 & 1 & 10 & 100\\\\\n\t9 & 1 & 10 & 100\\\\\n\t10 & 1 & 11 & 121\\\\\n\t11 & 1 & 11 & 121\\\\\n\t12 & 1 & 12 & 144\\\\\n\t13 & 1 & 12 & 144\\\\\n\t14 & 1 & 12 & 144\\\\\n\t15 & 1 & 12 & 144\\\\\n\t16 & 1 & 13 & 169\\\\\n\t17 & 1 & 13 & 169\\\\\n\t18 & 1 & 13 & 169\\\\\n\t19 & 1 & 13 & 169\\\\\n\t20 & 1 & 14 & 196\\\\\n\t21 & 1 & 14 & 196\\\\\n\t22 & 1 & 14 & 196\\\\\n\t24 & 1 & 15 & 225\\\\\n\t25 & 1 & 15 & 225\\\\\n\t26 & 1 & 15 & 225\\\\\n\t27 & 1 & 16 & 256\\\\\n\t28 & 1 & 16 & 256\\\\\n\t29 & 1 & 17 & 289\\\\\n\t30 & 1 & 17 & 289\\\\\n\t31 & 1 & 17 & 289\\\\\n\t32 & 1 & 18 & 324\\\\\n\t33 & 1 & 18 & 324\\\\\n\t34 & 1 & 18 & 324\\\\\n\t36 & 1 & 19 & 361\\\\\n\t37 & 1 & 19 & 361\\\\\n\t38 & 1 & 19 & 361\\\\\n\t39 & 1 & 20 & 400\\\\\n\t40 & 1 & 20 & 400\\\\\n\t41 & 1 & 20 & 400\\\\\n\t42 & 1 & 20 & 400\\\\\n\t43 & 1 & 20 & 400\\\\\n\t44 & 1 & 22 & 484\\\\\n\t45 & 1 & 23 & 529\\\\\n\t46 & 1 & 24 & 576\\\\\n\t47 & 1 & 24 & 576\\\\\n\t48 & 1 & 24 & 576\\\\\n\t50 & 1 & 25 & 625\\\\\n\\end{tabular}\n",
            "text/plain": [
              "   (Intercept) speed I(speed^2)\n",
              "1  1            4     16       \n",
              "2  1            4     16       \n",
              "3  1            7     49       \n",
              "4  1            7     49       \n",
              "5  1            8     64       \n",
              "6  1            9     81       \n",
              "7  1           10    100       \n",
              "8  1           10    100       \n",
              "9  1           10    100       \n",
              "10 1           11    121       \n",
              "11 1           11    121       \n",
              "12 1           12    144       \n",
              "13 1           12    144       \n",
              "14 1           12    144       \n",
              "15 1           12    144       \n",
              "16 1           13    169       \n",
              "17 1           13    169       \n",
              "18 1           13    169       \n",
              "19 1           13    169       \n",
              "20 1           14    196       \n",
              "21 1           14    196       \n",
              "22 1           14    196       \n",
              "24 1           15    225       \n",
              "25 1           15    225       \n",
              "26 1           15    225       \n",
              "27 1           16    256       \n",
              "28 1           16    256       \n",
              "29 1           17    289       \n",
              "30 1           17    289       \n",
              "31 1           17    289       \n",
              "32 1           18    324       \n",
              "33 1           18    324       \n",
              "34 1           18    324       \n",
              "36 1           19    361       \n",
              "37 1           19    361       \n",
              "38 1           19    361       \n",
              "39 1           20    400       \n",
              "40 1           20    400       \n",
              "41 1           20    400       \n",
              "42 1           20    400       \n",
              "43 1           20    400       \n",
              "44 1           22    484       \n",
              "45 1           23    529       \n",
              "46 1           24    576       \n",
              "47 1           24    576       \n",
              "48 1           24    576       \n",
              "50 1           25    625       "
            ]
          },
          "metadata": {}
        },
        {
          "output_type": "display_data",
          "data": {
            "text/html": [
              "<table class=\"dataframe\">\n",
              "<caption>A matrix: 3 × 3 of type dbl</caption>\n",
              "<thead>\n",
              "\t<tr><th></th><th scope=col>(Intercept)</th><th scope=col>speed</th><th scope=col>I(speed^2)</th></tr>\n",
              "</thead>\n",
              "<tbody>\n",
              "\t<tr><th scope=row>(Intercept)</th><td>0</td><td>  0.0000</td><td>    0.0000</td></tr>\n",
              "\t<tr><th scope=row>speed</th><td>0</td><td> 27.9408</td><td>  834.4968</td></tr>\n",
              "\t<tr><th scope=row>I(speed^2)</th><td>0</td><td>834.4968</td><td>25989.8964</td></tr>\n",
              "</tbody>\n",
              "</table>\n"
            ],
            "text/markdown": "\nA matrix: 3 × 3 of type dbl\n\n| <!--/--> | (Intercept) | speed | I(speed^2) |\n|---|---|---|---|\n| (Intercept) | 0 |   0.0000 |     0.0000 |\n| speed | 0 |  27.9408 |   834.4968 |\n| I(speed^2) | 0 | 834.4968 | 25989.8964 |\n\n",
            "text/latex": "A matrix: 3 × 3 of type dbl\n\\begin{tabular}{r|lll}\n  & (Intercept) & speed & I(speed\\textasciicircum{}2)\\\\\n\\hline\n\t(Intercept) & 0 &   0.0000 &     0.0000\\\\\n\tspeed & 0 &  27.9408 &   834.4968\\\\\n\tI(speed\\textasciicircum{}2) & 0 & 834.4968 & 25989.8964\\\\\n\\end{tabular}\n",
            "text/plain": [
              "            (Intercept) speed    I(speed^2)\n",
              "(Intercept) 0             0.0000     0.0000\n",
              "speed       0            27.9408   834.4968\n",
              "I(speed^2)  0           834.4968 25989.8964"
            ]
          },
          "metadata": {}
        },
        {
          "output_type": "display_data",
          "data": {
            "text/plain": [
              "plot without title"
            ],
            "image/png": "[encoded data removed]"
          },
          "metadata": {
            "image/png": {
              "width": 420,
              "height": 420
            }
          }
        }
      ]
    },
    {
      "cell_type": "code",
      "source": [
        "QR <- qr(X)\n",
        "QR"
      ],
      "metadata": {
        "colab": {
          "base_uri": "https://localhost:8080/",
          "height": 1000
        },
        "id": "sHsU8loHO3WU",
        "outputId": "7d12ecde-fe46-45cf-a266-69073f9f67ae"
      },
      "execution_count": null,
      "outputs": [
        {
          "output_type": "display_data",
          "data": {
            "text/plain": [
              "$qr\n",
              "   (Intercept)         speed    I(speed^2)\n",
              "1    -6.855655 -1.041476e+02 -1.769634e+03\n",
              "2     0.145865  3.585075e+01  1.070740e+03\n",
              "3     0.145865  1.887505e-01 -2.214729e+02\n",
              "4     0.145865  1.887505e-01  5.360133e-02\n",
              "5     0.145865  1.608571e-01 -5.567060e-03\n",
              "6     0.145865  1.329637e-01 -5.570500e-02\n",
              "7     0.145865  1.050703e-01 -9.681249e-02\n",
              "8     0.145865  1.050703e-01 -9.681249e-02\n",
              "9     0.145865  1.050703e-01 -9.681249e-02\n",
              "10    0.145865  7.717685e-02 -1.288895e-01\n",
              "11    0.145865  7.717685e-02 -1.288895e-01\n",
              "12    0.145865  4.928343e-02 -1.519361e-01\n",
              "13    0.145865  4.928343e-02 -1.519361e-01\n",
              "14    0.145865  4.928343e-02 -1.519361e-01\n",
              "15    0.145865  4.928343e-02 -1.519361e-01\n",
              "16    0.145865  2.139001e-02 -1.659523e-01\n",
              "17    0.145865  2.139001e-02 -1.659523e-01\n",
              "18    0.145865  2.139001e-02 -1.659523e-01\n",
              "19    0.145865  2.139001e-02 -1.659523e-01\n",
              "20    0.145865 -6.503402e-03 -1.709379e-01\n",
              "21    0.145865 -6.503402e-03 -1.709379e-01\n",
              "22    0.145865 -6.503402e-03 -1.709379e-01\n",
              "24    0.145865 -3.439682e-02 -1.668932e-01\n",
              "25    0.145865 -3.439682e-02 -1.668932e-01\n",
              "26    0.145865 -3.439682e-02 -1.668932e-01\n",
              "27    0.145865 -6.229023e-02 -1.538180e-01\n",
              "28    0.145865 -6.229023e-02 -1.538180e-01\n",
              "29    0.145865 -9.018365e-02 -1.317123e-01\n",
              "30    0.145865 -9.018365e-02 -1.317123e-01\n",
              "31    0.145865 -9.018365e-02 -1.317123e-01\n",
              "32    0.145865 -1.180771e-01 -1.005762e-01\n",
              "33    0.145865 -1.180771e-01 -1.005762e-01\n",
              "34    0.145865 -1.180771e-01 -1.005762e-01\n",
              "36    0.145865 -1.459705e-01 -6.040961e-02\n",
              "37    0.145865 -1.459705e-01 -6.040961e-02\n",
              "38    0.145865 -1.459705e-01 -6.040961e-02\n",
              "39    0.145865 -1.738639e-01 -1.121259e-02\n",
              "40    0.145865 -1.738639e-01 -1.121259e-02\n",
              "41    0.145865 -1.738639e-01 -1.121259e-02\n",
              "42    0.145865 -1.738639e-01 -1.121259e-02\n",
              "43    0.145865 -1.738639e-01 -1.121259e-02\n",
              "44    0.145865 -2.296507e-01  1.142728e-01\n",
              "45    0.145865 -2.575441e-01  1.905612e-01\n",
              "46    0.145865 -2.854376e-01  2.758800e-01\n",
              "47    0.145865 -2.854376e-01  2.758800e-01\n",
              "48    0.145865 -2.854376e-01  2.758800e-01\n",
              "50    0.145865 -3.133310e-01  3.702293e-01\n",
              "attr(,\"assign\")\n",
              "[1] 0 1 2\n",
              "\n",
              "$rank\n",
              "[1] 3\n",
              "\n",
              "$qraux\n",
              "[1] 1.145865 1.272431 1.053601\n",
              "\n",
              "$pivot\n",
              "[1] 1 2 3\n",
              "\n",
              "attr(,\"class\")\n",
              "[1] \"qr\""
            ]
          },
          "metadata": {}
        }
      ]
    },
    {
      "cell_type": "code",
      "source": [
        "Q <- qr.Q(QR)\n",
        "Q\n",
        "R <- qr.R(QR)\n",
        "R"
      ],
      "metadata": {
        "colab": {
          "base_uri": "https://localhost:8080/",
          "height": 1000
        },
        "id": "NzmtlJ9MO_eU",
        "outputId": "94a5c938-084f-4ddd-8241-0d01f57ee0c2"
      },
      "execution_count": null,
      "outputs": [
        {
          "output_type": "display_data",
          "data": {
            "text/html": [
              "<table class=\"dataframe\">\n",
              "<caption>A matrix: 47 × 3 of type dbl</caption>\n",
              "<tbody>\n",
              "\t<tr><td>-0.145865</td><td>-0.312168866</td><td>-0.415961339</td></tr>\n",
              "\t<tr><td>-0.145865</td><td>-0.312168866</td><td>-0.415961339</td></tr>\n",
              "\t<tr><td>-0.145865</td><td>-0.228488619</td><td>-0.160400382</td></tr>\n",
              "\t<tr><td>-0.145865</td><td>-0.228488619</td><td>-0.160400382</td></tr>\n",
              "\t<tr><td>-0.145865</td><td>-0.200595203</td><td>-0.093274298</td></tr>\n",
              "\t<tr><td>-0.145865</td><td>-0.172701787</td><td>-0.035178666</td></tr>\n",
              "\t<tr><td>-0.145865</td><td>-0.144808371</td><td> 0.013886516</td></tr>\n",
              "\t<tr><td>-0.145865</td><td>-0.144808371</td><td> 0.013886516</td></tr>\n",
              "\t<tr><td>-0.145865</td><td>-0.144808371</td><td> 0.013886516</td></tr>\n",
              "\t<tr><td>-0.145865</td><td>-0.116914955</td><td> 0.053921247</td></tr>\n",
              "\t<tr><td>-0.145865</td><td>-0.116914955</td><td> 0.053921247</td></tr>\n",
              "\t<tr><td>-0.145865</td><td>-0.089021540</td><td> 0.084925526</td></tr>\n",
              "\t<tr><td>-0.145865</td><td>-0.089021540</td><td> 0.084925526</td></tr>\n",
              "\t<tr><td>-0.145865</td><td>-0.089021540</td><td> 0.084925526</td></tr>\n",
              "\t<tr><td>-0.145865</td><td>-0.089021540</td><td> 0.084925526</td></tr>\n",
              "\t<tr><td>-0.145865</td><td>-0.061128124</td><td> 0.106899354</td></tr>\n",
              "\t<tr><td>-0.145865</td><td>-0.061128124</td><td> 0.106899354</td></tr>\n",
              "\t<tr><td>-0.145865</td><td>-0.061128124</td><td> 0.106899354</td></tr>\n",
              "\t<tr><td>-0.145865</td><td>-0.061128124</td><td> 0.106899354</td></tr>\n",
              "\t<tr><td>-0.145865</td><td>-0.033234708</td><td> 0.119842732</td></tr>\n",
              "\t<tr><td>-0.145865</td><td>-0.033234708</td><td> 0.119842732</td></tr>\n",
              "\t<tr><td>-0.145865</td><td>-0.033234708</td><td> 0.119842732</td></tr>\n",
              "\t<tr><td>-0.145865</td><td>-0.005341292</td><td> 0.123755658</td></tr>\n",
              "\t<tr><td>-0.145865</td><td>-0.005341292</td><td> 0.123755658</td></tr>\n",
              "\t<tr><td>-0.145865</td><td>-0.005341292</td><td> 0.123755658</td></tr>\n",
              "\t<tr><td>-0.145865</td><td> 0.022552123</td><td> 0.118638134</td></tr>\n",
              "\t<tr><td>-0.145865</td><td> 0.022552123</td><td> 0.118638134</td></tr>\n",
              "\t<tr><td>-0.145865</td><td> 0.050445539</td><td> 0.104490158</td></tr>\n",
              "\t<tr><td>-0.145865</td><td> 0.050445539</td><td> 0.104490158</td></tr>\n",
              "\t<tr><td>-0.145865</td><td> 0.050445539</td><td> 0.104490158</td></tr>\n",
              "\t<tr><td>-0.145865</td><td> 0.078338955</td><td> 0.081311731</td></tr>\n",
              "\t<tr><td>-0.145865</td><td> 0.078338955</td><td> 0.081311731</td></tr>\n",
              "\t<tr><td>-0.145865</td><td> 0.078338955</td><td> 0.081311731</td></tr>\n",
              "\t<tr><td>-0.145865</td><td> 0.106232371</td><td> 0.049102853</td></tr>\n",
              "\t<tr><td>-0.145865</td><td> 0.106232371</td><td> 0.049102853</td></tr>\n",
              "\t<tr><td>-0.145865</td><td> 0.106232371</td><td> 0.049102853</td></tr>\n",
              "\t<tr><td>-0.145865</td><td> 0.134125786</td><td> 0.007863524</td></tr>\n",
              "\t<tr><td>-0.145865</td><td> 0.134125786</td><td> 0.007863524</td></tr>\n",
              "\t<tr><td>-0.145865</td><td> 0.134125786</td><td> 0.007863524</td></tr>\n",
              "\t<tr><td>-0.145865</td><td> 0.134125786</td><td> 0.007863524</td></tr>\n",
              "\t<tr><td>-0.145865</td><td> 0.134125786</td><td> 0.007863524</td></tr>\n",
              "\t<tr><td>-0.145865</td><td> 0.189912618</td><td>-0.101706486</td></tr>\n",
              "\t<tr><td>-0.145865</td><td> 0.217806034</td><td>-0.170037168</td></tr>\n",
              "\t<tr><td>-0.145865</td><td> 0.245699450</td><td>-0.247398301</td></tr>\n",
              "\t<tr><td>-0.145865</td><td> 0.245699450</td><td>-0.247398301</td></tr>\n",
              "\t<tr><td>-0.145865</td><td> 0.245699450</td><td>-0.247398301</td></tr>\n",
              "\t<tr><td>-0.145865</td><td> 0.273592865</td><td>-0.333789885</td></tr>\n",
              "</tbody>\n",
              "</table>\n"
            ],
            "text/markdown": "\nA matrix: 47 × 3 of type dbl\n\n| -0.145865 | -0.312168866 | -0.415961339 |\n| -0.145865 | -0.312168866 | -0.415961339 |\n| -0.145865 | -0.228488619 | -0.160400382 |\n| -0.145865 | -0.228488619 | -0.160400382 |\n| -0.145865 | -0.200595203 | -0.093274298 |\n| -0.145865 | -0.172701787 | -0.035178666 |\n| -0.145865 | -0.144808371 |  0.013886516 |\n| -0.145865 | -0.144808371 |  0.013886516 |\n| -0.145865 | -0.144808371 |  0.013886516 |\n| -0.145865 | -0.116914955 |  0.053921247 |\n| -0.145865 | -0.116914955 |  0.053921247 |\n| -0.145865 | -0.089021540 |  0.084925526 |\n| -0.145865 | -0.089021540 |  0.084925526 |\n| -0.145865 | -0.089021540 |  0.084925526 |\n| -0.145865 | -0.089021540 |  0.084925526 |\n| -0.145865 | -0.061128124 |  0.106899354 |\n| -0.145865 | -0.061128124 |  0.106899354 |\n| -0.145865 | -0.061128124 |  0.106899354 |\n| -0.145865 | -0.061128124 |  0.106899354 |\n| -0.145865 | -0.033234708 |  0.119842732 |\n| -0.145865 | -0.033234708 |  0.119842732 |\n| -0.145865 | -0.033234708 |  0.119842732 |\n| -0.145865 | -0.005341292 |  0.123755658 |\n| -0.145865 | -0.005341292 |  0.123755658 |\n| -0.145865 | -0.005341292 |  0.123755658 |\n| -0.145865 |  0.022552123 |  0.118638134 |\n| -0.145865 |  0.022552123 |  0.118638134 |\n| -0.145865 |  0.050445539 |  0.104490158 |\n| -0.145865 |  0.050445539 |  0.104490158 |\n| -0.145865 |  0.050445539 |  0.104490158 |\n| -0.145865 |  0.078338955 |  0.081311731 |\n| -0.145865 |  0.078338955 |  0.081311731 |\n| -0.145865 |  0.078338955 |  0.081311731 |\n| -0.145865 |  0.106232371 |  0.049102853 |\n| -0.145865 |  0.106232371 |  0.049102853 |\n| -0.145865 |  0.106232371 |  0.049102853 |\n| -0.145865 |  0.134125786 |  0.007863524 |\n| -0.145865 |  0.134125786 |  0.007863524 |\n| -0.145865 |  0.134125786 |  0.007863524 |\n| -0.145865 |  0.134125786 |  0.007863524 |\n| -0.145865 |  0.134125786 |  0.007863524 |\n| -0.145865 |  0.189912618 | -0.101706486 |\n| -0.145865 |  0.217806034 | -0.170037168 |\n| -0.145865 |  0.245699450 | -0.247398301 |\n| -0.145865 |  0.245699450 | -0.247398301 |\n| -0.145865 |  0.245699450 | -0.247398301 |\n| -0.145865 |  0.273592865 | -0.333789885 |\n\n",
            "text/latex": "A matrix: 47 × 3 of type dbl\n\\begin{tabular}{lll}\n\t -0.145865 & -0.312168866 & -0.415961339\\\\\n\t -0.145865 & -0.312168866 & -0.415961339\\\\\n\t -0.145865 & -0.228488619 & -0.160400382\\\\\n\t -0.145865 & -0.228488619 & -0.160400382\\\\\n\t -0.145865 & -0.200595203 & -0.093274298\\\\\n\t -0.145865 & -0.172701787 & -0.035178666\\\\\n\t -0.145865 & -0.144808371 &  0.013886516\\\\\n\t -0.145865 & -0.144808371 &  0.013886516\\\\\n\t -0.145865 & -0.144808371 &  0.013886516\\\\\n\t -0.145865 & -0.116914955 &  0.053921247\\\\\n\t -0.145865 & -0.116914955 &  0.053921247\\\\\n\t -0.145865 & -0.089021540 &  0.084925526\\\\\n\t -0.145865 & -0.089021540 &  0.084925526\\\\\n\t -0.145865 & -0.089021540 &  0.084925526\\\\\n\t -0.145865 & -0.089021540 &  0.084925526\\\\\n\t -0.145865 & -0.061128124 &  0.106899354\\\\\n\t -0.145865 & -0.061128124 &  0.106899354\\\\\n\t -0.145865 & -0.061128124 &  0.106899354\\\\\n\t -0.145865 & -0.061128124 &  0.106899354\\\\\n\t -0.145865 & -0.033234708 &  0.119842732\\\\\n\t -0.145865 & -0.033234708 &  0.119842732\\\\\n\t -0.145865 & -0.033234708 &  0.119842732\\\\\n\t -0.145865 & -0.005341292 &  0.123755658\\\\\n\t -0.145865 & -0.005341292 &  0.123755658\\\\\n\t -0.145865 & -0.005341292 &  0.123755658\\\\\n\t -0.145865 &  0.022552123 &  0.118638134\\\\\n\t -0.145865 &  0.022552123 &  0.118638134\\\\\n\t -0.145865 &  0.050445539 &  0.104490158\\\\\n\t -0.145865 &  0.050445539 &  0.104490158\\\\\n\t -0.145865 &  0.050445539 &  0.104490158\\\\\n\t -0.145865 &  0.078338955 &  0.081311731\\\\\n\t -0.145865 &  0.078338955 &  0.081311731\\\\\n\t -0.145865 &  0.078338955 &  0.081311731\\\\\n\t -0.145865 &  0.106232371 &  0.049102853\\\\\n\t -0.145865 &  0.106232371 &  0.049102853\\\\\n\t -0.145865 &  0.106232371 &  0.049102853\\\\\n\t -0.145865 &  0.134125786 &  0.007863524\\\\\n\t -0.145865 &  0.134125786 &  0.007863524\\\\\n\t -0.145865 &  0.134125786 &  0.007863524\\\\\n\t -0.145865 &  0.134125786 &  0.007863524\\\\\n\t -0.145865 &  0.134125786 &  0.007863524\\\\\n\t -0.145865 &  0.189912618 & -0.101706486\\\\\n\t -0.145865 &  0.217806034 & -0.170037168\\\\\n\t -0.145865 &  0.245699450 & -0.247398301\\\\\n\t -0.145865 &  0.245699450 & -0.247398301\\\\\n\t -0.145865 &  0.245699450 & -0.247398301\\\\\n\t -0.145865 &  0.273592865 & -0.333789885\\\\\n\\end{tabular}\n",
            "text/plain": [
              "      [,1]      [,2]         [,3]        \n",
              " [1,] -0.145865 -0.312168866 -0.415961339\n",
              " [2,] -0.145865 -0.312168866 -0.415961339\n",
              " [3,] -0.145865 -0.228488619 -0.160400382\n",
              " [4,] -0.145865 -0.228488619 -0.160400382\n",
              " [5,] -0.145865 -0.200595203 -0.093274298\n",
              " [6,] -0.145865 -0.172701787 -0.035178666\n",
              " [7,] -0.145865 -0.144808371  0.013886516\n",
              " [8,] -0.145865 -0.144808371  0.013886516\n",
              " [9,] -0.145865 -0.144808371  0.013886516\n",
              "[10,] -0.145865 -0.116914955  0.053921247\n",
              "[11,] -0.145865 -0.116914955  0.053921247\n",
              "[12,] -0.145865 -0.089021540  0.084925526\n",
              "[13,] -0.145865 -0.089021540  0.084925526\n",
              "[14,] -0.145865 -0.089021540  0.084925526\n",
              "[15,] -0.145865 -0.089021540  0.084925526\n",
              "[16,] -0.145865 -0.061128124  0.106899354\n",
              "[17,] -0.145865 -0.061128124  0.106899354\n",
              "[18,] -0.145865 -0.061128124  0.106899354\n",
              "[19,] -0.145865 -0.061128124  0.106899354\n",
              "[20,] -0.145865 -0.033234708  0.119842732\n",
              "[21,] -0.145865 -0.033234708  0.119842732\n",
              "[22,] -0.145865 -0.033234708  0.119842732\n",
              "[23,] -0.145865 -0.005341292  0.123755658\n",
              "[24,] -0.145865 -0.005341292  0.123755658\n",
              "[25,] -0.145865 -0.005341292  0.123755658\n",
              "[26,] -0.145865  0.022552123  0.118638134\n",
              "[27,] -0.145865  0.022552123  0.118638134\n",
              "[28,] -0.145865  0.050445539  0.104490158\n",
              "[29,] -0.145865  0.050445539  0.104490158\n",
              "[30,] -0.145865  0.050445539  0.104490158\n",
              "[31,] -0.145865  0.078338955  0.081311731\n",
              "[32,] -0.145865  0.078338955  0.081311731\n",
              "[33,] -0.145865  0.078338955  0.081311731\n",
              "[34,] -0.145865  0.106232371  0.049102853\n",
              "[35,] -0.145865  0.106232371  0.049102853\n",
              "[36,] -0.145865  0.106232371  0.049102853\n",
              "[37,] -0.145865  0.134125786  0.007863524\n",
              "[38,] -0.145865  0.134125786  0.007863524\n",
              "[39,] -0.145865  0.134125786  0.007863524\n",
              "[40,] -0.145865  0.134125786  0.007863524\n",
              "[41,] -0.145865  0.134125786  0.007863524\n",
              "[42,] -0.145865  0.189912618 -0.101706486\n",
              "[43,] -0.145865  0.217806034 -0.170037168\n",
              "[44,] -0.145865  0.245699450 -0.247398301\n",
              "[45,] -0.145865  0.245699450 -0.247398301\n",
              "[46,] -0.145865  0.245699450 -0.247398301\n",
              "[47,] -0.145865  0.273592865 -0.333789885"
            ]
          },
          "metadata": {}
        },
        {
          "output_type": "display_data",
          "data": {
            "text/html": [
              "<table class=\"dataframe\">\n",
              "<caption>A matrix: 3 × 3 of type dbl</caption>\n",
              "<thead>\n",
              "\t<tr><th></th><th scope=col>(Intercept)</th><th scope=col>speed</th><th scope=col>I(speed^2)</th></tr>\n",
              "</thead>\n",
              "<tbody>\n",
              "\t<tr><th scope=row>1</th><td>-6.855655</td><td>-104.14760</td><td>-1769.6341</td></tr>\n",
              "\t<tr><th scope=row>2</th><td> 0.000000</td><td>  35.85075</td><td> 1070.7404</td></tr>\n",
              "\t<tr><th scope=row>3</th><td> 0.000000</td><td>   0.00000</td><td> -221.4729</td></tr>\n",
              "</tbody>\n",
              "</table>\n"
            ],
            "text/markdown": "\nA matrix: 3 × 3 of type dbl\n\n| <!--/--> | (Intercept) | speed | I(speed^2) |\n|---|---|---|---|\n| 1 | -6.855655 | -104.14760 | -1769.6341 |\n| 2 |  0.000000 |   35.85075 |  1070.7404 |\n| 3 |  0.000000 |    0.00000 |  -221.4729 |\n\n",
            "text/latex": "A matrix: 3 × 3 of type dbl\n\\begin{tabular}{r|lll}\n  & (Intercept) & speed & I(speed\\textasciicircum{}2)\\\\\n\\hline\n\t1 & -6.855655 & -104.14760 & -1769.6341\\\\\n\t2 &  0.000000 &   35.85075 &  1070.7404\\\\\n\t3 &  0.000000 &    0.00000 &  -221.4729\\\\\n\\end{tabular}\n",
            "text/plain": [
              "  (Intercept) speed      I(speed^2)\n",
              "1 -6.855655   -104.14760 -1769.6341\n",
              "2  0.000000     35.85075  1070.7404\n",
              "3  0.000000      0.00000  -221.4729"
            ]
          },
          "metadata": {}
        }
      ]
    },
    {
      "cell_type": "code",
      "source": [
        "Qf <- Q[,c(1:3)]\n",
        "Qf\n",
        "cars3 <- cars[-c(23,35,49),]\n",
        "f <- t(Qf)%*%cars3$dist\n",
        "f"
      ],
      "metadata": {
        "colab": {
          "base_uri": "https://localhost:8080/",
          "height": 1000
        },
        "id": "qEB5TFQsPDiU",
        "outputId": "f64aca14-49bd-4918-d50b-df8c0d2398a4"
      },
      "execution_count": null,
      "outputs": [
        {
          "output_type": "display_data",
          "data": {
            "text/html": [
              "<table class=\"dataframe\">\n",
              "<caption>A matrix: 47 × 3 of type dbl</caption>\n",
              "<tbody>\n",
              "\t<tr><td>-0.145865</td><td>-0.312168866</td><td>-0.415961339</td></tr>\n",
              "\t<tr><td>-0.145865</td><td>-0.312168866</td><td>-0.415961339</td></tr>\n",
              "\t<tr><td>-0.145865</td><td>-0.228488619</td><td>-0.160400382</td></tr>\n",
              "\t<tr><td>-0.145865</td><td>-0.228488619</td><td>-0.160400382</td></tr>\n",
              "\t<tr><td>-0.145865</td><td>-0.200595203</td><td>-0.093274298</td></tr>\n",
              "\t<tr><td>-0.145865</td><td>-0.172701787</td><td>-0.035178666</td></tr>\n",
              "\t<tr><td>-0.145865</td><td>-0.144808371</td><td> 0.013886516</td></tr>\n",
              "\t<tr><td>-0.145865</td><td>-0.144808371</td><td> 0.013886516</td></tr>\n",
              "\t<tr><td>-0.145865</td><td>-0.144808371</td><td> 0.013886516</td></tr>\n",
              "\t<tr><td>-0.145865</td><td>-0.116914955</td><td> 0.053921247</td></tr>\n",
              "\t<tr><td>-0.145865</td><td>-0.116914955</td><td> 0.053921247</td></tr>\n",
              "\t<tr><td>-0.145865</td><td>-0.089021540</td><td> 0.084925526</td></tr>\n",
              "\t<tr><td>-0.145865</td><td>-0.089021540</td><td> 0.084925526</td></tr>\n",
              "\t<tr><td>-0.145865</td><td>-0.089021540</td><td> 0.084925526</td></tr>\n",
              "\t<tr><td>-0.145865</td><td>-0.089021540</td><td> 0.084925526</td></tr>\n",
              "\t<tr><td>-0.145865</td><td>-0.061128124</td><td> 0.106899354</td></tr>\n",
              "\t<tr><td>-0.145865</td><td>-0.061128124</td><td> 0.106899354</td></tr>\n",
              "\t<tr><td>-0.145865</td><td>-0.061128124</td><td> 0.106899354</td></tr>\n",
              "\t<tr><td>-0.145865</td><td>-0.061128124</td><td> 0.106899354</td></tr>\n",
              "\t<tr><td>-0.145865</td><td>-0.033234708</td><td> 0.119842732</td></tr>\n",
              "\t<tr><td>-0.145865</td><td>-0.033234708</td><td> 0.119842732</td></tr>\n",
              "\t<tr><td>-0.145865</td><td>-0.033234708</td><td> 0.119842732</td></tr>\n",
              "\t<tr><td>-0.145865</td><td>-0.005341292</td><td> 0.123755658</td></tr>\n",
              "\t<tr><td>-0.145865</td><td>-0.005341292</td><td> 0.123755658</td></tr>\n",
              "\t<tr><td>-0.145865</td><td>-0.005341292</td><td> 0.123755658</td></tr>\n",
              "\t<tr><td>-0.145865</td><td> 0.022552123</td><td> 0.118638134</td></tr>\n",
              "\t<tr><td>-0.145865</td><td> 0.022552123</td><td> 0.118638134</td></tr>\n",
              "\t<tr><td>-0.145865</td><td> 0.050445539</td><td> 0.104490158</td></tr>\n",
              "\t<tr><td>-0.145865</td><td> 0.050445539</td><td> 0.104490158</td></tr>\n",
              "\t<tr><td>-0.145865</td><td> 0.050445539</td><td> 0.104490158</td></tr>\n",
              "\t<tr><td>-0.145865</td><td> 0.078338955</td><td> 0.081311731</td></tr>\n",
              "\t<tr><td>-0.145865</td><td> 0.078338955</td><td> 0.081311731</td></tr>\n",
              "\t<tr><td>-0.145865</td><td> 0.078338955</td><td> 0.081311731</td></tr>\n",
              "\t<tr><td>-0.145865</td><td> 0.106232371</td><td> 0.049102853</td></tr>\n",
              "\t<tr><td>-0.145865</td><td> 0.106232371</td><td> 0.049102853</td></tr>\n",
              "\t<tr><td>-0.145865</td><td> 0.106232371</td><td> 0.049102853</td></tr>\n",
              "\t<tr><td>-0.145865</td><td> 0.134125786</td><td> 0.007863524</td></tr>\n",
              "\t<tr><td>-0.145865</td><td> 0.134125786</td><td> 0.007863524</td></tr>\n",
              "\t<tr><td>-0.145865</td><td> 0.134125786</td><td> 0.007863524</td></tr>\n",
              "\t<tr><td>-0.145865</td><td> 0.134125786</td><td> 0.007863524</td></tr>\n",
              "\t<tr><td>-0.145865</td><td> 0.134125786</td><td> 0.007863524</td></tr>\n",
              "\t<tr><td>-0.145865</td><td> 0.189912618</td><td>-0.101706486</td></tr>\n",
              "\t<tr><td>-0.145865</td><td> 0.217806034</td><td>-0.170037168</td></tr>\n",
              "\t<tr><td>-0.145865</td><td> 0.245699450</td><td>-0.247398301</td></tr>\n",
              "\t<tr><td>-0.145865</td><td> 0.245699450</td><td>-0.247398301</td></tr>\n",
              "\t<tr><td>-0.145865</td><td> 0.245699450</td><td>-0.247398301</td></tr>\n",
              "\t<tr><td>-0.145865</td><td> 0.273592865</td><td>-0.333789885</td></tr>\n",
              "</tbody>\n",
              "</table>\n"
            ],
            "text/markdown": "\nA matrix: 47 × 3 of type dbl\n\n| -0.145865 | -0.312168866 | -0.415961339 |\n| -0.145865 | -0.312168866 | -0.415961339 |\n| -0.145865 | -0.228488619 | -0.160400382 |\n| -0.145865 | -0.228488619 | -0.160400382 |\n| -0.145865 | -0.200595203 | -0.093274298 |\n| -0.145865 | -0.172701787 | -0.035178666 |\n| -0.145865 | -0.144808371 |  0.013886516 |\n| -0.145865 | -0.144808371 |  0.013886516 |\n| -0.145865 | -0.144808371 |  0.013886516 |\n| -0.145865 | -0.116914955 |  0.053921247 |\n| -0.145865 | -0.116914955 |  0.053921247 |\n| -0.145865 | -0.089021540 |  0.084925526 |\n| -0.145865 | -0.089021540 |  0.084925526 |\n| -0.145865 | -0.089021540 |  0.084925526 |\n| -0.145865 | -0.089021540 |  0.084925526 |\n| -0.145865 | -0.061128124 |  0.106899354 |\n| -0.145865 | -0.061128124 |  0.106899354 |\n| -0.145865 | -0.061128124 |  0.106899354 |\n| -0.145865 | -0.061128124 |  0.106899354 |\n| -0.145865 | -0.033234708 |  0.119842732 |\n| -0.145865 | -0.033234708 |  0.119842732 |\n| -0.145865 | -0.033234708 |  0.119842732 |\n| -0.145865 | -0.005341292 |  0.123755658 |\n| -0.145865 | -0.005341292 |  0.123755658 |\n| -0.145865 | -0.005341292 |  0.123755658 |\n| -0.145865 |  0.022552123 |  0.118638134 |\n| -0.145865 |  0.022552123 |  0.118638134 |\n| -0.145865 |  0.050445539 |  0.104490158 |\n| -0.145865 |  0.050445539 |  0.104490158 |\n| -0.145865 |  0.050445539 |  0.104490158 |\n| -0.145865 |  0.078338955 |  0.081311731 |\n| -0.145865 |  0.078338955 |  0.081311731 |\n| -0.145865 |  0.078338955 |  0.081311731 |\n| -0.145865 |  0.106232371 |  0.049102853 |\n| -0.145865 |  0.106232371 |  0.049102853 |\n| -0.145865 |  0.106232371 |  0.049102853 |\n| -0.145865 |  0.134125786 |  0.007863524 |\n| -0.145865 |  0.134125786 |  0.007863524 |\n| -0.145865 |  0.134125786 |  0.007863524 |\n| -0.145865 |  0.134125786 |  0.007863524 |\n| -0.145865 |  0.134125786 |  0.007863524 |\n| -0.145865 |  0.189912618 | -0.101706486 |\n| -0.145865 |  0.217806034 | -0.170037168 |\n| -0.145865 |  0.245699450 | -0.247398301 |\n| -0.145865 |  0.245699450 | -0.247398301 |\n| -0.145865 |  0.245699450 | -0.247398301 |\n| -0.145865 |  0.273592865 | -0.333789885 |\n\n",
            "text/latex": "A matrix: 47 × 3 of type dbl\n\\begin{tabular}{lll}\n\t -0.145865 & -0.312168866 & -0.415961339\\\\\n\t -0.145865 & -0.312168866 & -0.415961339\\\\\n\t -0.145865 & -0.228488619 & -0.160400382\\\\\n\t -0.145865 & -0.228488619 & -0.160400382\\\\\n\t -0.145865 & -0.200595203 & -0.093274298\\\\\n\t -0.145865 & -0.172701787 & -0.035178666\\\\\n\t -0.145865 & -0.144808371 &  0.013886516\\\\\n\t -0.145865 & -0.144808371 &  0.013886516\\\\\n\t -0.145865 & -0.144808371 &  0.013886516\\\\\n\t -0.145865 & -0.116914955 &  0.053921247\\\\\n\t -0.145865 & -0.116914955 &  0.053921247\\\\\n\t -0.145865 & -0.089021540 &  0.084925526\\\\\n\t -0.145865 & -0.089021540 &  0.084925526\\\\\n\t -0.145865 & -0.089021540 &  0.084925526\\\\\n\t -0.145865 & -0.089021540 &  0.084925526\\\\\n\t -0.145865 & -0.061128124 &  0.106899354\\\\\n\t -0.145865 & -0.061128124 &  0.106899354\\\\\n\t -0.145865 & -0.061128124 &  0.106899354\\\\\n\t -0.145865 & -0.061128124 &  0.106899354\\\\\n\t -0.145865 & -0.033234708 &  0.119842732\\\\\n\t -0.145865 & -0.033234708 &  0.119842732\\\\\n\t -0.145865 & -0.033234708 &  0.119842732\\\\\n\t -0.145865 & -0.005341292 &  0.123755658\\\\\n\t -0.145865 & -0.005341292 &  0.123755658\\\\\n\t -0.145865 & -0.005341292 &  0.123755658\\\\\n\t -0.145865 &  0.022552123 &  0.118638134\\\\\n\t -0.145865 &  0.022552123 &  0.118638134\\\\\n\t -0.145865 &  0.050445539 &  0.104490158\\\\\n\t -0.145865 &  0.050445539 &  0.104490158\\\\\n\t -0.145865 &  0.050445539 &  0.104490158\\\\\n\t -0.145865 &  0.078338955 &  0.081311731\\\\\n\t -0.145865 &  0.078338955 &  0.081311731\\\\\n\t -0.145865 &  0.078338955 &  0.081311731\\\\\n\t -0.145865 &  0.106232371 &  0.049102853\\\\\n\t -0.145865 &  0.106232371 &  0.049102853\\\\\n\t -0.145865 &  0.106232371 &  0.049102853\\\\\n\t -0.145865 &  0.134125786 &  0.007863524\\\\\n\t -0.145865 &  0.134125786 &  0.007863524\\\\\n\t -0.145865 &  0.134125786 &  0.007863524\\\\\n\t -0.145865 &  0.134125786 &  0.007863524\\\\\n\t -0.145865 &  0.134125786 &  0.007863524\\\\\n\t -0.145865 &  0.189912618 & -0.101706486\\\\\n\t -0.145865 &  0.217806034 & -0.170037168\\\\\n\t -0.145865 &  0.245699450 & -0.247398301\\\\\n\t -0.145865 &  0.245699450 & -0.247398301\\\\\n\t -0.145865 &  0.245699450 & -0.247398301\\\\\n\t -0.145865 &  0.273592865 & -0.333789885\\\\\n\\end{tabular}\n",
            "text/plain": [
              "      [,1]      [,2]         [,3]        \n",
              " [1,] -0.145865 -0.312168866 -0.415961339\n",
              " [2,] -0.145865 -0.312168866 -0.415961339\n",
              " [3,] -0.145865 -0.228488619 -0.160400382\n",
              " [4,] -0.145865 -0.228488619 -0.160400382\n",
              " [5,] -0.145865 -0.200595203 -0.093274298\n",
              " [6,] -0.145865 -0.172701787 -0.035178666\n",
              " [7,] -0.145865 -0.144808371  0.013886516\n",
              " [8,] -0.145865 -0.144808371  0.013886516\n",
              " [9,] -0.145865 -0.144808371  0.013886516\n",
              "[10,] -0.145865 -0.116914955  0.053921247\n",
              "[11,] -0.145865 -0.116914955  0.053921247\n",
              "[12,] -0.145865 -0.089021540  0.084925526\n",
              "[13,] -0.145865 -0.089021540  0.084925526\n",
              "[14,] -0.145865 -0.089021540  0.084925526\n",
              "[15,] -0.145865 -0.089021540  0.084925526\n",
              "[16,] -0.145865 -0.061128124  0.106899354\n",
              "[17,] -0.145865 -0.061128124  0.106899354\n",
              "[18,] -0.145865 -0.061128124  0.106899354\n",
              "[19,] -0.145865 -0.061128124  0.106899354\n",
              "[20,] -0.145865 -0.033234708  0.119842732\n",
              "[21,] -0.145865 -0.033234708  0.119842732\n",
              "[22,] -0.145865 -0.033234708  0.119842732\n",
              "[23,] -0.145865 -0.005341292  0.123755658\n",
              "[24,] -0.145865 -0.005341292  0.123755658\n",
              "[25,] -0.145865 -0.005341292  0.123755658\n",
              "[26,] -0.145865  0.022552123  0.118638134\n",
              "[27,] -0.145865  0.022552123  0.118638134\n",
              "[28,] -0.145865  0.050445539  0.104490158\n",
              "[29,] -0.145865  0.050445539  0.104490158\n",
              "[30,] -0.145865  0.050445539  0.104490158\n",
              "[31,] -0.145865  0.078338955  0.081311731\n",
              "[32,] -0.145865  0.078338955  0.081311731\n",
              "[33,] -0.145865  0.078338955  0.081311731\n",
              "[34,] -0.145865  0.106232371  0.049102853\n",
              "[35,] -0.145865  0.106232371  0.049102853\n",
              "[36,] -0.145865  0.106232371  0.049102853\n",
              "[37,] -0.145865  0.134125786  0.007863524\n",
              "[38,] -0.145865  0.134125786  0.007863524\n",
              "[39,] -0.145865  0.134125786  0.007863524\n",
              "[40,] -0.145865  0.134125786  0.007863524\n",
              "[41,] -0.145865  0.134125786  0.007863524\n",
              "[42,] -0.145865  0.189912618 -0.101706486\n",
              "[43,] -0.145865  0.217806034 -0.170037168\n",
              "[44,] -0.145865  0.245699450 -0.247398301\n",
              "[45,] -0.145865  0.245699450 -0.247398301\n",
              "[46,] -0.145865  0.245699450 -0.247398301\n",
              "[47,] -0.145865  0.273592865 -0.333789885"
            ]
          },
          "metadata": {}
        },
        {
          "output_type": "display_data",
          "data": {
            "text/html": [
              "<table class=\"dataframe\">\n",
              "<caption>A matrix: 3 × 1 of type dbl</caption>\n",
              "<tbody>\n",
              "\t<tr><td>-272.03821</td></tr>\n",
              "\t<tr><td> 129.36610</td></tr>\n",
              "\t<tr><td> -20.79895</td></tr>\n",
              "</tbody>\n",
              "</table>\n"
            ],
            "text/markdown": "\nA matrix: 3 × 1 of type dbl\n\n| -272.03821 |\n|  129.36610 |\n|  -20.79895 |\n\n",
            "text/latex": "A matrix: 3 × 1 of type dbl\n\\begin{tabular}{l}\n\t -272.03821\\\\\n\t  129.36610\\\\\n\t  -20.79895\\\\\n\\end{tabular}\n",
            "text/plain": [
              "     [,1]      \n",
              "[1,] -272.03821\n",
              "[2,]  129.36610\n",
              "[3,]  -20.79895"
            ]
          },
          "metadata": {}
        }
      ]
    },
    {
      "cell_type": "code",
      "source": [
        "R <- as.matrix(R)\n",
        "f <- as.matrix(f)\n",
        "R\n",
        "f"
      ],
      "metadata": {
        "colab": {
          "base_uri": "https://localhost:8080/",
          "height": 289
        },
        "id": "Bkrw80fjPGe0",
        "outputId": "54c6dbf6-9c3e-48fb-da07-1e81bdcb55c9"
      },
      "execution_count": null,
      "outputs": [
        {
          "output_type": "display_data",
          "data": {
            "text/html": [
              "<table class=\"dataframe\">\n",
              "<caption>A matrix: 3 × 3 of type dbl</caption>\n",
              "<thead>\n",
              "\t<tr><th></th><th scope=col>(Intercept)</th><th scope=col>speed</th><th scope=col>I(speed^2)</th></tr>\n",
              "</thead>\n",
              "<tbody>\n",
              "\t<tr><th scope=row>1</th><td>-6.855655</td><td>-104.14760</td><td>-1769.6341</td></tr>\n",
              "\t<tr><th scope=row>2</th><td> 0.000000</td><td>  35.85075</td><td> 1070.7404</td></tr>\n",
              "\t<tr><th scope=row>3</th><td> 0.000000</td><td>   0.00000</td><td> -221.4729</td></tr>\n",
              "</tbody>\n",
              "</table>\n"
            ],
            "text/markdown": "\nA matrix: 3 × 3 of type dbl\n\n| <!--/--> | (Intercept) | speed | I(speed^2) |\n|---|---|---|---|\n| 1 | -6.855655 | -104.14760 | -1769.6341 |\n| 2 |  0.000000 |   35.85075 |  1070.7404 |\n| 3 |  0.000000 |    0.00000 |  -221.4729 |\n\n",
            "text/latex": "A matrix: 3 × 3 of type dbl\n\\begin{tabular}{r|lll}\n  & (Intercept) & speed & I(speed\\textasciicircum{}2)\\\\\n\\hline\n\t1 & -6.855655 & -104.14760 & -1769.6341\\\\\n\t2 &  0.000000 &   35.85075 &  1070.7404\\\\\n\t3 &  0.000000 &    0.00000 &  -221.4729\\\\\n\\end{tabular}\n",
            "text/plain": [
              "  (Intercept) speed      I(speed^2)\n",
              "1 -6.855655   -104.14760 -1769.6341\n",
              "2  0.000000     35.85075  1070.7404\n",
              "3  0.000000      0.00000  -221.4729"
            ]
          },
          "metadata": {}
        },
        {
          "output_type": "display_data",
          "data": {
            "text/html": [
              "<table class=\"dataframe\">\n",
              "<caption>A matrix: 3 × 1 of type dbl</caption>\n",
              "<tbody>\n",
              "\t<tr><td>-272.03821</td></tr>\n",
              "\t<tr><td> 129.36610</td></tr>\n",
              "\t<tr><td> -20.79895</td></tr>\n",
              "</tbody>\n",
              "</table>\n"
            ],
            "text/markdown": "\nA matrix: 3 × 1 of type dbl\n\n| -272.03821 |\n|  129.36610 |\n|  -20.79895 |\n\n",
            "text/latex": "A matrix: 3 × 1 of type dbl\n\\begin{tabular}{l}\n\t -272.03821\\\\\n\t  129.36610\\\\\n\t  -20.79895\\\\\n\\end{tabular}\n",
            "text/plain": [
              "     [,1]      \n",
              "[1,] -272.03821\n",
              "[2,]  129.36610\n",
              "[3,]  -20.79895"
            ]
          },
          "metadata": {}
        }
      ]
    },
    {
      "cell_type": "code",
      "source": [
        "# c) Metodo QR\n",
        "beta.est <- solve(R)%*%f\n",
        "beta.est"
      ],
      "metadata": {
        "id": "iwDsm98yPIkj",
        "outputId": "a6f2c2db-32ee-4008-ca7d-9bebb5e91cdf",
        "colab": {
          "base_uri": "https://localhost:8080/",
          "height": 128
        }
      },
      "execution_count": null,
      "outputs": [
        {
          "output_type": "display_data",
          "data": {
            "text/html": [
              "<table class=\"dataframe\">\n",
              "<caption>A matrix: 3 × 1 of type dbl</caption>\n",
              "<tbody>\n",
              "\t<tr><th scope=row>(Intercept)</th><td>3.23122795</td></tr>\n",
              "\t<tr><th scope=row>speed</th><td>0.80363073</td></tr>\n",
              "\t<tr><th scope=row>I(speed^2)</th><td>0.09391196</td></tr>\n",
              "</tbody>\n",
              "</table>\n"
            ],
            "text/markdown": "\nA matrix: 3 × 1 of type dbl\n\n| (Intercept) | 3.23122795 |\n| speed | 0.80363073 |\n| I(speed^2) | 0.09391196 |\n\n",
            "text/latex": "A matrix: 3 × 1 of type dbl\n\\begin{tabular}{r|l}\n\t(Intercept) & 3.23122795\\\\\n\tspeed & 0.80363073\\\\\n\tI(speed\\textasciicircum{}2) & 0.09391196\\\\\n\\end{tabular}\n",
            "text/plain": [
              "            [,1]      \n",
              "(Intercept) 3.23122795\n",
              "speed       0.80363073\n",
              "I(speed^2)  0.09391196"
            ]
          },
          "metadata": {}
        }
      ]
    },
    {
      "cell_type": "code",
      "source": [
        "# d) Metodo analitico\n",
        "beta.est1 = solve(t(X)%*%X) %*% t(X) %*% cars3$dist\n",
        "beta.est1"
      ],
      "metadata": {
        "colab": {
          "base_uri": "https://localhost:8080/",
          "height": 128
        },
        "id": "qMNPKRomAla8",
        "outputId": "fd658501-ea67-45da-a529-c9d565fec975"
      },
      "execution_count": null,
      "outputs": [
        {
          "output_type": "display_data",
          "data": {
            "text/html": [
              "<table class=\"dataframe\">\n",
              "<caption>A matrix: 3 × 1 of type dbl</caption>\n",
              "<tbody>\n",
              "\t<tr><th scope=row>(Intercept)</th><td>3.23122795</td></tr>\n",
              "\t<tr><th scope=row>speed</th><td>0.80363073</td></tr>\n",
              "\t<tr><th scope=row>I(speed^2)</th><td>0.09391196</td></tr>\n",
              "</tbody>\n",
              "</table>\n"
            ],
            "text/markdown": "\nA matrix: 3 × 1 of type dbl\n\n| (Intercept) | 3.23122795 |\n| speed | 0.80363073 |\n| I(speed^2) | 0.09391196 |\n\n",
            "text/latex": "A matrix: 3 × 1 of type dbl\n\\begin{tabular}{r|l}\n\t(Intercept) & 3.23122795\\\\\n\tspeed & 0.80363073\\\\\n\tI(speed\\textasciicircum{}2) & 0.09391196\\\\\n\\end{tabular}\n",
            "text/plain": [
              "            [,1]      \n",
              "(Intercept) 3.23122795\n",
              "speed       0.80363073\n",
              "I(speed^2)  0.09391196"
            ]
          },
          "metadata": {}
        }
      ]
    },
    {
      "cell_type": "markdown",
      "source": [
        "# Ejercicio 2"
      ],
      "metadata": {
        "id": "zLNmLzFF0x3l"
      }
    },
    {
      "cell_type": "code",
      "source": [
        "from google.colab import drive\n",
        "drive.mount('/content/drive')"
      ],
      "metadata": {
        "id": "ooqgPcG6bMTd",
        "colab": {
          "base_uri": "https://localhost:8080/",
          "height": 110
        },
        "outputId": "bba3957a-fccd-4dd7-99a0-1d23351cd3f2"
      },
      "execution_count": null,
      "outputs": [
        {
          "output_type": "error",
          "ename": "ERROR",
          "evalue": "Error in parse(text = x, srcfile = src): <text>:1:6: unexpected symbol\n1: from google.colab\n         ^\n",
          "traceback": [
            "Error in parse(text = x, srcfile = src): <text>:1:6: unexpected symbol\n1: from google.colab\n         ^\nTraceback:\n"
          ]
        }
      ]
    },
    {
      "cell_type": "code",
      "source": [
        "getwd()\n",
        "setwd('/content/drive/My Drive')\n",
        "getwd()"
      ],
      "metadata": {
        "id": "9DUuzv3nVbU3",
        "colab": {
          "base_uri": "https://localhost:8080/",
          "height": 52
        },
        "outputId": "67fc9c22-59c8-40f4-e004-ca411c193640"
      },
      "execution_count": null,
      "outputs": [
        {
          "output_type": "display_data",
          "data": {
            "text/html": [
              "'/content/drive/MyDrive'"
            ],
            "text/markdown": "'/content/drive/MyDrive'",
            "text/latex": "'/content/drive/MyDrive'",
            "text/plain": [
              "[1] \"/content/drive/MyDrive\""
            ]
          },
          "metadata": {}
        },
        {
          "output_type": "display_data",
          "data": {
            "text/html": [
              "'/content/drive/My Drive'"
            ],
            "text/markdown": "'/content/drive/My Drive'",
            "text/latex": "'/content/drive/My Drive'",
            "text/plain": [
              "[1] \"/content/drive/My Drive\""
            ]
          },
          "metadata": {}
        }
      ]
    },
    {
      "cell_type": "code",
      "source": [
        "file_path <- \"/content/drive/My Drive/10mo semestre/ML R/datos.txt\"\n",
        "file_contents <- readLines(file_path)\n",
        "cat(file_contents, sep = \"\\n\")"
      ],
      "metadata": {
        "id": "MnSL5n_eeEoe",
        "colab": {
          "base_uri": "https://localhost:8080/"
        },
        "outputId": "43cf975e-a369-4182-ca63-11f155fc8cb5"
      },
      "execution_count": null,
      "outputs": [
        {
          "output_type": "stream",
          "name": "stdout",
          "text": [
            "  108.28   17.05   1484.10\n",
            "  152.36   16.59    750.33\n",
            "   95.04   10.91    766.42\n",
            "   65.45   14.14   1110.46\n",
            "   62.97    9.52   1031.29\n",
            "  263.99   25.33    195.26\n",
            "  265.19   18.54    193.83\n",
            "  285.06   15.73    191.11\n",
            "   92.01    8.10   1175.16\n",
            "  165.68   11.13    211.15\n",
            "\n"
          ]
        }
      ]
    },
    {
      "cell_type": "code",
      "source": [
        "datos1 <- c(108.28, 17.05, 1484.10)\n",
        "datos2 <- c(152.36,   16.59,    750.33)\n",
        "datos3 <- c(  95.04,   10.91,    766.42)\n",
        "datos4 <- c(   65.45,   14.14,   1110.46)\n",
        "datos5 <- c(   62.97 ,   9.52,   1031.29)\n",
        "datos6 <- c(  263.99 ,  25.33 ,   195.26)\n",
        "datos7 <- c(  265.19 ,  18.54 ,   193.83)\n",
        "datos8 <- c(  285.06 ,  15.73 ,   191.11)\n",
        " datos9 <- c(  92.01 ,   8.10 ,  1175.16)\n",
        " datos10 <- c( 165.68 ,  11.13 ,   211.15)\n",
        "datos <- as.data.frame(rbind(datos1,datos2,datos3,datos4,datos5,datos6,datos7,datos8,datos9,datos10))\n",
        "datos"
      ],
      "metadata": {
        "id": "5kdm0EiX7bOi",
        "colab": {
          "base_uri": "https://localhost:8080/",
          "height": 411
        },
        "outputId": "70b59463-f0f6-412c-8d56-b31fc22d8ce1"
      },
      "execution_count": null,
      "outputs": [
        {
          "output_type": "display_data",
          "data": {
            "text/html": [
              "<table class=\"dataframe\">\n",
              "<caption>A data.frame: 10 × 3</caption>\n",
              "<thead>\n",
              "\t<tr><th></th><th scope=col>V1</th><th scope=col>V2</th><th scope=col>V3</th></tr>\n",
              "\t<tr><th></th><th scope=col>&lt;dbl&gt;</th><th scope=col>&lt;dbl&gt;</th><th scope=col>&lt;dbl&gt;</th></tr>\n",
              "</thead>\n",
              "<tbody>\n",
              "\t<tr><th scope=row>datos1</th><td>108.28</td><td>17.05</td><td>1484.10</td></tr>\n",
              "\t<tr><th scope=row>datos2</th><td>152.36</td><td>16.59</td><td> 750.33</td></tr>\n",
              "\t<tr><th scope=row>datos3</th><td> 95.04</td><td>10.91</td><td> 766.42</td></tr>\n",
              "\t<tr><th scope=row>datos4</th><td> 65.45</td><td>14.14</td><td>1110.46</td></tr>\n",
              "\t<tr><th scope=row>datos5</th><td> 62.97</td><td> 9.52</td><td>1031.29</td></tr>\n",
              "\t<tr><th scope=row>datos6</th><td>263.99</td><td>25.33</td><td> 195.26</td></tr>\n",
              "\t<tr><th scope=row>datos7</th><td>265.19</td><td>18.54</td><td> 193.83</td></tr>\n",
              "\t<tr><th scope=row>datos8</th><td>285.06</td><td>15.73</td><td> 191.11</td></tr>\n",
              "\t<tr><th scope=row>datos9</th><td> 92.01</td><td> 8.10</td><td>1175.16</td></tr>\n",
              "\t<tr><th scope=row>datos10</th><td>165.68</td><td>11.13</td><td> 211.15</td></tr>\n",
              "</tbody>\n",
              "</table>\n"
            ],
            "text/markdown": "\nA data.frame: 10 × 3\n\n| <!--/--> | V1 &lt;dbl&gt; | V2 &lt;dbl&gt; | V3 &lt;dbl&gt; |\n|---|---|---|---|\n| datos1 | 108.28 | 17.05 | 1484.10 |\n| datos2 | 152.36 | 16.59 |  750.33 |\n| datos3 |  95.04 | 10.91 |  766.42 |\n| datos4 |  65.45 | 14.14 | 1110.46 |\n| datos5 |  62.97 |  9.52 | 1031.29 |\n| datos6 | 263.99 | 25.33 |  195.26 |\n| datos7 | 265.19 | 18.54 |  193.83 |\n| datos8 | 285.06 | 15.73 |  191.11 |\n| datos9 |  92.01 |  8.10 | 1175.16 |\n| datos10 | 165.68 | 11.13 |  211.15 |\n\n",
            "text/latex": "A data.frame: 10 × 3\n\\begin{tabular}{r|lll}\n  & V1 & V2 & V3\\\\\n  & <dbl> & <dbl> & <dbl>\\\\\n\\hline\n\tdatos1 & 108.28 & 17.05 & 1484.10\\\\\n\tdatos2 & 152.36 & 16.59 &  750.33\\\\\n\tdatos3 &  95.04 & 10.91 &  766.42\\\\\n\tdatos4 &  65.45 & 14.14 & 1110.46\\\\\n\tdatos5 &  62.97 &  9.52 & 1031.29\\\\\n\tdatos6 & 263.99 & 25.33 &  195.26\\\\\n\tdatos7 & 265.19 & 18.54 &  193.83\\\\\n\tdatos8 & 285.06 & 15.73 &  191.11\\\\\n\tdatos9 &  92.01 &  8.10 & 1175.16\\\\\n\tdatos10 & 165.68 & 11.13 &  211.15\\\\\n\\end{tabular}\n",
            "text/plain": [
              "        V1     V2    V3     \n",
              "datos1  108.28 17.05 1484.10\n",
              "datos2  152.36 16.59  750.33\n",
              "datos3   95.04 10.91  766.42\n",
              "datos4   65.45 14.14 1110.46\n",
              "datos5   62.97  9.52 1031.29\n",
              "datos6  263.99 25.33  195.26\n",
              "datos7  265.19 18.54  193.83\n",
              "datos8  285.06 15.73  191.11\n",
              "datos9   92.01  8.10 1175.16\n",
              "datos10 165.68 11.13  211.15"
            ]
          },
          "metadata": {}
        }
      ]
    },
    {
      "cell_type": "code",
      "source": [
        "# a) lm y pairs\n",
        "modelo1 <- lm(datos$V2 ~ datos$V1 + I(datos$V1^2), data = datos)\n",
        "summary(modelo1)\n",
        "modelo2 <- lm(datos$V2 ~ datos$V3 + I(datos$V3^2), data = datos)\n",
        "summary(modelo2)\n",
        "pairs(datos)"
      ],
      "metadata": {
        "id": "OGO6Cnse3OOg",
        "colab": {
          "base_uri": "https://localhost:8080/",
          "height": 1000
        },
        "outputId": "f2210874-dc5b-47de-a96f-80ab9b48a8dc"
      },
      "execution_count": null,
      "outputs": [
        {
          "output_type": "display_data",
          "data": {
            "text/plain": [
              "\n",
              "Call:\n",
              "lm(formula = datos$V2 ~ datos$V1 + I(datos$V1^2), data = datos)\n",
              "\n",
              "Residuals:\n",
              "    Min      1Q  Median      3Q     Max \n",
              "-4.1458 -3.3569 -0.9434  2.8750  6.2419 \n",
              "\n",
              "Coefficients:\n",
              "                Estimate Std. Error t value Pr(>|t|)\n",
              "(Intercept)    7.839e+00  7.943e+00   0.987    0.357\n",
              "datos$V1       4.872e-02  1.112e-01   0.438    0.675\n",
              "I(datos$V1^2) -2.314e-05  3.139e-04  -0.074    0.943\n",
              "\n",
              "Residual standard error: 4.22 on 7 degrees of freedom\n",
              "Multiple R-squared:  0.4712,\tAdjusted R-squared:  0.3201 \n",
              "F-statistic: 3.119 on 2 and 7 DF,  p-value: 0.1075\n"
            ]
          },
          "metadata": {}
        },
        {
          "output_type": "display_data",
          "data": {
            "text/plain": [
              "\n",
              "Call:\n",
              "lm(formula = datos$V2 ~ datos$V3 + I(datos$V3^2), data = datos)\n",
              "\n",
              "Residuals:\n",
              "    Min      1Q  Median      3Q     Max \n",
              "-6.5766 -2.2949 -0.2105  2.0089  7.3457 \n",
              "\n",
              "Coefficients:\n",
              "                Estimate Std. Error t value Pr(>|t|)   \n",
              "(Intercept)    2.190e+01  4.130e+00   5.302  0.00112 **\n",
              "datos$V3      -2.242e-02  1.415e-02  -1.584  0.15716   \n",
              "I(datos$V3^2)  1.217e-05  9.327e-06   1.305  0.23331   \n",
              "---\n",
              "Signif. codes:  0 ‘***’ 0.001 ‘**’ 0.01 ‘*’ 0.05 ‘.’ 0.1 ‘ ’ 1\n",
              "\n",
              "Residual standard error: 4.716 on 7 degrees of freedom\n",
              "Multiple R-squared:  0.3395,\tAdjusted R-squared:  0.1507 \n",
              "F-statistic: 1.799 on 2 and 7 DF,  p-value: 0.2342\n"
            ]
          },
          "metadata": {}
        },
        {
          "output_type": "display_data",
          "data": {
            "text/plain": [
              "plot without title"
            ],
            "image/png": "[encoded data removed]"
          },
          "metadata": {
            "image/png": {
              "width": 420,
              "height": 420
            }
          }
        }
      ]
    },
    {
      "cell_type": "code",
      "source": [
        "# b) Heatmap\n",
        "K <- model.matrix(modelo1)\n",
        "M <- model.matrix(modelo2)\n",
        "K\n",
        "M\n",
        "sigmaK <- cov(K)\n",
        "sigmaM <- cov(M)\n",
        "heatmap(sigmaK)\n",
        "heatmap(sigmaM)"
      ],
      "metadata": {
        "id": "jHiCDgzb4ZbI",
        "colab": {
          "base_uri": "https://localhost:8080/",
          "height": 1000
        },
        "outputId": "10579e6d-829b-4f97-a477-660a9a0b367f"
      },
      "execution_count": null,
      "outputs": [
        {
          "output_type": "display_data",
          "data": {
            "text/html": [
              "<table class=\"dataframe\">\n",
              "<caption>A matrix: 10 × 3 of type dbl</caption>\n",
              "<thead>\n",
              "\t<tr><th></th><th scope=col>(Intercept)</th><th scope=col>datos$V1</th><th scope=col>I(datos$V1^2)</th></tr>\n",
              "</thead>\n",
              "<tbody>\n",
              "\t<tr><th scope=row>datos1</th><td>1</td><td>108.28</td><td>11724.558</td></tr>\n",
              "\t<tr><th scope=row>datos2</th><td>1</td><td>152.36</td><td>23213.570</td></tr>\n",
              "\t<tr><th scope=row>datos3</th><td>1</td><td> 95.04</td><td> 9032.602</td></tr>\n",
              "\t<tr><th scope=row>datos4</th><td>1</td><td> 65.45</td><td> 4283.703</td></tr>\n",
              "\t<tr><th scope=row>datos5</th><td>1</td><td> 62.97</td><td> 3965.221</td></tr>\n",
              "\t<tr><th scope=row>datos6</th><td>1</td><td>263.99</td><td>69690.720</td></tr>\n",
              "\t<tr><th scope=row>datos7</th><td>1</td><td>265.19</td><td>70325.736</td></tr>\n",
              "\t<tr><th scope=row>datos8</th><td>1</td><td>285.06</td><td>81259.204</td></tr>\n",
              "\t<tr><th scope=row>datos9</th><td>1</td><td> 92.01</td><td> 8465.840</td></tr>\n",
              "\t<tr><th scope=row>datos10</th><td>1</td><td>165.68</td><td>27449.862</td></tr>\n",
              "</tbody>\n",
              "</table>\n"
            ],
            "text/markdown": "\nA matrix: 10 × 3 of type dbl\n\n| <!--/--> | (Intercept) | datos$V1 | I(datos$V1^2) |\n|---|---|---|---|\n| datos1 | 1 | 108.28 | 11724.558 |\n| datos2 | 1 | 152.36 | 23213.570 |\n| datos3 | 1 |  95.04 |  9032.602 |\n| datos4 | 1 |  65.45 |  4283.703 |\n| datos5 | 1 |  62.97 |  3965.221 |\n| datos6 | 1 | 263.99 | 69690.720 |\n| datos7 | 1 | 265.19 | 70325.736 |\n| datos8 | 1 | 285.06 | 81259.204 |\n| datos9 | 1 |  92.01 |  8465.840 |\n| datos10 | 1 | 165.68 | 27449.862 |\n\n",
            "text/latex": "A matrix: 10 × 3 of type dbl\n\\begin{tabular}{r|lll}\n  & (Intercept) & datos\\$V1 & I(datos\\$V1\\textasciicircum{}2)\\\\\n\\hline\n\tdatos1 & 1 & 108.28 & 11724.558\\\\\n\tdatos2 & 1 & 152.36 & 23213.570\\\\\n\tdatos3 & 1 &  95.04 &  9032.602\\\\\n\tdatos4 & 1 &  65.45 &  4283.703\\\\\n\tdatos5 & 1 &  62.97 &  3965.221\\\\\n\tdatos6 & 1 & 263.99 & 69690.720\\\\\n\tdatos7 & 1 & 265.19 & 70325.736\\\\\n\tdatos8 & 1 & 285.06 & 81259.204\\\\\n\tdatos9 & 1 &  92.01 &  8465.840\\\\\n\tdatos10 & 1 & 165.68 & 27449.862\\\\\n\\end{tabular}\n",
            "text/plain": [
              "        (Intercept) datos$V1 I(datos$V1^2)\n",
              "datos1  1           108.28   11724.558    \n",
              "datos2  1           152.36   23213.570    \n",
              "datos3  1            95.04    9032.602    \n",
              "datos4  1            65.45    4283.703    \n",
              "datos5  1            62.97    3965.221    \n",
              "datos6  1           263.99   69690.720    \n",
              "datos7  1           265.19   70325.736    \n",
              "datos8  1           285.06   81259.204    \n",
              "datos9  1            92.01    8465.840    \n",
              "datos10 1           165.68   27449.862    "
            ]
          },
          "metadata": {}
        },
        {
          "output_type": "display_data",
          "data": {
            "text/html": [
              "<table class=\"dataframe\">\n",
              "<caption>A matrix: 10 × 3 of type dbl</caption>\n",
              "<thead>\n",
              "\t<tr><th></th><th scope=col>(Intercept)</th><th scope=col>datos$V3</th><th scope=col>I(datos$V3^2)</th></tr>\n",
              "</thead>\n",
              "<tbody>\n",
              "\t<tr><th scope=row>datos1</th><td>1</td><td>1484.10</td><td>2202552.81</td></tr>\n",
              "\t<tr><th scope=row>datos2</th><td>1</td><td> 750.33</td><td> 562995.11</td></tr>\n",
              "\t<tr><th scope=row>datos3</th><td>1</td><td> 766.42</td><td> 587399.62</td></tr>\n",
              "\t<tr><th scope=row>datos4</th><td>1</td><td>1110.46</td><td>1233121.41</td></tr>\n",
              "\t<tr><th scope=row>datos5</th><td>1</td><td>1031.29</td><td>1063559.06</td></tr>\n",
              "\t<tr><th scope=row>datos6</th><td>1</td><td> 195.26</td><td>  38126.47</td></tr>\n",
              "\t<tr><th scope=row>datos7</th><td>1</td><td> 193.83</td><td>  37570.07</td></tr>\n",
              "\t<tr><th scope=row>datos8</th><td>1</td><td> 191.11</td><td>  36523.03</td></tr>\n",
              "\t<tr><th scope=row>datos9</th><td>1</td><td>1175.16</td><td>1381001.03</td></tr>\n",
              "\t<tr><th scope=row>datos10</th><td>1</td><td> 211.15</td><td>  44584.32</td></tr>\n",
              "</tbody>\n",
              "</table>\n"
            ],
            "text/markdown": "\nA matrix: 10 × 3 of type dbl\n\n| <!--/--> | (Intercept) | datos$V3 | I(datos$V3^2) |\n|---|---|---|---|\n| datos1 | 1 | 1484.10 | 2202552.81 |\n| datos2 | 1 |  750.33 |  562995.11 |\n| datos3 | 1 |  766.42 |  587399.62 |\n| datos4 | 1 | 1110.46 | 1233121.41 |\n| datos5 | 1 | 1031.29 | 1063559.06 |\n| datos6 | 1 |  195.26 |   38126.47 |\n| datos7 | 1 |  193.83 |   37570.07 |\n| datos8 | 1 |  191.11 |   36523.03 |\n| datos9 | 1 | 1175.16 | 1381001.03 |\n| datos10 | 1 |  211.15 |   44584.32 |\n\n",
            "text/latex": "A matrix: 10 × 3 of type dbl\n\\begin{tabular}{r|lll}\n  & (Intercept) & datos\\$V3 & I(datos\\$V3\\textasciicircum{}2)\\\\\n\\hline\n\tdatos1 & 1 & 1484.10 & 2202552.81\\\\\n\tdatos2 & 1 &  750.33 &  562995.11\\\\\n\tdatos3 & 1 &  766.42 &  587399.62\\\\\n\tdatos4 & 1 & 1110.46 & 1233121.41\\\\\n\tdatos5 & 1 & 1031.29 & 1063559.06\\\\\n\tdatos6 & 1 &  195.26 &   38126.47\\\\\n\tdatos7 & 1 &  193.83 &   37570.07\\\\\n\tdatos8 & 1 &  191.11 &   36523.03\\\\\n\tdatos9 & 1 & 1175.16 & 1381001.03\\\\\n\tdatos10 & 1 &  211.15 &   44584.32\\\\\n\\end{tabular}\n",
            "text/plain": [
              "        (Intercept) datos$V3 I(datos$V3^2)\n",
              "datos1  1           1484.10  2202552.81   \n",
              "datos2  1            750.33   562995.11   \n",
              "datos3  1            766.42   587399.62   \n",
              "datos4  1           1110.46  1233121.41   \n",
              "datos5  1           1031.29  1063559.06   \n",
              "datos6  1            195.26    38126.47   \n",
              "datos7  1            193.83    37570.07   \n",
              "datos8  1            191.11    36523.03   \n",
              "datos9  1           1175.16  1381001.03   \n",
              "datos10 1            211.15    44584.32   "
            ]
          },
          "metadata": {}
        },
        {
          "output_type": "display_data",
          "data": {
            "text/plain": [
              "plot without title"
            ],
            "image/png": "[encoded data removed]"
          },
          "metadata": {
            "image/png": {
              "width": 420,
              "height": 420
            }
          }
        },
        {
          "output_type": "display_data",
          "data": {
            "text/plain": [
              "plot without title"
            ],
            "image/png": "[encoded data removed]"
          },
          "metadata": {
            "image/png": {
              "width": 420,
              "height": 420
            }
          }
        }
      ]
    },
    {
      "cell_type": "code",
      "source": [
        "# Factorizacion QR\n",
        "QR_K <- qr(K)\n",
        "QR_M <- qr(M)\n",
        "\n",
        "Q_K <- qr.Q(QR_K)\n",
        "Q_M <- qr.Q(QR_M)\n",
        "\n",
        "R_K <- qr.R(QR_K)\n",
        "R_M <- qr.R(QR_M)\n",
        "\n",
        "R_K\n",
        "R_M"
      ],
      "metadata": {
        "id": "99NxJ45p40wf",
        "colab": {
          "base_uri": "https://localhost:8080/",
          "height": 304
        },
        "outputId": "449b1e09-284c-4c34-e38e-96c380c3790f"
      },
      "execution_count": null,
      "outputs": [
        {
          "output_type": "display_data",
          "data": {
            "text/html": [
              "<table class=\"dataframe\">\n",
              "<caption>A matrix: 3 × 3 of type dbl</caption>\n",
              "<thead>\n",
              "\t<tr><th></th><th scope=col>(Intercept)</th><th scope=col>datos$V1</th><th scope=col>I(datos$V1^2)</th></tr>\n",
              "</thead>\n",
              "<tbody>\n",
              "\t<tr><th scope=row>datos1</th><td>-3.162278</td><td>-492.0599</td><td>-97844.35</td></tr>\n",
              "\t<tr><th scope=row>datos2</th><td> 0.000000</td><td>-259.3995</td><td>-90931.22</td></tr>\n",
              "\t<tr><th scope=row>datos3</th><td> 0.000000</td><td>   0.0000</td><td> 13443.28</td></tr>\n",
              "</tbody>\n",
              "</table>\n"
            ],
            "text/markdown": "\nA matrix: 3 × 3 of type dbl\n\n| <!--/--> | (Intercept) | datos$V1 | I(datos$V1^2) |\n|---|---|---|---|\n| datos1 | -3.162278 | -492.0599 | -97844.35 |\n| datos2 |  0.000000 | -259.3995 | -90931.22 |\n| datos3 |  0.000000 |    0.0000 |  13443.28 |\n\n",
            "text/latex": "A matrix: 3 × 3 of type dbl\n\\begin{tabular}{r|lll}\n  & (Intercept) & datos\\$V1 & I(datos\\$V1\\textasciicircum{}2)\\\\\n\\hline\n\tdatos1 & -3.162278 & -492.0599 & -97844.35\\\\\n\tdatos2 &  0.000000 & -259.3995 & -90931.22\\\\\n\tdatos3 &  0.000000 &    0.0000 &  13443.28\\\\\n\\end{tabular}\n",
            "text/plain": [
              "       (Intercept) datos$V1  I(datos$V1^2)\n",
              "datos1 -3.162278   -492.0599 -97844.35    \n",
              "datos2  0.000000   -259.3995 -90931.22    \n",
              "datos3  0.000000      0.0000  13443.28    "
            ]
          },
          "metadata": {}
        },
        {
          "output_type": "display_data",
          "data": {
            "text/html": [
              "<table class=\"dataframe\">\n",
              "<caption>A matrix: 3 × 3 of type dbl</caption>\n",
              "<thead>\n",
              "\t<tr><th></th><th scope=col>(Intercept)</th><th scope=col>datos$V3</th><th scope=col>I(datos$V3^2)</th></tr>\n",
              "</thead>\n",
              "<tbody>\n",
              "\t<tr><th scope=row>datos1</th><td>-3.162278</td><td>-2248.098</td><td>-2272865.9</td></tr>\n",
              "\t<tr><th scope=row>datos2</th><td> 0.000000</td><td> 1460.647</td><td> 2157947.1</td></tr>\n",
              "\t<tr><th scope=row>datos3</th><td> 0.000000</td><td>    0.000</td><td>  505650.7</td></tr>\n",
              "</tbody>\n",
              "</table>\n"
            ],
            "text/markdown": "\nA matrix: 3 × 3 of type dbl\n\n| <!--/--> | (Intercept) | datos$V3 | I(datos$V3^2) |\n|---|---|---|---|\n| datos1 | -3.162278 | -2248.098 | -2272865.9 |\n| datos2 |  0.000000 |  1460.647 |  2157947.1 |\n| datos3 |  0.000000 |     0.000 |   505650.7 |\n\n",
            "text/latex": "A matrix: 3 × 3 of type dbl\n\\begin{tabular}{r|lll}\n  & (Intercept) & datos\\$V3 & I(datos\\$V3\\textasciicircum{}2)\\\\\n\\hline\n\tdatos1 & -3.162278 & -2248.098 & -2272865.9\\\\\n\tdatos2 &  0.000000 &  1460.647 &  2157947.1\\\\\n\tdatos3 &  0.000000 &     0.000 &   505650.7\\\\\n\\end{tabular}\n",
            "text/plain": [
              "       (Intercept) datos$V3  I(datos$V3^2)\n",
              "datos1 -3.162278   -2248.098 -2272865.9   \n",
              "datos2  0.000000    1460.647  2157947.1   \n",
              "datos3  0.000000       0.000   505650.7   "
            ]
          },
          "metadata": {}
        }
      ]
    },
    {
      "cell_type": "code",
      "source": [
        "# Calcular f\n",
        "Qf_K <- Q_K\n",
        "Qf_M <- Q_M\n",
        "\n",
        "f_K <- t(Q_K)%*%datos$V2\n",
        "f_M <- t(Q_M)%*%datos$V2\n",
        "\n",
        "f_M\n",
        "f_K"
      ],
      "metadata": {
        "id": "_ZugiqAN1qIP",
        "colab": {
          "base_uri": "https://localhost:8080/",
          "height": 274
        },
        "outputId": "d6b2d5e2-0d43-4186-b016-1e920f27c540"
      },
      "execution_count": null,
      "outputs": [
        {
          "output_type": "display_data",
          "data": {
            "text/html": [
              "<table class=\"dataframe\">\n",
              "<caption>A matrix: 3 × 1 of type dbl</caption>\n",
              "<tbody>\n",
              "\t<tr><td>-46.498131</td></tr>\n",
              "\t<tr><td> -6.493321</td></tr>\n",
              "\t<tr><td>  6.152318</td></tr>\n",
              "</tbody>\n",
              "</table>\n"
            ],
            "text/markdown": "\nA matrix: 3 × 1 of type dbl\n\n| -46.498131 |\n|  -6.493321 |\n|   6.152318 |\n\n",
            "text/latex": "A matrix: 3 × 1 of type dbl\n\\begin{tabular}{l}\n\t -46.498131\\\\\n\t  -6.493321\\\\\n\t   6.152318\\\\\n\\end{tabular}\n",
            "text/plain": [
              "     [,1]      \n",
              "[1,] -46.498131\n",
              "[2,]  -6.493321\n",
              "[3,]   6.152318"
            ]
          },
          "metadata": {}
        },
        {
          "output_type": "display_data",
          "data": {
            "text/html": [
              "<table class=\"dataframe\">\n",
              "<caption>A matrix: 3 × 1 of type dbl</caption>\n",
              "<tbody>\n",
              "\t<tr><td>-46.4981307</td></tr>\n",
              "\t<tr><td>-10.5342069</td></tr>\n",
              "\t<tr><td> -0.3110995</td></tr>\n",
              "</tbody>\n",
              "</table>\n"
            ],
            "text/markdown": "\nA matrix: 3 × 1 of type dbl\n\n| -46.4981307 |\n| -10.5342069 |\n|  -0.3110995 |\n\n",
            "text/latex": "A matrix: 3 × 1 of type dbl\n\\begin{tabular}{l}\n\t -46.4981307\\\\\n\t -10.5342069\\\\\n\t  -0.3110995\\\\\n\\end{tabular}\n",
            "text/plain": [
              "     [,1]       \n",
              "[1,] -46.4981307\n",
              "[2,] -10.5342069\n",
              "[3,]  -0.3110995"
            ]
          },
          "metadata": {}
        }
      ]
    },
    {
      "cell_type": "code",
      "source": [
        "# c) Metodo QR\n",
        "beta.est_K <- solve(R_K)%*%f_K\n",
        "beta.est_M <- solve(R_M)%*%f_M\n",
        "\n",
        "beta.est_K\n",
        "beta.est_M"
      ],
      "metadata": {
        "id": "tC4PLp_82YbU",
        "colab": {
          "base_uri": "https://localhost:8080/",
          "height": 240
        },
        "outputId": "c94d928e-10ea-45c4-b8e9-438570a88904"
      },
      "execution_count": null,
      "outputs": [
        {
          "output_type": "display_data",
          "data": {
            "text/html": [
              "<table class=\"dataframe\">\n",
              "<caption>A matrix: 3 × 1 of type dbl</caption>\n",
              "<tbody>\n",
              "\t<tr><th scope=row>(Intercept)</th><td> 7.838712e+00</td></tr>\n",
              "\t<tr><th scope=row>datos$V1</th><td> 4.872217e-02</td></tr>\n",
              "\t<tr><th scope=row>I(datos$V1^2)</th><td>-2.314164e-05</td></tr>\n",
              "</tbody>\n",
              "</table>\n"
            ],
            "text/markdown": "\nA matrix: 3 × 1 of type dbl\n\n| (Intercept) |  7.838712e+00 |\n| datos$V1 |  4.872217e-02 |\n| I(datos$V1^2) | -2.314164e-05 |\n\n",
            "text/latex": "A matrix: 3 × 1 of type dbl\n\\begin{tabular}{r|l}\n\t(Intercept) &  7.838712e+00\\\\\n\tdatos\\$V1 &  4.872217e-02\\\\\n\tI(datos\\$V1\\textasciicircum{}2) & -2.314164e-05\\\\\n\\end{tabular}\n",
            "text/plain": [
              "              [,1]         \n",
              "(Intercept)    7.838712e+00\n",
              "datos$V1       4.872217e-02\n",
              "I(datos$V1^2) -2.314164e-05"
            ]
          },
          "metadata": {}
        },
        {
          "output_type": "display_data",
          "data": {
            "text/html": [
              "<table class=\"dataframe\">\n",
              "<caption>A matrix: 3 × 1 of type dbl</caption>\n",
              "<tbody>\n",
              "\t<tr><th scope=row>(Intercept)</th><td> 2.189838e+01</td></tr>\n",
              "\t<tr><th scope=row>datos$V3</th><td>-2.242113e-02</td></tr>\n",
              "\t<tr><th scope=row>I(datos$V3^2)</th><td> 1.216713e-05</td></tr>\n",
              "</tbody>\n",
              "</table>\n"
            ],
            "text/markdown": "\nA matrix: 3 × 1 of type dbl\n\n| (Intercept) |  2.189838e+01 |\n| datos$V3 | -2.242113e-02 |\n| I(datos$V3^2) |  1.216713e-05 |\n\n",
            "text/latex": "A matrix: 3 × 1 of type dbl\n\\begin{tabular}{r|l}\n\t(Intercept) &  2.189838e+01\\\\\n\tdatos\\$V3 & -2.242113e-02\\\\\n\tI(datos\\$V3\\textasciicircum{}2) &  1.216713e-05\\\\\n\\end{tabular}\n",
            "text/plain": [
              "              [,1]         \n",
              "(Intercept)    2.189838e+01\n",
              "datos$V3      -2.242113e-02\n",
              "I(datos$V3^2)  1.216713e-05"
            ]
          },
          "metadata": {}
        }
      ]
    },
    {
      "cell_type": "code",
      "source": [
        "# d)Metodo clasico\n",
        "beta.est_K1 = solve(t(K)%*%K)%*%t(K)%*%datos$V2\n",
        "beta.est_M1 = solve(t(K)%*%M)%*%t(M)%*%datos$V2\n",
        "\n",
        "beta.est_K1\n",
        "beta.est_M1"
      ],
      "metadata": {
        "id": "U96ZY6sY3Ff4",
        "colab": {
          "base_uri": "https://localhost:8080/",
          "height": 240
        },
        "outputId": "0f5d42fe-d16c-4c35-d788-e9bae0fc144e"
      },
      "execution_count": null,
      "outputs": [
        {
          "output_type": "display_data",
          "data": {
            "text/html": [
              "<table class=\"dataframe\">\n",
              "<caption>A matrix: 3 × 1 of type dbl</caption>\n",
              "<tbody>\n",
              "\t<tr><th scope=row>(Intercept)</th><td> 7.838712e+00</td></tr>\n",
              "\t<tr><th scope=row>datos$V1</th><td> 4.872217e-02</td></tr>\n",
              "\t<tr><th scope=row>I(datos$V1^2)</th><td>-2.314164e-05</td></tr>\n",
              "</tbody>\n",
              "</table>\n"
            ],
            "text/markdown": "\nA matrix: 3 × 1 of type dbl\n\n| (Intercept) |  7.838712e+00 |\n| datos$V1 |  4.872217e-02 |\n| I(datos$V1^2) | -2.314164e-05 |\n\n",
            "text/latex": "A matrix: 3 × 1 of type dbl\n\\begin{tabular}{r|l}\n\t(Intercept) &  7.838712e+00\\\\\n\tdatos\\$V1 &  4.872217e-02\\\\\n\tI(datos\\$V1\\textasciicircum{}2) & -2.314164e-05\\\\\n\\end{tabular}\n",
            "text/plain": [
              "              [,1]         \n",
              "(Intercept)    7.838712e+00\n",
              "datos$V1       4.872217e-02\n",
              "I(datos$V1^2) -2.314164e-05"
            ]
          },
          "metadata": {}
        },
        {
          "output_type": "display_data",
          "data": {
            "text/html": [
              "<table class=\"dataframe\">\n",
              "<caption>A matrix: 3 × 1 of type dbl</caption>\n",
              "<tbody>\n",
              "\t<tr><th scope=row>(Intercept)</th><td>-1.441586e+05</td></tr>\n",
              "\t<tr><th scope=row>datos$V3</th><td> 8.470952e+02</td></tr>\n",
              "\t<tr><th scope=row>I(datos$V3^2)</th><td>-6.372734e-01</td></tr>\n",
              "</tbody>\n",
              "</table>\n"
            ],
            "text/markdown": "\nA matrix: 3 × 1 of type dbl\n\n| (Intercept) | -1.441586e+05 |\n| datos$V3 |  8.470952e+02 |\n| I(datos$V3^2) | -6.372734e-01 |\n\n",
            "text/latex": "A matrix: 3 × 1 of type dbl\n\\begin{tabular}{r|l}\n\t(Intercept) & -1.441586e+05\\\\\n\tdatos\\$V3 &  8.470952e+02\\\\\n\tI(datos\\$V3\\textasciicircum{}2) & -6.372734e-01\\\\\n\\end{tabular}\n",
            "text/plain": [
              "              [,1]         \n",
              "(Intercept)   -1.441586e+05\n",
              "datos$V3       8.470952e+02\n",
              "I(datos$V3^2) -6.372734e-01"
            ]
          },
          "metadata": {}
        }
      ]
    },
    {
      "cell_type": "markdown",
      "source": [
        "# Ejercicio 3"
      ],
      "metadata": {
        "id": "lHmFzuu4-0jy"
      }
    },
    {
      "cell_type": "code",
      "source": [
        "# a) desviacion estandar para cada estimador beta\n",
        "beta.est0 <- as.matrix(cars.mod3$coefficients)\n",
        "beta.est0 #modelo lm\n",
        "beta.est  #metodo QR\n",
        "beta.est1 #analitica\n",
        "\n",
        "sigma.est0 <- sqrt(sum((cars3$dist - X%*%beta.est0)^2)/47)\n",
        "sigma.est0\n",
        "#Matriz de covarianzas\n",
        "V0 <- solve(R)%*%t(solve(R))*(sigma.est0^2)\n",
        "V0\n",
        "#Varianzas\n",
        "as.data.frame(sqrt(diag(V0)))\n",
        "\n",
        "sigma.est <- sqrt(sum((cars3$dist - X%*%beta.est)^2)/47)\n",
        "sigma.est\n",
        "#Matriz de covarianzas\n",
        "V <- solve(R)%*%t(solve(R))*(sigma.est^2)\n",
        "V\n",
        "#Varianzas\n",
        "as.data.frame(sqrt(diag(V)))\n",
        "\n",
        "sigma.est1 <- sqrt(sum((cars3$dist - X%*%beta.est1)^2)/47)\n",
        "sigma.est1\n",
        "#Matriz de covarianzas\n",
        "V1 <- solve(R)%*%t(solve(R))*(sigma.est1^2)\n",
        "V1\n",
        "#Varianzas\n",
        "as.data.frame(sqrt(diag(V1)))"
      ],
      "metadata": {
        "id": "NtCQdJCe-3S4",
        "colab": {
          "base_uri": "https://localhost:8080/",
          "height": 1000
        },
        "outputId": "083f078e-8ba7-4269-d0e0-efe7313acc8b"
      },
      "execution_count": null,
      "outputs": [
        {
          "output_type": "display_data",
          "data": {
            "text/html": [
              "<table class=\"dataframe\">\n",
              "<caption>A matrix: 3 × 1 of type dbl</caption>\n",
              "<tbody>\n",
              "\t<tr><th scope=row>(Intercept)</th><td>3.23122795</td></tr>\n",
              "\t<tr><th scope=row>speed</th><td>0.80363073</td></tr>\n",
              "\t<tr><th scope=row>I(speed^2)</th><td>0.09391196</td></tr>\n",
              "</tbody>\n",
              "</table>\n"
            ],
            "text/markdown": "\nA matrix: 3 × 1 of type dbl\n\n| (Intercept) | 3.23122795 |\n| speed | 0.80363073 |\n| I(speed^2) | 0.09391196 |\n\n",
            "text/latex": "A matrix: 3 × 1 of type dbl\n\\begin{tabular}{r|l}\n\t(Intercept) & 3.23122795\\\\\n\tspeed & 0.80363073\\\\\n\tI(speed\\textasciicircum{}2) & 0.09391196\\\\\n\\end{tabular}\n",
            "text/plain": [
              "            [,1]      \n",
              "(Intercept) 3.23122795\n",
              "speed       0.80363073\n",
              "I(speed^2)  0.09391196"
            ]
          },
          "metadata": {}
        },
        {
          "output_type": "display_data",
          "data": {
            "text/html": [
              "<table class=\"dataframe\">\n",
              "<caption>A matrix: 3 × 1 of type dbl</caption>\n",
              "<tbody>\n",
              "\t<tr><th scope=row>(Intercept)</th><td>3.23122795</td></tr>\n",
              "\t<tr><th scope=row>speed</th><td>0.80363073</td></tr>\n",
              "\t<tr><th scope=row>I(speed^2)</th><td>0.09391196</td></tr>\n",
              "</tbody>\n",
              "</table>\n"
            ],
            "text/markdown": "\nA matrix: 3 × 1 of type dbl\n\n| (Intercept) | 3.23122795 |\n| speed | 0.80363073 |\n| I(speed^2) | 0.09391196 |\n\n",
            "text/latex": "A matrix: 3 × 1 of type dbl\n\\begin{tabular}{r|l}\n\t(Intercept) & 3.23122795\\\\\n\tspeed & 0.80363073\\\\\n\tI(speed\\textasciicircum{}2) & 0.09391196\\\\\n\\end{tabular}\n",
            "text/plain": [
              "            [,1]      \n",
              "(Intercept) 3.23122795\n",
              "speed       0.80363073\n",
              "I(speed^2)  0.09391196"
            ]
          },
          "metadata": {}
        },
        {
          "output_type": "display_data",
          "data": {
            "text/html": [
              "<table class=\"dataframe\">\n",
              "<caption>A matrix: 3 × 1 of type dbl</caption>\n",
              "<tbody>\n",
              "\t<tr><th scope=row>(Intercept)</th><td>3.23122795</td></tr>\n",
              "\t<tr><th scope=row>speed</th><td>0.80363073</td></tr>\n",
              "\t<tr><th scope=row>I(speed^2)</th><td>0.09391196</td></tr>\n",
              "</tbody>\n",
              "</table>\n"
            ],
            "text/markdown": "\nA matrix: 3 × 1 of type dbl\n\n| (Intercept) | 3.23122795 |\n| speed | 0.80363073 |\n| I(speed^2) | 0.09391196 |\n\n",
            "text/latex": "A matrix: 3 × 1 of type dbl\n\\begin{tabular}{r|l}\n\t(Intercept) & 3.23122795\\\\\n\tspeed & 0.80363073\\\\\n\tI(speed\\textasciicircum{}2) & 0.09391196\\\\\n\\end{tabular}\n",
            "text/plain": [
              "            [,1]      \n",
              "(Intercept) 3.23122795\n",
              "speed       0.80363073\n",
              "I(speed^2)  0.09391196"
            ]
          },
          "metadata": {}
        },
        {
          "output_type": "display_data",
          "data": {
            "text/html": [
              "11.1794150700938"
            ],
            "text/markdown": "11.1794150700938",
            "text/latex": "11.1794150700938",
            "text/plain": [
              "[1] 11.17942"
            ]
          },
          "metadata": {}
        },
        {
          "output_type": "display_data",
          "data": {
            "text/html": [
              "<table class=\"dataframe\">\n",
              "<caption>A matrix: 3 × 3 of type dbl</caption>\n",
              "<thead>\n",
              "\t<tr><th></th><th scope=col>(Intercept)</th><th scope=col>speed</th><th scope=col>I(speed^2)</th></tr>\n",
              "</thead>\n",
              "<tbody>\n",
              "\t<tr><th scope=row>(Intercept)</th><td>122.5750702</td><td>-16.3615936</td><td> 0.498362090</td></tr>\n",
              "\t<tr><th scope=row>speed</th><td>-16.3615936</td><td>  2.3700791</td><td>-0.076099700</td></tr>\n",
              "\t<tr><th scope=row>I(speed^2)</th><td>  0.4983621</td><td> -0.0760997</td><td> 0.002547986</td></tr>\n",
              "</tbody>\n",
              "</table>\n"
            ],
            "text/markdown": "\nA matrix: 3 × 3 of type dbl\n\n| <!--/--> | (Intercept) | speed | I(speed^2) |\n|---|---|---|---|\n| (Intercept) | 122.5750702 | -16.3615936 |  0.498362090 |\n| speed | -16.3615936 |   2.3700791 | -0.076099700 |\n| I(speed^2) |   0.4983621 |  -0.0760997 |  0.002547986 |\n\n",
            "text/latex": "A matrix: 3 × 3 of type dbl\n\\begin{tabular}{r|lll}\n  & (Intercept) & speed & I(speed\\textasciicircum{}2)\\\\\n\\hline\n\t(Intercept) & 122.5750702 & -16.3615936 &  0.498362090\\\\\n\tspeed & -16.3615936 &   2.3700791 & -0.076099700\\\\\n\tI(speed\\textasciicircum{}2) &   0.4983621 &  -0.0760997 &  0.002547986\\\\\n\\end{tabular}\n",
            "text/plain": [
              "            (Intercept) speed       I(speed^2)  \n",
              "(Intercept) 122.5750702 -16.3615936  0.498362090\n",
              "speed       -16.3615936   2.3700791 -0.076099700\n",
              "I(speed^2)    0.4983621  -0.0760997  0.002547986"
            ]
          },
          "metadata": {}
        },
        {
          "output_type": "display_data",
          "data": {
            "text/html": [
              "<table class=\"dataframe\">\n",
              "<caption>A data.frame: 3 × 1</caption>\n",
              "<thead>\n",
              "\t<tr><th></th><th scope=col>sqrt(diag(V0))</th></tr>\n",
              "\t<tr><th></th><th scope=col>&lt;dbl&gt;</th></tr>\n",
              "</thead>\n",
              "<tbody>\n",
              "\t<tr><th scope=row>(Intercept)</th><td>11.07136262</td></tr>\n",
              "\t<tr><th scope=row>speed</th><td> 1.53950611</td></tr>\n",
              "\t<tr><th scope=row>I(speed^2)</th><td> 0.05047758</td></tr>\n",
              "</tbody>\n",
              "</table>\n"
            ],
            "text/markdown": "\nA data.frame: 3 × 1\n\n| <!--/--> | sqrt(diag(V0)) &lt;dbl&gt; |\n|---|---|\n| (Intercept) | 11.07136262 |\n| speed |  1.53950611 |\n| I(speed^2) |  0.05047758 |\n\n",
            "text/latex": "A data.frame: 3 × 1\n\\begin{tabular}{r|l}\n  & sqrt(diag(V0))\\\\\n  & <dbl>\\\\\n\\hline\n\t(Intercept) & 11.07136262\\\\\n\tspeed &  1.53950611\\\\\n\tI(speed\\textasciicircum{}2) &  0.05047758\\\\\n\\end{tabular}\n",
            "text/plain": [
              "            sqrt(diag(V0))\n",
              "(Intercept) 11.07136262   \n",
              "speed        1.53950611   \n",
              "I(speed^2)   0.05047758   "
            ]
          },
          "metadata": {}
        },
        {
          "output_type": "display_data",
          "data": {
            "text/html": [
              "11.1794150700938"
            ],
            "text/markdown": "11.1794150700938",
            "text/latex": "11.1794150700938",
            "text/plain": [
              "[1] 11.17942"
            ]
          },
          "metadata": {}
        },
        {
          "output_type": "display_data",
          "data": {
            "text/html": [
              "<table class=\"dataframe\">\n",
              "<caption>A matrix: 3 × 3 of type dbl</caption>\n",
              "<thead>\n",
              "\t<tr><th></th><th scope=col>(Intercept)</th><th scope=col>speed</th><th scope=col>I(speed^2)</th></tr>\n",
              "</thead>\n",
              "<tbody>\n",
              "\t<tr><th scope=row>(Intercept)</th><td>122.5750702</td><td>-16.3615936</td><td> 0.498362090</td></tr>\n",
              "\t<tr><th scope=row>speed</th><td>-16.3615936</td><td>  2.3700791</td><td>-0.076099700</td></tr>\n",
              "\t<tr><th scope=row>I(speed^2)</th><td>  0.4983621</td><td> -0.0760997</td><td> 0.002547986</td></tr>\n",
              "</tbody>\n",
              "</table>\n"
            ],
            "text/markdown": "\nA matrix: 3 × 3 of type dbl\n\n| <!--/--> | (Intercept) | speed | I(speed^2) |\n|---|---|---|---|\n| (Intercept) | 122.5750702 | -16.3615936 |  0.498362090 |\n| speed | -16.3615936 |   2.3700791 | -0.076099700 |\n| I(speed^2) |   0.4983621 |  -0.0760997 |  0.002547986 |\n\n",
            "text/latex": "A matrix: 3 × 3 of type dbl\n\\begin{tabular}{r|lll}\n  & (Intercept) & speed & I(speed\\textasciicircum{}2)\\\\\n\\hline\n\t(Intercept) & 122.5750702 & -16.3615936 &  0.498362090\\\\\n\tspeed & -16.3615936 &   2.3700791 & -0.076099700\\\\\n\tI(speed\\textasciicircum{}2) &   0.4983621 &  -0.0760997 &  0.002547986\\\\\n\\end{tabular}\n",
            "text/plain": [
              "            (Intercept) speed       I(speed^2)  \n",
              "(Intercept) 122.5750702 -16.3615936  0.498362090\n",
              "speed       -16.3615936   2.3700791 -0.076099700\n",
              "I(speed^2)    0.4983621  -0.0760997  0.002547986"
            ]
          },
          "metadata": {}
        },
        {
          "output_type": "display_data",
          "data": {
            "text/html": [
              "<table class=\"dataframe\">\n",
              "<caption>A data.frame: 3 × 1</caption>\n",
              "<thead>\n",
              "\t<tr><th></th><th scope=col>sqrt(diag(V))</th></tr>\n",
              "\t<tr><th></th><th scope=col>&lt;dbl&gt;</th></tr>\n",
              "</thead>\n",
              "<tbody>\n",
              "\t<tr><th scope=row>(Intercept)</th><td>11.07136262</td></tr>\n",
              "\t<tr><th scope=row>speed</th><td> 1.53950611</td></tr>\n",
              "\t<tr><th scope=row>I(speed^2)</th><td> 0.05047758</td></tr>\n",
              "</tbody>\n",
              "</table>\n"
            ],
            "text/markdown": "\nA data.frame: 3 × 1\n\n| <!--/--> | sqrt(diag(V)) &lt;dbl&gt; |\n|---|---|\n| (Intercept) | 11.07136262 |\n| speed |  1.53950611 |\n| I(speed^2) |  0.05047758 |\n\n",
            "text/latex": "A data.frame: 3 × 1\n\\begin{tabular}{r|l}\n  & sqrt(diag(V))\\\\\n  & <dbl>\\\\\n\\hline\n\t(Intercept) & 11.07136262\\\\\n\tspeed &  1.53950611\\\\\n\tI(speed\\textasciicircum{}2) &  0.05047758\\\\\n\\end{tabular}\n",
            "text/plain": [
              "            sqrt(diag(V))\n",
              "(Intercept) 11.07136262  \n",
              "speed        1.53950611  \n",
              "I(speed^2)   0.05047758  "
            ]
          },
          "metadata": {}
        },
        {
          "output_type": "display_data",
          "data": {
            "text/html": [
              "11.1794150700938"
            ],
            "text/markdown": "11.1794150700938",
            "text/latex": "11.1794150700938",
            "text/plain": [
              "[1] 11.17942"
            ]
          },
          "metadata": {}
        },
        {
          "output_type": "display_data",
          "data": {
            "text/html": [
              "<table class=\"dataframe\">\n",
              "<caption>A matrix: 3 × 3 of type dbl</caption>\n",
              "<thead>\n",
              "\t<tr><th></th><th scope=col>(Intercept)</th><th scope=col>speed</th><th scope=col>I(speed^2)</th></tr>\n",
              "</thead>\n",
              "<tbody>\n",
              "\t<tr><th scope=row>(Intercept)</th><td>122.5750702</td><td>-16.3615936</td><td> 0.498362090</td></tr>\n",
              "\t<tr><th scope=row>speed</th><td>-16.3615936</td><td>  2.3700791</td><td>-0.076099700</td></tr>\n",
              "\t<tr><th scope=row>I(speed^2)</th><td>  0.4983621</td><td> -0.0760997</td><td> 0.002547986</td></tr>\n",
              "</tbody>\n",
              "</table>\n"
            ],
            "text/markdown": "\nA matrix: 3 × 3 of type dbl\n\n| <!--/--> | (Intercept) | speed | I(speed^2) |\n|---|---|---|---|\n| (Intercept) | 122.5750702 | -16.3615936 |  0.498362090 |\n| speed | -16.3615936 |   2.3700791 | -0.076099700 |\n| I(speed^2) |   0.4983621 |  -0.0760997 |  0.002547986 |\n\n",
            "text/latex": "A matrix: 3 × 3 of type dbl\n\\begin{tabular}{r|lll}\n  & (Intercept) & speed & I(speed\\textasciicircum{}2)\\\\\n\\hline\n\t(Intercept) & 122.5750702 & -16.3615936 &  0.498362090\\\\\n\tspeed & -16.3615936 &   2.3700791 & -0.076099700\\\\\n\tI(speed\\textasciicircum{}2) &   0.4983621 &  -0.0760997 &  0.002547986\\\\\n\\end{tabular}\n",
            "text/plain": [
              "            (Intercept) speed       I(speed^2)  \n",
              "(Intercept) 122.5750702 -16.3615936  0.498362090\n",
              "speed       -16.3615936   2.3700791 -0.076099700\n",
              "I(speed^2)    0.4983621  -0.0760997  0.002547986"
            ]
          },
          "metadata": {}
        },
        {
          "output_type": "display_data",
          "data": {
            "text/html": [
              "<table class=\"dataframe\">\n",
              "<caption>A data.frame: 3 × 1</caption>\n",
              "<thead>\n",
              "\t<tr><th></th><th scope=col>sqrt(diag(V1))</th></tr>\n",
              "\t<tr><th></th><th scope=col>&lt;dbl&gt;</th></tr>\n",
              "</thead>\n",
              "<tbody>\n",
              "\t<tr><th scope=row>(Intercept)</th><td>11.07136262</td></tr>\n",
              "\t<tr><th scope=row>speed</th><td> 1.53950611</td></tr>\n",
              "\t<tr><th scope=row>I(speed^2)</th><td> 0.05047758</td></tr>\n",
              "</tbody>\n",
              "</table>\n"
            ],
            "text/markdown": "\nA data.frame: 3 × 1\n\n| <!--/--> | sqrt(diag(V1)) &lt;dbl&gt; |\n|---|---|\n| (Intercept) | 11.07136262 |\n| speed |  1.53950611 |\n| I(speed^2) |  0.05047758 |\n\n",
            "text/latex": "A data.frame: 3 × 1\n\\begin{tabular}{r|l}\n  & sqrt(diag(V1))\\\\\n  & <dbl>\\\\\n\\hline\n\t(Intercept) & 11.07136262\\\\\n\tspeed &  1.53950611\\\\\n\tI(speed\\textasciicircum{}2) &  0.05047758\\\\\n\\end{tabular}\n",
            "text/plain": [
              "            sqrt(diag(V1))\n",
              "(Intercept) 11.07136262   \n",
              "speed        1.53950611   \n",
              "I(speed^2)   0.05047758   "
            ]
          },
          "metadata": {}
        }
      ]
    },
    {
      "cell_type": "code",
      "source": [
        "# b) estadistico t y p_value asociado\n",
        "t0 <- beta.est0/sqrt(diag(V0))\n",
        "t0\n",
        "\n",
        "t <- beta.est/sqrt(diag(V))\n",
        "t\n",
        "\n",
        "t1 <- beta.est/sqrt(diag(V1))\n",
        "t1\n",
        "\n",
        "p_value <- 2*(1 - pt(t1, 47))\n",
        "p_value\n",
        "summary(cars.mod3)"
      ],
      "metadata": {
        "id": "IIP2HLoTJQ4R",
        "colab": {
          "base_uri": "https://localhost:8080/",
          "height": 828
        },
        "outputId": "d24165bc-e6eb-4399-bd5a-53bad4f5e48f"
      },
      "execution_count": null,
      "outputs": [
        {
          "output_type": "display_data",
          "data": {
            "text/html": [
              "<table class=\"dataframe\">\n",
              "<caption>A matrix: 3 × 1 of type dbl</caption>\n",
              "<tbody>\n",
              "\t<tr><th scope=row>(Intercept)</th><td>0.2918546</td></tr>\n",
              "\t<tr><th scope=row>speed</th><td>0.5220055</td></tr>\n",
              "\t<tr><th scope=row>I(speed^2)</th><td>1.8604688</td></tr>\n",
              "</tbody>\n",
              "</table>\n"
            ],
            "text/markdown": "\nA matrix: 3 × 1 of type dbl\n\n| (Intercept) | 0.2918546 |\n| speed | 0.5220055 |\n| I(speed^2) | 1.8604688 |\n\n",
            "text/latex": "A matrix: 3 × 1 of type dbl\n\\begin{tabular}{r|l}\n\t(Intercept) & 0.2918546\\\\\n\tspeed & 0.5220055\\\\\n\tI(speed\\textasciicircum{}2) & 1.8604688\\\\\n\\end{tabular}\n",
            "text/plain": [
              "            [,1]     \n",
              "(Intercept) 0.2918546\n",
              "speed       0.5220055\n",
              "I(speed^2)  1.8604688"
            ]
          },
          "metadata": {}
        },
        {
          "output_type": "display_data",
          "data": {
            "text/html": [
              "<table class=\"dataframe\">\n",
              "<caption>A matrix: 3 × 1 of type dbl</caption>\n",
              "<tbody>\n",
              "\t<tr><th scope=row>(Intercept)</th><td>0.2918546</td></tr>\n",
              "\t<tr><th scope=row>speed</th><td>0.5220055</td></tr>\n",
              "\t<tr><th scope=row>I(speed^2)</th><td>1.8604688</td></tr>\n",
              "</tbody>\n",
              "</table>\n"
            ],
            "text/markdown": "\nA matrix: 3 × 1 of type dbl\n\n| (Intercept) | 0.2918546 |\n| speed | 0.5220055 |\n| I(speed^2) | 1.8604688 |\n\n",
            "text/latex": "A matrix: 3 × 1 of type dbl\n\\begin{tabular}{r|l}\n\t(Intercept) & 0.2918546\\\\\n\tspeed & 0.5220055\\\\\n\tI(speed\\textasciicircum{}2) & 1.8604688\\\\\n\\end{tabular}\n",
            "text/plain": [
              "            [,1]     \n",
              "(Intercept) 0.2918546\n",
              "speed       0.5220055\n",
              "I(speed^2)  1.8604688"
            ]
          },
          "metadata": {}
        },
        {
          "output_type": "display_data",
          "data": {
            "text/html": [
              "<table class=\"dataframe\">\n",
              "<caption>A matrix: 3 × 1 of type dbl</caption>\n",
              "<tbody>\n",
              "\t<tr><th scope=row>(Intercept)</th><td>0.2918546</td></tr>\n",
              "\t<tr><th scope=row>speed</th><td>0.5220055</td></tr>\n",
              "\t<tr><th scope=row>I(speed^2)</th><td>1.8604688</td></tr>\n",
              "</tbody>\n",
              "</table>\n"
            ],
            "text/markdown": "\nA matrix: 3 × 1 of type dbl\n\n| (Intercept) | 0.2918546 |\n| speed | 0.5220055 |\n| I(speed^2) | 1.8604688 |\n\n",
            "text/latex": "A matrix: 3 × 1 of type dbl\n\\begin{tabular}{r|l}\n\t(Intercept) & 0.2918546\\\\\n\tspeed & 0.5220055\\\\\n\tI(speed\\textasciicircum{}2) & 1.8604688\\\\\n\\end{tabular}\n",
            "text/plain": [
              "            [,1]     \n",
              "(Intercept) 0.2918546\n",
              "speed       0.5220055\n",
              "I(speed^2)  1.8604688"
            ]
          },
          "metadata": {}
        },
        {
          "output_type": "display_data",
          "data": {
            "text/html": [
              "<table class=\"dataframe\">\n",
              "<caption>A matrix: 3 × 1 of type dbl</caption>\n",
              "<tbody>\n",
              "\t<tr><th scope=row>(Intercept)</th><td>0.77168218</td></tr>\n",
              "\t<tr><th scope=row>speed</th><td>0.60411810</td></tr>\n",
              "\t<tr><th scope=row>I(speed^2)</th><td>0.06908236</td></tr>\n",
              "</tbody>\n",
              "</table>\n"
            ],
            "text/markdown": "\nA matrix: 3 × 1 of type dbl\n\n| (Intercept) | 0.77168218 |\n| speed | 0.60411810 |\n| I(speed^2) | 0.06908236 |\n\n",
            "text/latex": "A matrix: 3 × 1 of type dbl\n\\begin{tabular}{r|l}\n\t(Intercept) & 0.77168218\\\\\n\tspeed & 0.60411810\\\\\n\tI(speed\\textasciicircum{}2) & 0.06908236\\\\\n\\end{tabular}\n",
            "text/plain": [
              "            [,1]      \n",
              "(Intercept) 0.77168218\n",
              "speed       0.60411810\n",
              "I(speed^2)  0.06908236"
            ]
          },
          "metadata": {}
        },
        {
          "output_type": "display_data",
          "data": {
            "text/plain": [
              "\n",
              "Call:\n",
              "lm(formula = dist ~ speed + I(speed^2), data = cars[-c(23, 35, \n",
              "    49), ])\n",
              "\n",
              "Residuals:\n",
              "     Min       1Q   Median       3Q      Max \n",
              "-24.8686  -6.7502  -0.8686   5.6539  27.8759 \n",
              "\n",
              "Coefficients:\n",
              "            Estimate Std. Error t value Pr(>|t|)  \n",
              "(Intercept)  3.23123   11.44257   0.282   0.7790  \n",
              "speed        0.80363    1.59112   0.505   0.6160  \n",
              "I(speed^2)   0.09391    0.05217   1.800   0.0787 .\n",
              "---\n",
              "Signif. codes:  0 ‘***’ 0.001 ‘**’ 0.01 ‘*’ 0.05 ‘.’ 0.1 ‘ ’ 1\n",
              "\n",
              "Residual standard error: 11.55 on 44 degrees of freedom\n",
              "Multiple R-squared:  0.7451,\tAdjusted R-squared:  0.7335 \n",
              "F-statistic:  64.3 on 2 and 44 DF,  p-value: 8.731e-14\n"
            ]
          },
          "metadata": {}
        }
      ]
    },
    {
      "cell_type": "code",
      "source": [
        "# c) Factorizacion de Cholesky\n",
        "L <- chol(t(X)%*%X)\n",
        "L\n",
        "t(L)%*%L\n",
        "t(X)%*%X\n",
        "\n",
        "beta.est2 <- L%*%(t(X)%*%cars3$dist)\n",
        "beta.est2"
      ],
      "metadata": {
        "id": "sudBMyWtPMYp",
        "colab": {
          "base_uri": "https://localhost:8080/",
          "height": 559
        },
        "outputId": "b144e2a7-c92d-4eab-b33c-0e25f47749e9"
      },
      "execution_count": null,
      "outputs": [
        {
          "output_type": "display_data",
          "data": {
            "text/html": [
              "<table class=\"dataframe\">\n",
              "<caption>A matrix: 3 × 3 of type dbl</caption>\n",
              "<thead>\n",
              "\t<tr><th></th><th scope=col>(Intercept)</th><th scope=col>speed</th><th scope=col>I(speed^2)</th></tr>\n",
              "</thead>\n",
              "<tbody>\n",
              "\t<tr><th scope=row>(Intercept)</th><td>6.855655</td><td>104.14760</td><td>1769.6341</td></tr>\n",
              "\t<tr><th scope=row>speed</th><td>0.000000</td><td> 35.85075</td><td>1070.7404</td></tr>\n",
              "\t<tr><th scope=row>I(speed^2)</th><td>0.000000</td><td>  0.00000</td><td> 221.4729</td></tr>\n",
              "</tbody>\n",
              "</table>\n"
            ],
            "text/markdown": "\nA matrix: 3 × 3 of type dbl\n\n| <!--/--> | (Intercept) | speed | I(speed^2) |\n|---|---|---|---|\n| (Intercept) | 6.855655 | 104.14760 | 1769.6341 |\n| speed | 0.000000 |  35.85075 | 1070.7404 |\n| I(speed^2) | 0.000000 |   0.00000 |  221.4729 |\n\n",
            "text/latex": "A matrix: 3 × 3 of type dbl\n\\begin{tabular}{r|lll}\n  & (Intercept) & speed & I(speed\\textasciicircum{}2)\\\\\n\\hline\n\t(Intercept) & 6.855655 & 104.14760 & 1769.6341\\\\\n\tspeed & 0.000000 &  35.85075 & 1070.7404\\\\\n\tI(speed\\textasciicircum{}2) & 0.000000 &   0.00000 &  221.4729\\\\\n\\end{tabular}\n",
            "text/plain": [
              "            (Intercept) speed     I(speed^2)\n",
              "(Intercept) 6.855655    104.14760 1769.6341 \n",
              "speed       0.000000     35.85075 1070.7404 \n",
              "I(speed^2)  0.000000      0.00000  221.4729 "
            ]
          },
          "metadata": {}
        },
        {
          "output_type": "display_data",
          "data": {
            "text/html": [
              "<table class=\"dataframe\">\n",
              "<caption>A matrix: 3 × 3 of type dbl</caption>\n",
              "<thead>\n",
              "\t<tr><th></th><th scope=col>(Intercept)</th><th scope=col>speed</th><th scope=col>I(speed^2)</th></tr>\n",
              "</thead>\n",
              "<tbody>\n",
              "\t<tr><th scope=row>(Intercept)</th><td>   47</td><td>   714</td><td>  12132</td></tr>\n",
              "\t<tr><th scope=row>speed</th><td>  714</td><td> 12132</td><td> 222690</td></tr>\n",
              "\t<tr><th scope=row>I(speed^2)</th><td>12132</td><td>222690</td><td>4327140</td></tr>\n",
              "</tbody>\n",
              "</table>\n"
            ],
            "text/markdown": "\nA matrix: 3 × 3 of type dbl\n\n| <!--/--> | (Intercept) | speed | I(speed^2) |\n|---|---|---|---|\n| (Intercept) |    47 |    714 |   12132 |\n| speed |   714 |  12132 |  222690 |\n| I(speed^2) | 12132 | 222690 | 4327140 |\n\n",
            "text/latex": "A matrix: 3 × 3 of type dbl\n\\begin{tabular}{r|lll}\n  & (Intercept) & speed & I(speed\\textasciicircum{}2)\\\\\n\\hline\n\t(Intercept) &    47 &    714 &   12132\\\\\n\tspeed &   714 &  12132 &  222690\\\\\n\tI(speed\\textasciicircum{}2) & 12132 & 222690 & 4327140\\\\\n\\end{tabular}\n",
            "text/plain": [
              "            (Intercept) speed  I(speed^2)\n",
              "(Intercept)    47          714   12132   \n",
              "speed         714        12132  222690   \n",
              "I(speed^2)  12132       222690 4327140   "
            ]
          },
          "metadata": {}
        },
        {
          "output_type": "display_data",
          "data": {
            "text/html": [
              "<table class=\"dataframe\">\n",
              "<caption>A matrix: 3 × 3 of type dbl</caption>\n",
              "<thead>\n",
              "\t<tr><th></th><th scope=col>(Intercept)</th><th scope=col>speed</th><th scope=col>I(speed^2)</th></tr>\n",
              "</thead>\n",
              "<tbody>\n",
              "\t<tr><th scope=row>(Intercept)</th><td>   47</td><td>   714</td><td>  12132</td></tr>\n",
              "\t<tr><th scope=row>speed</th><td>  714</td><td> 12132</td><td> 222690</td></tr>\n",
              "\t<tr><th scope=row>I(speed^2)</th><td>12132</td><td>222690</td><td>4327140</td></tr>\n",
              "</tbody>\n",
              "</table>\n"
            ],
            "text/markdown": "\nA matrix: 3 × 3 of type dbl\n\n| <!--/--> | (Intercept) | speed | I(speed^2) |\n|---|---|---|---|\n| (Intercept) |    47 |    714 |   12132 |\n| speed |   714 |  12132 |  222690 |\n| I(speed^2) | 12132 | 222690 | 4327140 |\n\n",
            "text/latex": "A matrix: 3 × 3 of type dbl\n\\begin{tabular}{r|lll}\n  & (Intercept) & speed & I(speed\\textasciicircum{}2)\\\\\n\\hline\n\t(Intercept) &    47 &    714 &   12132\\\\\n\tspeed &   714 &  12132 &  222690\\\\\n\tI(speed\\textasciicircum{}2) & 12132 & 222690 & 4327140\\\\\n\\end{tabular}\n",
            "text/plain": [
              "            (Intercept) speed  I(speed^2)\n",
              "(Intercept)    47          714   12132   \n",
              "speed         714        12132  222690   \n",
              "I(speed^2)  12132       222690 4327140   "
            ]
          },
          "metadata": {}
        },
        {
          "output_type": "display_data",
          "data": {
            "text/html": [
              "<table class=\"dataframe\">\n",
              "<caption>A matrix: 3 × 1 of type dbl</caption>\n",
              "<tbody>\n",
              "\t<tr><th scope=row>(Intercept)</th><td>1108639642</td></tr>\n",
              "\t<tr><th scope=row>speed</th><td> 669893641</td></tr>\n",
              "\t<tr><th scope=row>I(speed^2)</th><td> 138316901</td></tr>\n",
              "</tbody>\n",
              "</table>\n"
            ],
            "text/markdown": "\nA matrix: 3 × 1 of type dbl\n\n| (Intercept) | 1108639642 |\n| speed |  669893641 |\n| I(speed^2) |  138316901 |\n\n",
            "text/latex": "A matrix: 3 × 1 of type dbl\n\\begin{tabular}{r|l}\n\t(Intercept) & 1108639642\\\\\n\tspeed &  669893641\\\\\n\tI(speed\\textasciicircum{}2) &  138316901\\\\\n\\end{tabular}\n",
            "text/plain": [
              "            [,1]      \n",
              "(Intercept) 1108639642\n",
              "speed        669893641\n",
              "I(speed^2)   138316901"
            ]
          },
          "metadata": {}
        }
      ]
    },
    {
      "cell_type": "code",
      "source": [
        "# e) Estadistico F y p-value asociado\n",
        "#Proponer modelo nulo\n",
        "mod.null <- lm(dist ~ 1, data = cars3)\n",
        "summary(mod.null)\n",
        "#mod.null$residuals\n",
        "X_0 <- model.matrix(mod.null)\n",
        "beta.est_0 <- mod.null$coefficients\n",
        "#Calcular los terminos de estadistico F\n",
        "A <- (sum((mod.null$dist - X_0%*%beta.est_0)^2) - sum((cars3$dist - X%*%beta.est)^2))/2\n",
        "B <- sum((cars3$dist - X%*%beta.est)^2)/47\n",
        "\n",
        "F_stat <- A/B\n",
        "F_stat"
      ],
      "metadata": {
        "id": "6wkkWMUxD7QZ",
        "colab": {
          "base_uri": "https://localhost:8080/",
          "height": 308
        },
        "outputId": "980bb17d-51f2-4306-ef3a-c68b2cae184f"
      },
      "execution_count": null,
      "outputs": [
        {
          "output_type": "display_data",
          "data": {
            "text/plain": [
              "\n",
              "Call:\n",
              "lm(formula = dist ~ 1, data = cars3)\n",
              "\n",
              "Residuals:\n",
              "    Min      1Q  Median      3Q     Max \n",
              "-37.681 -14.681  -5.681  14.319  53.319 \n",
              "\n",
              "Coefficients:\n",
              "            Estimate Std. Error t value Pr(>|t|)    \n",
              "(Intercept)   39.681      3.265   12.15 5.78e-16 ***\n",
              "---\n",
              "Signif. codes:  0 ‘***’ 0.001 ‘**’ 0.01 ‘*’ 0.05 ‘.’ 0.1 ‘ ’ 1\n",
              "\n",
              "Residual standard error: 22.38 on 46 degrees of freedom\n"
            ]
          },
          "metadata": {}
        },
        {
          "output_type": "display_data",
          "data": {
            "text/html": [
              "-23.5"
            ],
            "text/markdown": "-23.5",
            "text/latex": "-23.5",
            "text/plain": [
              "[1] -23.5"
            ]
          },
          "metadata": {}
        }
      ]
    }
  ]
}